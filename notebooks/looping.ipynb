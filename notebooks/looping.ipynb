{
 "cells": [
  {
   "cell_type": "markdown",
   "id": "845c86c0-9bfe-4288-b11a-ef5b5ff658f2",
   "metadata": {},
   "source": [
    "# Loops\n",
    "\n",
    "Loops are an essential flow control tool in any programming language. They allow repeating a set of operations multiple times, usually on different data items. This notebook gets into commonly used loops in Python a well as closely-related concepts.\n",
    "\n",
    "## Concepts in this notebook\n",
    "\n",
    "- `for` loops\n",
    "- Using a `range` to loop over a range of numbers\n",
    "- Using `enumerate()` to access both the item and the index inside a loop\n",
    "- Tuples\n",
    "- Unpacking tuples and lists\n",
    "- `while` loops\n",
    "- Exiting a loop early with `break`"
   ]
  },
  {
   "cell_type": "markdown",
   "id": "2136d785-dd0f-43e2-a25f-f09674bd9aac",
   "metadata": {},
   "source": [
    "In this notebook, we'll be working with a simple list of Arizona county names."
   ]
  },
  {
   "cell_type": "code",
   "execution_count": 1,
   "id": "e31eca18-0e64-4fac-8f29-1e79e208b084",
   "metadata": {},
   "outputs": [
    {
     "data": {
      "text/plain": [
       "['Apache County',\n",
       " 'Cochise County',\n",
       " 'Coconino County',\n",
       " 'Gila County',\n",
       " 'Graham County',\n",
       " 'Greenlee County',\n",
       " 'La Paz County',\n",
       " 'Maricopa County',\n",
       " 'Mohave County',\n",
       " 'Navajo County',\n",
       " 'Pima County',\n",
       " 'Pinal County',\n",
       " 'Santa Cruz County',\n",
       " 'Yavapai County',\n",
       " 'Yuma County']"
      ]
     },
     "execution_count": 1,
     "metadata": {},
     "output_type": "execute_result"
    }
   ],
   "source": [
    "# Create some data to work with\n",
    "\n",
    "az_counties = [\n",
    "    \"Apache County\",\n",
    "    \"Cochise County\",\n",
    "    \"Coconino County\",\n",
    "    \"Gila County\",\n",
    "    \"Graham County\",\n",
    "    \"Greenlee County\",\n",
    "    \"La Paz County\",\n",
    "    \"Maricopa County\",\n",
    "    \"Mohave County\",\n",
    "    \"Navajo County\",\n",
    "    \"Pima County\",\n",
    "    \"Pinal County\",\n",
    "    \"Santa Cruz County\",\n",
    "    \"Yavapai County\",\n",
    "    \"Yuma County\",\n",
    "]\n",
    "\n",
    "az_counties"
   ]
  },
  {
   "cell_type": "markdown",
   "id": "bbbdc222-3c8d-4adc-9c62-819274e54284",
   "metadata": {},
   "source": [
    "## A simple `for` loop\n",
    "\n",
    "The most common kind of loop in Python is a for loop, which iterates over items in an \"iterable\". An iterable is any object in Python that behaves like a list. For the purposes of this notebook, it's our list of counties.\n",
    "\n",
    "The syntax of a for loop is:\n",
    "\n",
    "```\n",
    "for list_item in list_of_items:\n",
    "    # Do stuff with list_item\n",
    "```\n",
    "\n",
    "In the cell below, we use a `for` loop to loop, or iterate, over our list of county names and print a message about each one."
   ]
  },
  {
   "cell_type": "code",
   "execution_count": 2,
   "id": "b19b7502-029e-4e4d-b9ad-26b8be7a8fb6",
   "metadata": {},
   "outputs": [
    {
     "name": "stdout",
     "output_type": "stream",
     "text": [
      "Apache County is a county in Arizona\n",
      "Cochise County is a county in Arizona\n",
      "Coconino County is a county in Arizona\n",
      "Gila County is a county in Arizona\n",
      "Graham County is a county in Arizona\n",
      "Greenlee County is a county in Arizona\n",
      "La Paz County is a county in Arizona\n",
      "Maricopa County is a county in Arizona\n",
      "Mohave County is a county in Arizona\n",
      "Navajo County is a county in Arizona\n",
      "Pima County is a county in Arizona\n",
      "Pinal County is a county in Arizona\n",
      "Santa Cruz County is a county in Arizona\n",
      "Yavapai County is a county in Arizona\n",
      "Yuma County is a county in Arizona\n"
     ]
    }
   ],
   "source": [
    "# Iterate over our list of county names and print a message about each one\n",
    "\n",
    "for county in az_counties:\n",
    "    print(f\"{county} is a county in Arizona\")"
   ]
  },
  {
   "cell_type": "markdown",
   "id": "4587ee81-fef4-46c0-bf4a-3c155fa3e841",
   "metadata": {},
   "source": [
    "## Iterating over numeric values\n",
    "\n",
    "It's common to use a `for` loop to loop over a range of numeric values. For that, we create a [`range`](https://docs.python.org/3/library/stdtypes.html#typesseq-range) object. A range object is created by calling the `range()` constructor with a number.\n",
    "\n",
    "Let's look and see what happens when we call `range(10)`."
   ]
  },
  {
   "cell_type": "code",
   "execution_count": 3,
   "id": "214e7ec4-be26-46f4-befa-0788e5590170",
   "metadata": {},
   "outputs": [
    {
     "data": {
      "text/plain": [
       "range(0, 10)"
      ]
     },
     "execution_count": 3,
     "metadata": {},
     "output_type": "execute_result"
    }
   ],
   "source": [
    "# Get a range object starting at zero and ending at 10\n",
    "\n",
    "range(10)"
   ]
  },
  {
   "cell_type": "markdown",
   "id": "4b0154e4-6b66-413a-bb16-64d636d4f928",
   "metadata": {},
   "source": [
    "That's not too helpful, but it does show us that 10 appears to be the upper limit of the range and that the default lower end of the range is zero.\n",
    "\n",
    "So calling `range(10)` tells Python, \"give me a numeric range that starts with zero and ends with 10.\"\n",
    "\n",
    "In order to see the values in the range, we need to convert it to a list."
   ]
  },
  {
   "cell_type": "code",
   "execution_count": 4,
   "id": "69ead000-c135-451f-b6e4-1df48c9ac1a8",
   "metadata": {},
   "outputs": [
    {
     "data": {
      "text/plain": [
       "[0, 1, 2, 3, 4, 5, 6, 7, 8, 9]"
      ]
     },
     "execution_count": 4,
     "metadata": {},
     "output_type": "execute_result"
    }
   ],
   "source": [
    "# Show the values in the range\n",
    "\n",
    "list(range(10))"
   ]
  },
  {
   "cell_type": "markdown",
   "id": "d3144312-786a-4e80-8a97-6eb51b8ae53a",
   "metadata": {},
   "source": [
    "From this we see that the range goes up to the limit we specified (10), but doesn't include it."
   ]
  },
  {
   "cell_type": "markdown",
   "id": "c125a1cd-02b4-465e-99e1-75e9f2ba2e4d",
   "metadata": {},
   "source": [
    "Now that we know a bit about ranges, we can combine the for loop and the range to make a simple loop that prints each number in the range.\n",
    "\n",
    "We call our range item `i`, but we could call it anything. It's just conventional to use `i` when referring to items in a range."
   ]
  },
  {
   "cell_type": "code",
   "execution_count": 5,
   "id": "9172a213-fa55-40f0-9e9e-2ba9b2d8bd68",
   "metadata": {},
   "outputs": [
    {
     "name": "stdout",
     "output_type": "stream",
     "text": [
      "0\n",
      "1\n",
      "2\n",
      "3\n",
      "4\n",
      "5\n",
      "6\n",
      "7\n",
      "8\n",
      "9\n"
     ]
    }
   ],
   "source": [
    "# Loop over the range and print each number\n",
    "\n",
    "for i in range(10):\n",
    "    print(i)"
   ]
  },
  {
   "cell_type": "markdown",
   "id": "53a43e78-d675-4ed2-99a6-fce024841575",
   "metadata": {},
   "source": [
    "Remember that ranges, by default, start at zero and go up to, but do not include, the limit.\n",
    "\n",
    "To count from 1 to 10 in our loop, we would need to specify a different starting point and a limit that is one greater."
   ]
  },
  {
   "cell_type": "code",
   "execution_count": 6,
   "id": "f8e564c7-952f-4ed6-91a7-6796b380efc4",
   "metadata": {},
   "outputs": [
    {
     "name": "stdout",
     "output_type": "stream",
     "text": [
      "1\n",
      "2\n",
      "3\n",
      "4\n",
      "5\n",
      "6\n",
      "7\n",
      "8\n",
      "9\n",
      "10\n"
     ]
    }
   ],
   "source": [
    "# Print the numbers 1 through 10\n",
    "\n",
    "for i in range(1, 11):\n",
    "    print(i)"
   ]
  },
  {
   "cell_type": "markdown",
   "id": "b8f4f6f0-bef1-4769-a524-878e090a5dfa",
   "metadata": {},
   "source": [
    "We can also specify a third argument to specify the step to use between numbers in the range. So if we wanted to print out every decade since 1900, our loop would look like this:"
   ]
  },
  {
   "cell_type": "code",
   "execution_count": 7,
   "id": "127b128f-27d9-43f1-bcfb-884a3a7cce42",
   "metadata": {},
   "outputs": [
    {
     "name": "stdout",
     "output_type": "stream",
     "text": [
      "1900\n",
      "1910\n",
      "1920\n",
      "1930\n",
      "1940\n",
      "1950\n",
      "1960\n",
      "1970\n",
      "1980\n",
      "1990\n",
      "2000\n",
      "2010\n",
      "2020\n"
     ]
    }
   ],
   "source": [
    "# Print every decade from 1900 to 2022\n",
    "\n",
    "for decade in range(1900, 2022, 10):\n",
    "    print(decade)"
   ]
  },
  {
   "cell_type": "markdown",
   "id": "8475ec8d-2cc0-4b9e-9c69-85ab42217108",
   "metadata": {},
   "source": [
    "## Getting the index and the item when looping over a list"
   ]
  },
  {
   "cell_type": "markdown",
   "id": "8ef58260-bbf3-4b5c-8961-02b3cc7aa891",
   "metadata": {},
   "source": [
    "Recall how we looped over the list of counties."
   ]
  },
  {
   "cell_type": "code",
   "execution_count": 8,
   "id": "25a33cdf-2313-4ecf-babd-d4db01d6b354",
   "metadata": {},
   "outputs": [
    {
     "name": "stdout",
     "output_type": "stream",
     "text": [
      "Apache County is a county in Arizona\n",
      "Cochise County is a county in Arizona\n",
      "Coconino County is a county in Arizona\n",
      "Gila County is a county in Arizona\n",
      "Graham County is a county in Arizona\n",
      "Greenlee County is a county in Arizona\n",
      "La Paz County is a county in Arizona\n",
      "Maricopa County is a county in Arizona\n",
      "Mohave County is a county in Arizona\n",
      "Navajo County is a county in Arizona\n",
      "Pima County is a county in Arizona\n",
      "Pinal County is a county in Arizona\n",
      "Santa Cruz County is a county in Arizona\n",
      "Yavapai County is a county in Arizona\n",
      "Yuma County is a county in Arizona\n"
     ]
    }
   ],
   "source": [
    "# Iterate over our list of county names and print a message about each one\n",
    "\n",
    "for county in az_counties:\n",
    "    print(f\"{county} is a county in Arizona\")"
   ]
  },
  {
   "cell_type": "markdown",
   "id": "4c635c8e-20a5-4c88-aad3-f723120d1df1",
   "metadata": {},
   "source": [
    "Sometimes you not only need the items in a list, but also need to know their position in the list. For this, we used the [`enumerate()`](https://docs.python.org/3/library/functions.html#enumerate) function.\n",
    "\n",
    "Often the reason for doing this is because you might want to handle the first (or last, or every tenth) item of the list differently.\n",
    "\n",
    "Let's look at an example and then try to understand it. Again, we could call the index value anything, but it's conventional to use `i`."
   ]
  },
  {
   "cell_type": "code",
   "execution_count": 9,
   "id": "feb95754-7436-4528-a325-038af99fa747",
   "metadata": {},
   "outputs": [
    {
     "name": "stdout",
     "output_type": "stream",
     "text": [
      "The county at index 0 in the list is Apache County.\n",
      "The county at index 1 in the list is Cochise County.\n",
      "The county at index 2 in the list is Coconino County.\n",
      "The county at index 3 in the list is Gila County.\n",
      "The county at index 4 in the list is Graham County.\n",
      "The county at index 5 in the list is Greenlee County.\n",
      "The county at index 6 in the list is La Paz County.\n",
      "The county at index 7 in the list is Maricopa County.\n",
      "The county at index 8 in the list is Mohave County.\n",
      "The county at index 9 in the list is Navajo County.\n",
      "The county at index 10 in the list is Pima County.\n",
      "The county at index 11 in the list is Pinal County.\n",
      "The county at index 12 in the list is Santa Cruz County.\n",
      "The county at index 13 in the list is Yavapai County.\n",
      "The county at index 14 in the list is Yuma County.\n"
     ]
    }
   ],
   "source": [
    "# Loop over counties along with their indices and print a\n",
    "# message showing both.\n",
    "\n",
    "for i, county in enumerate(az_counties):\n",
    "    print(f\"The county at index {i} in the list is {county}.\")"
   ]
  },
  {
   "cell_type": "markdown",
   "id": "63a888f2-f90c-4ec0-9676-ec24a474f8a6",
   "metadata": {},
   "source": [
    "## Tuples"
   ]
  },
  {
   "cell_type": "markdown",
   "id": "66c75b9f-824d-4a4a-b9ba-288b40e9493f",
   "metadata": {},
   "source": [
    "You may have noticed that after the `for`, we're accessing two variables, `i` and `county` rather than just one as we did before. What's going on?\n",
    "\n",
    "Let's try just accessing the values from `enumerate()` as a single value."
   ]
  },
  {
   "cell_type": "code",
   "execution_count": 10,
   "id": "b5dfebbc-212a-4cae-8513-a50d0c5d6f72",
   "metadata": {},
   "outputs": [
    {
     "name": "stdout",
     "output_type": "stream",
     "text": [
      "(0, 'Apache County')\n",
      "(1, 'Cochise County')\n",
      "(2, 'Coconino County')\n",
      "(3, 'Gila County')\n",
      "(4, 'Graham County')\n",
      "(5, 'Greenlee County')\n",
      "(6, 'La Paz County')\n",
      "(7, 'Maricopa County')\n",
      "(8, 'Mohave County')\n",
      "(9, 'Navajo County')\n",
      "(10, 'Pima County')\n",
      "(11, 'Pinal County')\n",
      "(12, 'Santa Cruz County')\n",
      "(13, 'Yavapai County')\n",
      "(14, 'Yuma County')\n"
     ]
    }
   ],
   "source": [
    "# Accessing the values from `enumerate()` as a single value.\n",
    "\n",
    "for index_and_county in enumerate(az_counties):\n",
    "    print(index_and_county)"
   ]
  },
  {
   "cell_type": "markdown",
   "id": "b9cd120f-fddc-4b63-b9be-854746c6208e",
   "metadata": {},
   "source": [
    "So each item returned by enumerate is a pair of values. This is a data structure in python called a tuple. Note that a tuple can have more than just two values.\n",
    "\n",
    "We can unpack the items in a tuple, which is what we were doing in the first `for` loop that used `enumerate()`.\n",
    "\n",
    "For more on tuples and this unpacking syntax, see [Tuple Assignment, Packing, and Unpacking](https://realpython.com/lessons/tuple-assignment-packing-unpacking/)."
   ]
  },
  {
   "cell_type": "code",
   "execution_count": 11,
   "id": "12a70c73-996b-424b-abb7-af96e026c6f3",
   "metadata": {},
   "outputs": [
    {
     "name": "stdout",
     "output_type": "stream",
     "text": [
      "3\n",
      "hello\n"
     ]
    }
   ],
   "source": [
    "# Unpack a tuple\n",
    "\n",
    "number, text = (3, \"hello\")\n",
    "\n",
    "print(number)\n",
    "print(text)"
   ]
  },
  {
   "cell_type": "markdown",
   "id": "fdd8ec09-16ea-41c7-a0b5-094743e81c78",
   "metadata": {},
   "source": [
    "This unpacking syntax also works with lists. The difference between a list and a tuple are beyond the scope of this example, but the main difference is that a list is \"mutable\". You can change it by adding or removing items. You can't do this to tuples. That is, they're \"immutable\". For more on the differences between lists and tuples in Python, see [Lists vs Tuples in Python](https://stackabuse.com/lists-vs-tuples-in-python/)."
   ]
  },
  {
   "cell_type": "code",
   "execution_count": 12,
   "id": "0891bea7-c58a-43c2-8dc8-8955a9f7bc10",
   "metadata": {},
   "outputs": [
    {
     "name": "stdout",
     "output_type": "stream",
     "text": [
      "3\n",
      "hello\n"
     ]
    }
   ],
   "source": [
    "# Unpack a list\n",
    "\n",
    "number, text = [3, \"hello\"]\n",
    "\n",
    "print(number)\n",
    "print(text)"
   ]
  },
  {
   "cell_type": "markdown",
   "id": "333fbe1b-4504-471e-81f1-4e62f19b6953",
   "metadata": {},
   "source": [
    "## `while`: a different kind of loop\n",
    "\n",
    "A `for` loop isn't the only kind of loop available in Python, though it is more common. There is also a while loop.\n",
    "\n",
    "`for` loops loop over items in a list. `while` loops keep looping as long as a condition is `True`.\n",
    "\n",
    "Here's how we would loop over the county list using a `while` loop instead of a for loop."
   ]
  },
  {
   "cell_type": "code",
   "execution_count": 13,
   "id": "46562b74-3302-4f31-8ea3-f7cf4060e0ed",
   "metadata": {},
   "outputs": [
    {
     "name": "stdout",
     "output_type": "stream",
     "text": [
      "Apache County is a county in Arizona\n",
      "Cochise County is a county in Arizona\n",
      "Coconino County is a county in Arizona\n",
      "Gila County is a county in Arizona\n",
      "Graham County is a county in Arizona\n",
      "Greenlee County is a county in Arizona\n",
      "La Paz County is a county in Arizona\n",
      "Maricopa County is a county in Arizona\n",
      "Mohave County is a county in Arizona\n",
      "Navajo County is a county in Arizona\n",
      "Pima County is a county in Arizona\n",
      "Pinal County is a county in Arizona\n",
      "Santa Cruz County is a county in Arizona\n",
      "Yavapai County is a county in Arizona\n",
      "Yuma County is a county in Arizona\n"
     ]
    }
   ],
   "source": [
    "# Loop over list of counties using a while loop\n",
    "\n",
    "i = 0\n",
    "while i < len(az_counties):\n",
    "    county = az_counties[i]\n",
    "    print(f\"{county} is a county in Arizona\")\n",
    "    i += 1"
   ]
  },
  {
   "cell_type": "markdown",
   "id": "852b6337-2023-4d90-93a5-0661821450d3",
   "metadata": {},
   "source": [
    "For this contrived example, using a `while` loop is a lot more complicated than `for`.\n",
    "\n",
    "A `while` loop is often used when there isn't a fixed number of times we want to loop, or a fixed number of items to loop over.\n",
    "\n",
    "In this example, we'll keep picking a random item from the county list until we see Pima County."
   ]
  },
  {
   "cell_type": "code",
   "execution_count": 14,
   "id": "995af3dd-d1b3-4244-bf99-7e1b17c7ba12",
   "metadata": {},
   "outputs": [
    {
     "name": "stdout",
     "output_type": "stream",
     "text": [
      "We haven't seen Pima County yet, but we did see Coconino County\n",
      "We haven't seen Pima County yet, but we did see Apache County\n",
      "We haven't seen Pima County yet, but we did see Gila County\n",
      "We haven't seen Pima County yet, but we did see Gila County\n",
      "We haven't seen Pima County yet, but we did see Cochise County\n",
      "We haven't seen Pima County yet, but we did see La Paz County\n",
      "We haven't seen Pima County yet, but we did see Maricopa County\n",
      "We haven't seen Pima County yet, but we did see Mohave County\n",
      "We haven't seen Pima County yet, but we did see Graham County\n",
      "We haven't seen Pima County yet, but we did see Greenlee County\n",
      "We haven't seen Pima County yet, but we did see Gila County\n",
      "We saw Pima County.\n"
     ]
    }
   ],
   "source": [
    "# Keep grabbing random counties from the list.\n",
    "# Stop when we see Pima County\n",
    "\n",
    "import random\n",
    "\n",
    "# With while loops we often have to pre-set or select the initial value\n",
    "# before entering the loop.\n",
    "\n",
    "county = random.choice(az_counties)\n",
    "while county != \"Pima County\":\n",
    "    print(f\"We haven't seen Pima County yet, but we did see {county}\")\n",
    "    # We have to explicitly get the next county\n",
    "    county = random.choice(az_counties)\n",
    "    \n",
    "print(\"We saw Pima County.\")"
   ]
  },
  {
   "cell_type": "markdown",
   "id": "8b8305f3-bee1-4dfc-9a80-0012e66684d2",
   "metadata": {},
   "source": [
    "## Leaving the loop early\n",
    "\n",
    "You don't have to loop through every item. You can use `break` to leave the loop early. \n",
    "\n",
    "Here we use a `for` loop to loop through the county list and stop when we hit Pima County."
   ]
  },
  {
   "cell_type": "code",
   "execution_count": 15,
   "id": "a44c83f5-6cbe-40bb-bda0-52b5a83bd440",
   "metadata": {},
   "outputs": [
    {
     "name": "stdout",
     "output_type": "stream",
     "text": [
      "We haven't seen Pima County yet, but we did see Apache County\n",
      "We haven't seen Pima County yet, but we did see Cochise County\n",
      "We haven't seen Pima County yet, but we did see Coconino County\n",
      "We haven't seen Pima County yet, but we did see Gila County\n",
      "We haven't seen Pima County yet, but we did see Graham County\n",
      "We haven't seen Pima County yet, but we did see Greenlee County\n",
      "We haven't seen Pima County yet, but we did see La Paz County\n",
      "We haven't seen Pima County yet, but we did see Maricopa County\n",
      "We haven't seen Pima County yet, but we did see Mohave County\n",
      "We haven't seen Pima County yet, but we did see Navajo County\n",
      "We saw Pima County\n"
     ]
    }
   ],
   "source": [
    "# Loop through the county list and stop when we hit Pima County.\n",
    "\n",
    "for county in az_counties:\n",
    "    if county == \"Pima County\":\n",
    "        print(\"We saw Pima County\")\n",
    "        break\n",
    "        \n",
    "    # No need for an else statement because the break ensures we never\n",
    "    # reach this code if we see Pima County\n",
    "    print(f\"We haven't seen Pima County yet, but we did see {county}\")"
   ]
  },
  {
   "cell_type": "code",
   "execution_count": 16,
   "id": "39b34596-2f9d-4c8c-892a-ae29da204e73",
   "metadata": {},
   "outputs": [
    {
     "name": "stdout",
     "output_type": "stream",
     "text": [
      "We haven't seen Pima County yet, but we did see Yavapai County\n",
      "We haven't seen Pima County yet, but we did see Yavapai County\n",
      "We haven't seen Pima County yet, but we did see Yuma County\n",
      "We haven't seen Pima County yet, but we did see Mohave County\n",
      "We haven't seen Pima County yet, but we did see Santa Cruz County\n",
      "We haven't seen Pima County yet, but we did see Navajo County\n",
      "We haven't seen Pima County yet, but we did see Cochise County\n",
      "We haven't seen Pima County yet, but we did see Apache County\n",
      "We haven't seen Pima County yet, but we did see Apache County\n",
      "We haven't seen Pima County yet, but we did see Apache County\n",
      "We haven't seen Pima County yet, but we did see Greenlee County\n",
      "We haven't seen Pima County yet, but we did see Cochise County\n",
      "We haven't seen Pima County yet, but we did see Santa Cruz County\n",
      "We haven't seen Pima County yet, but we did see Graham County\n",
      "We haven't seen Pima County yet, but we did see Maricopa County\n",
      "We haven't seen Pima County yet, but we did see Yavapai County\n",
      "We haven't seen Pima County yet, but we did see Navajo County\n",
      "We haven't seen Pima County yet, but we did see Coconino County\n",
      "We haven't seen Pima County yet, but we did see Graham County\n",
      "We haven't seen Pima County yet, but we did see Apache County\n",
      "We haven't seen Pima County yet, but we did see Graham County\n",
      "We haven't seen Pima County yet, but we did see Coconino County\n",
      "We saw Pima County\n"
     ]
    }
   ],
   "source": [
    "# Keep grabbing random counties from the list.\n",
    "# Stop when we see Pima County\n",
    "\n",
    "while True: # Keep looping indefinitely ...\n",
    "    county = random.choice(az_counties)\n",
    "\n",
    "    if county == \"Pima County\":\n",
    "        print(\"We saw Pima County\")\n",
    "        # Well not actually indefinitely. This is how we leave the loop\n",
    "        break\n",
    "    \n",
    "    print(f\"We haven't seen Pima County yet, but we did see {county}\")"
   ]
  },
  {
   "cell_type": "code",
   "execution_count": null,
   "id": "f32b0b8f-32e2-4c8b-aeef-5d71c5b6b055",
   "metadata": {},
   "outputs": [],
   "source": []
  }
 ],
 "metadata": {
  "kernelspec": {
   "display_name": "python-data-cheatsheet",
   "language": "python",
   "name": "python-data-cheatsheet"
  },
  "language_info": {
   "codemirror_mode": {
    "name": "ipython",
    "version": 3
   },
   "file_extension": ".py",
   "mimetype": "text/x-python",
   "name": "python",
   "nbconvert_exporter": "python",
   "pygments_lexer": "ipython3",
   "version": "3.9.4"
  }
 },
 "nbformat": 4,
 "nbformat_minor": 5
}
