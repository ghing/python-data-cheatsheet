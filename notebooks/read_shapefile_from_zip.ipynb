{
 "cells": [
  {
   "cell_type": "markdown",
   "metadata": {},
   "source": [
    "# Read a shapefile from a zip file\n",
    "\n",
    "Shapefiles are often packaged as Zip files since the spatial data is actually contained in multiple files associated with the shapefile. You don't have to unzip the zip file before loading the shapefile using Geopandas."
   ]
  },
  {
   "cell_type": "code",
   "execution_count": 1,
   "metadata": {},
   "outputs": [],
   "source": [
    "# Setup\n",
    "\n",
    "import os\n",
    "\n",
    "NOTEBOOK_DIR = os.getcwd()\n",
    "DATA_DIR = os.path.abspath(os.path.join(NOTEBOOK_DIR, os.pardir, 'data'))\n",
    "DATA_DIR_SRC = os.path.join(DATA_DIR, 'src')"
   ]
  },
  {
   "cell_type": "markdown",
   "metadata": {},
   "source": [
    "## Load the shapefile\n",
    "\n",
    "Note that you can use the `zipinfo` command to view the contents of a zip file:\n",
    "\n",
    "```bash\n",
    "zipinfo data/src/grand_blvd.zip\n",
    "Archive:  data/src/grand_blvd.zip\n",
    "Zip file size: 4937 bytes, number of entries: 5\n",
    "drwxr-xr-x  2.1 unx        0 bx stor 19-Jul-05 12:08 grand_blvd/\n",
    "-rw-r--r--  2.1 unx      371 bX defN 19-Jul-05 12:08 grand_blvd/grand_blvd.dbf\n",
    "-rw-r--r--  2.1 unx     5404 bX defN 19-Jul-05 12:08 grand_blvd/grand_blvd.shp\n",
    "-rw-r--r--  2.1 unx      108 bX defN 19-Jul-05 12:08 grand_blvd/grand_blvd.shx\n",
    "-rw-r--r--  2.1 unx      143 bX defN 19-Jul-05 12:08 grand_blvd/grand_blvd.prj\n",
    "5 files, 6026 bytes uncompressed, 4109 bytes compressed:  31.8%\n",
    "```"
   ]
  },
  {
   "cell_type": "code",
   "execution_count": 2,
   "metadata": {},
   "outputs": [
    {
     "data": {
      "text/html": [
       "<div>\n",
       "<style scoped>\n",
       "    .dataframe tbody tr th:only-of-type {\n",
       "        vertical-align: middle;\n",
       "    }\n",
       "\n",
       "    .dataframe tbody tr th {\n",
       "        vertical-align: top;\n",
       "    }\n",
       "\n",
       "    .dataframe thead th {\n",
       "        text-align: right;\n",
       "    }\n",
       "</style>\n",
       "<table border=\"1\" class=\"dataframe\">\n",
       "  <thead>\n",
       "    <tr style=\"text-align: right;\">\n",
       "      <th></th>\n",
       "      <th>pri_neigh</th>\n",
       "      <th>sec_neigh</th>\n",
       "      <th>shape_area</th>\n",
       "      <th>shape_len</th>\n",
       "      <th>geometry</th>\n",
       "    </tr>\n",
       "  </thead>\n",
       "  <tbody>\n",
       "    <tr>\n",
       "      <th>0</th>\n",
       "      <td>Grand Boulevard</td>\n",
       "      <td>BRONZEVILLE</td>\n",
       "      <td>4.849250e+07</td>\n",
       "      <td>28196.837157</td>\n",
       "      <td>POLYGON ((-87.60670812560372 41.81681377137392...</td>\n",
       "    </tr>\n",
       "  </tbody>\n",
       "</table>\n",
       "</div>"
      ],
      "text/plain": [
       "         pri_neigh    sec_neigh    shape_area     shape_len  \\\n",
       "0  Grand Boulevard  BRONZEVILLE  4.849250e+07  28196.837157   \n",
       "\n",
       "                                            geometry  \n",
       "0  POLYGON ((-87.60670812560372 41.81681377137392...  "
      ]
     },
     "execution_count": 2,
     "metadata": {},
     "output_type": "execute_result"
    }
   ],
   "source": [
    "import geopandas as gpd\n",
    "from zipfile import ZipFile\n",
    "\n",
    "zipfile_url = \"zip://{0}\".format(os.path.join(DATA_DIR_SRC, 'grand_blvd.zip'))\n",
    "grand_blvd = gpd.read_file(\n",
    "    'grand_blvd/grand_blvd.shp',\n",
    "    vfs=zipfile_url,\n",
    ")\n",
    "\n",
    "grand_blvd"
   ]
  },
  {
   "cell_type": "code",
   "execution_count": null,
   "metadata": {},
   "outputs": [],
   "source": []
  }
 ],
 "metadata": {
  "jupytext": {
   "formats": "ipynb,Rmd"
  },
  "kernelspec": {
   "display_name": "Python 3",
   "language": "python",
   "name": "python3"
  },
  "language_info": {
   "codemirror_mode": {
    "name": "ipython",
    "version": 3
   },
   "file_extension": ".py",
   "mimetype": "text/x-python",
   "name": "python",
   "nbconvert_exporter": "python",
   "pygments_lexer": "ipython3",
   "version": "3.6.4"
  }
 },
 "nbformat": 4,
 "nbformat_minor": 4
}
