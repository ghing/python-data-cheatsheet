{
 "cells": [
  {
   "cell_type": "markdown",
   "metadata": {},
   "source": [
    "# Get consecutive pairs from an iterable\n",
    "\n",
    "Sometimes, if you're handling an indeterminate list of related items, it might make sense to pass them in a single, flat list where one value and the one following it are related.\n",
    "\n",
    "This is somewhat similar to how the arguments to [pandas.option_context](https://pandas.pydata.org/pandas-docs/stable/reference/api/pandas.option_context.html) are handled.\n",
    "\n",
    "You can use the built-in [zip()](https://docs.python.org/3/library/functions.html#zip) function and the stride option to Python's list slicing to iterate over the pairs of consecutive items.\n",
    "\n",
    "I learned this from [this StackOverflow answer](https://stackoverflow.com/a/2631222)."
   ]
  },
  {
   "cell_type": "code",
   "execution_count": 1,
   "metadata": {},
   "outputs": [],
   "source": [
    "import pandas as pd"
   ]
  },
  {
   "cell_type": "code",
   "execution_count": 2,
   "metadata": {},
   "outputs": [],
   "source": [
    "sample_list = [1, 2, 3, 4, 5, 6]"
   ]
  },
  {
   "cell_type": "markdown",
   "metadata": {},
   "source": [
    "You're probably familiar with Python's list slicing syntax. For example, this grabs the first two items from the list:"
   ]
  },
  {
   "cell_type": "code",
   "execution_count": 3,
   "metadata": {},
   "outputs": [
    {
     "data": {
      "text/plain": [
       "[1, 2]"
      ]
     },
     "execution_count": 3,
     "metadata": {},
     "output_type": "execute_result"
    }
   ],
   "source": [
    "sample_list[0:2]"
   ]
  },
  {
   "cell_type": "markdown",
   "metadata": {},
   "source": [
    "And this excludes the first item:"
   ]
  },
  {
   "cell_type": "code",
   "execution_count": 4,
   "metadata": {},
   "outputs": [
    {
     "data": {
      "text/plain": [
       "[2, 3, 4, 5, 6]"
      ]
     },
     "execution_count": 4,
     "metadata": {},
     "output_type": "execute_result"
    }
   ],
   "source": [
    "sample_list[1:]"
   ]
  },
  {
   "cell_type": "markdown",
   "metadata": {},
   "source": [
    "What I didn't know is that you can supply a stride argument to the slice notation that indicates how many indices the slice should move to get the next item. For example, this gets every other item from the list, starting with the first item:"
   ]
  },
  {
   "cell_type": "code",
   "execution_count": 5,
   "metadata": {},
   "outputs": [
    {
     "data": {
      "text/plain": [
       "[1, 3, 5]"
      ]
     },
     "execution_count": 5,
     "metadata": {},
     "output_type": "execute_result"
    }
   ],
   "source": [
    "sample_list[0::2]"
   ]
  },
  {
   "cell_type": "markdown",
   "metadata": {},
   "source": [
    "And this gets every other item, starting with the second item:"
   ]
  },
  {
   "cell_type": "code",
   "execution_count": 6,
   "metadata": {},
   "outputs": [
    {
     "data": {
      "text/plain": [
       "[2, 4, 6]"
      ]
     },
     "execution_count": 6,
     "metadata": {},
     "output_type": "execute_result"
    }
   ],
   "source": [
    "sample_list[1::2]"
   ]
  },
  {
   "cell_type": "markdown",
   "metadata": {},
   "source": [
    "We can put this together using the [`zip()`](https://docs.python.org/3/library/functions.html#zip) function, which combines the corresponding items from multiple iterables into tuples:"
   ]
  },
  {
   "cell_type": "code",
   "execution_count": 7,
   "metadata": {},
   "outputs": [
    {
     "data": {
      "text/plain": [
       "[(1, 2), (3, 4), (5, 6)]"
      ]
     },
     "execution_count": 7,
     "metadata": {},
     "output_type": "execute_result"
    }
   ],
   "source": [
    "# This is wrapped in `list()` for display purposes. `zip()` returns an\n",
    "# iterator, so we can't see the values until we iterate over it.\n",
    "list(zip(sample_list[0::2], sample_list[1::2]))"
   ]
  },
  {
   "cell_type": "markdown",
   "metadata": {},
   "source": [
    "Let's look at this in a pandas context. Assume I have data that consists of columns that are consecutive pairs of numerators and denominators and I want to calculate the fractions using these pairs.\n",
    "\n",
    "Note that in this toy data, the numerator and denominators are all multiples of each other, so the final fractions should be the same for each row."
   ]
  },
  {
   "cell_type": "code",
   "execution_count": 8,
   "metadata": {},
   "outputs": [
    {
     "data": {
      "text/html": [
       "<div>\n",
       "<style scoped>\n",
       "    .dataframe tbody tr th:only-of-type {\n",
       "        vertical-align: middle;\n",
       "    }\n",
       "\n",
       "    .dataframe tbody tr th {\n",
       "        vertical-align: top;\n",
       "    }\n",
       "\n",
       "    .dataframe thead th {\n",
       "        text-align: right;\n",
       "    }\n",
       "</style>\n",
       "<table border=\"1\" class=\"dataframe\">\n",
       "  <thead>\n",
       "    <tr style=\"text-align: right;\">\n",
       "      <th></th>\n",
       "      <th>numerator_1</th>\n",
       "      <th>denominator_1</th>\n",
       "      <th>numerator_2</th>\n",
       "      <th>denominator_2</th>\n",
       "      <th>numerator_3</th>\n",
       "      <th>denominator_3</th>\n",
       "    </tr>\n",
       "  </thead>\n",
       "  <tbody>\n",
       "    <tr>\n",
       "      <th>0</th>\n",
       "      <td>1</td>\n",
       "      <td>2</td>\n",
       "      <td>2</td>\n",
       "      <td>3</td>\n",
       "      <td>3</td>\n",
       "      <td>4</td>\n",
       "    </tr>\n",
       "    <tr>\n",
       "      <th>1</th>\n",
       "      <td>2</td>\n",
       "      <td>4</td>\n",
       "      <td>4</td>\n",
       "      <td>6</td>\n",
       "      <td>6</td>\n",
       "      <td>8</td>\n",
       "    </tr>\n",
       "    <tr>\n",
       "      <th>2</th>\n",
       "      <td>4</td>\n",
       "      <td>8</td>\n",
       "      <td>8</td>\n",
       "      <td>12</td>\n",
       "      <td>12</td>\n",
       "      <td>16</td>\n",
       "    </tr>\n",
       "  </tbody>\n",
       "</table>\n",
       "</div>"
      ],
      "text/plain": [
       "   numerator_1  denominator_1  numerator_2  denominator_2  numerator_3  \\\n",
       "0            1              2            2              3            3   \n",
       "1            2              4            4              6            6   \n",
       "2            4              8            8             12           12   \n",
       "\n",
       "   denominator_3  \n",
       "0              4  \n",
       "1              8  \n",
       "2             16  "
      ]
     },
     "execution_count": 8,
     "metadata": {},
     "output_type": "execute_result"
    }
   ],
   "source": [
    "data = [\n",
    "    (1, 2, 2, 3, 3, 4),\n",
    "    (2, 4, 4, 6, 6, 8),\n",
    "    (4, 8, 8, 12, 12, 16),    \n",
    "]\n",
    "columns = [\n",
    "    'numerator_1',\n",
    "    'denominator_1',\n",
    "    'numerator_2',\n",
    "    'denominator_2',\n",
    "    'numerator_3',\n",
    "    'denominator_3',\n",
    "]\n",
    "\n",
    "df = pd.DataFrame.from_records(data, columns=columns)\n",
    "\n",
    "df"
   ]
  },
  {
   "cell_type": "code",
   "execution_count": 9,
   "metadata": {},
   "outputs": [
    {
     "data": {
      "text/html": [
       "<div>\n",
       "<style scoped>\n",
       "    .dataframe tbody tr th:only-of-type {\n",
       "        vertical-align: middle;\n",
       "    }\n",
       "\n",
       "    .dataframe tbody tr th {\n",
       "        vertical-align: top;\n",
       "    }\n",
       "\n",
       "    .dataframe thead th {\n",
       "        text-align: right;\n",
       "    }\n",
       "</style>\n",
       "<table border=\"1\" class=\"dataframe\">\n",
       "  <thead>\n",
       "    <tr style=\"text-align: right;\">\n",
       "      <th></th>\n",
       "      <th>ratio_1</th>\n",
       "      <th>ratio_2</th>\n",
       "      <th>ratio_3</th>\n",
       "    </tr>\n",
       "  </thead>\n",
       "  <tbody>\n",
       "    <tr>\n",
       "      <th>0</th>\n",
       "      <td>0.5</td>\n",
       "      <td>0.666667</td>\n",
       "      <td>0.75</td>\n",
       "    </tr>\n",
       "    <tr>\n",
       "      <th>1</th>\n",
       "      <td>0.5</td>\n",
       "      <td>0.666667</td>\n",
       "      <td>0.75</td>\n",
       "    </tr>\n",
       "    <tr>\n",
       "      <th>2</th>\n",
       "      <td>0.5</td>\n",
       "      <td>0.666667</td>\n",
       "      <td>0.75</td>\n",
       "    </tr>\n",
       "  </tbody>\n",
       "</table>\n",
       "</div>"
      ],
      "text/plain": [
       "   ratio_1   ratio_2  ratio_3\n",
       "0      0.5  0.666667     0.75\n",
       "1      0.5  0.666667     0.75\n",
       "2      0.5  0.666667     0.75"
      ]
     },
     "execution_count": 9,
     "metadata": {},
     "output_type": "execute_result"
    }
   ],
   "source": [
    "def calc_ratios(row):\n",
    "    \"\"\"Calculate ratios in columns that are numerator, denominator pairs\"\"\"\n",
    "    ratios = []\n",
    "    col_names = []\n",
    "    # Here's where we use list slicing, with the stride argument and zip()\n",
    "    for num_col, denom_col in zip(row.index[0::2], row.index[1::2]):\n",
    "        col_names.append(num_col.replace(\"numerator\", \"ratio\"))\n",
    "        ratios.append(row[num_col] / row[denom_col])\n",
    "        \n",
    "    return pd.Series(ratios, index=col_names)\n",
    "    \n",
    "df.apply(calc_ratios, axis=1)"
   ]
  },
  {
   "cell_type": "code",
   "execution_count": null,
   "metadata": {},
   "outputs": [],
   "source": []
  }
 ],
 "metadata": {
  "kernelspec": {
   "display_name": "python-data-cheatsheet",
   "language": "python",
   "name": "python-data-cheatsheet"
  },
  "language_info": {
   "codemirror_mode": {
    "name": "ipython",
    "version": 3
   },
   "file_extension": ".py",
   "mimetype": "text/x-python",
   "name": "python",
   "nbconvert_exporter": "python",
   "pygments_lexer": "ipython3",
   "version": "3.7.3"
  }
 },
 "nbformat": 4,
 "nbformat_minor": 4
}
