{
 "cells": [
  {
   "cell_type": "markdown",
   "metadata": {},
   "source": [
    "# Select a single item by index\n",
    "\n",
    "Get a DataFrame containing a single item by indexing `DataFrame.loc` with an array with just that item.\n",
    "\n",
    "Via [Hierarchical Indexing | Python Data Science Handbook](https://jakevdp.github.io/PythonDataScienceHandbook/03.05-hierarchical-indexing.html).\n",
    "\n",
    "It's a good idea to become familiar with the [Indexing and selecting data](https://pandas.pydata.org/pandas-docs/stable/user_guide/indexing.html) section of the docs as well as the [`DataFrame.loc`](https://pandas.pydata.org/pandas-docs/stable/reference/api/pandas.DataFrame.loc.html). There's a lot of useful informaiton there, but how to do specific things."
   ]
  },
  {
   "cell_type": "code",
   "execution_count": 1,
   "metadata": {},
   "outputs": [
    {
     "name": "stderr",
     "output_type": "stream",
     "text": [
      "/Users/ghing/.local/share/virtualenvs/python-data-cheatsheet-nEkgY1LY/lib/python3.6/site-packages/pandas/compat/__init__.py:84: UserWarning: Could not import the lzma module. Your installed Python is incomplete. Attempting to use lzma compression will result in a RuntimeError.\n",
      "  warnings.warn(msg)\n",
      "/Users/ghing/.local/share/virtualenvs/python-data-cheatsheet-nEkgY1LY/lib/python3.6/site-packages/pandas/compat/__init__.py:84: UserWarning: Could not import the lzma module. Your installed Python is incomplete. Attempting to use lzma compression will result in a RuntimeError.\n",
      "  warnings.warn(msg)\n"
     ]
    }
   ],
   "source": [
    "import pandas as pd"
   ]
  },
  {
   "cell_type": "code",
   "execution_count": 2,
   "metadata": {},
   "outputs": [
    {
     "data": {
      "text/html": [
       "<div>\n",
       "<style scoped>\n",
       "    .dataframe tbody tr th:only-of-type {\n",
       "        vertical-align: middle;\n",
       "    }\n",
       "\n",
       "    .dataframe tbody tr th {\n",
       "        vertical-align: top;\n",
       "    }\n",
       "\n",
       "    .dataframe thead th {\n",
       "        text-align: right;\n",
       "    }\n",
       "</style>\n",
       "<table border=\"1\" class=\"dataframe\">\n",
       "  <thead>\n",
       "    <tr style=\"text-align: right;\">\n",
       "      <th></th>\n",
       "      <th>address</th>\n",
       "      <th>community_area</th>\n",
       "    </tr>\n",
       "    <tr>\n",
       "      <th>name</th>\n",
       "      <th></th>\n",
       "      <th></th>\n",
       "    </tr>\n",
       "  </thead>\n",
       "  <tbody>\n",
       "    <tr>\n",
       "      <td>Richard M. Daley Branch</td>\n",
       "      <td>733 N Kedzie Ave, Chicago, IL 60612</td>\n",
       "      <td>Humboldt Park</td>\n",
       "    </tr>\n",
       "    <tr>\n",
       "      <td>West Town Branch</td>\n",
       "      <td>1625 W Chicago Ave, Chicago, IL 60622</td>\n",
       "      <td>West Town</td>\n",
       "    </tr>\n",
       "    <tr>\n",
       "      <td>Humboldt Park Branch</td>\n",
       "      <td>1605 N Troy St, Chicago, IL 60647</td>\n",
       "      <td>Humboldt Park</td>\n",
       "    </tr>\n",
       "  </tbody>\n",
       "</table>\n",
       "</div>"
      ],
      "text/plain": [
       "                                                       address community_area\n",
       "name                                                                         \n",
       "Richard M. Daley Branch    733 N Kedzie Ave, Chicago, IL 60612  Humboldt Park\n",
       "West Town Branch         1625 W Chicago Ave, Chicago, IL 60622      West Town\n",
       "Humboldt Park Branch         1605 N Troy St, Chicago, IL 60647  Humboldt Park"
      ]
     },
     "execution_count": 2,
     "metadata": {},
     "output_type": "execute_result"
    }
   ],
   "source": [
    "# Create some toy data\n",
    "\n",
    "library_data = [\n",
    "    ('Richard M. Daley Branch', '733 N Kedzie Ave, Chicago, IL 60612', 'Humboldt Park'),\n",
    "    ('West Town Branch', '1625 W Chicago Ave, Chicago, IL 60622', 'West Town'),\n",
    "    ('Humboldt Park Branch', '1605 N Troy St, Chicago, IL 60647', 'Humboldt Park'),\n",
    "    \n",
    "]\n",
    "library_columns = ['name', 'address', 'community_area']\n",
    "\n",
    "libraries = pd.DataFrame\\\n",
    "    .from_records(library_data, columns=library_columns)\\\n",
    "    .set_index('name')\n",
    "\n",
    "libraries"
   ]
  },
  {
   "cell_type": "markdown",
   "metadata": {},
   "source": [
    "## Single index"
   ]
  },
  {
   "cell_type": "markdown",
   "metadata": {},
   "source": [
    "Just using `.loc` with the index value returns a series:"
   ]
  },
  {
   "cell_type": "code",
   "execution_count": 3,
   "metadata": {},
   "outputs": [
    {
     "data": {
      "text/plain": [
       "address           733 N Kedzie Ave, Chicago, IL 60612\n",
       "community_area                          Humboldt Park\n",
       "Name: Richard M. Daley Branch, dtype: object"
      ]
     },
     "execution_count": 3,
     "metadata": {},
     "output_type": "execute_result"
    }
   ],
   "source": [
    "# Select a single item\n",
    "libraries.loc['Richard M. Daley Branch']"
   ]
  },
  {
   "cell_type": "markdown",
   "metadata": {},
   "source": [
    "To get a DataFrame with just that item, use `.loc` with a list containing the index value(s):"
   ]
  },
  {
   "cell_type": "code",
   "execution_count": 4,
   "metadata": {},
   "outputs": [
    {
     "data": {
      "text/html": [
       "<div>\n",
       "<style scoped>\n",
       "    .dataframe tbody tr th:only-of-type {\n",
       "        vertical-align: middle;\n",
       "    }\n",
       "\n",
       "    .dataframe tbody tr th {\n",
       "        vertical-align: top;\n",
       "    }\n",
       "\n",
       "    .dataframe thead th {\n",
       "        text-align: right;\n",
       "    }\n",
       "</style>\n",
       "<table border=\"1\" class=\"dataframe\">\n",
       "  <thead>\n",
       "    <tr style=\"text-align: right;\">\n",
       "      <th></th>\n",
       "      <th>address</th>\n",
       "      <th>community_area</th>\n",
       "    </tr>\n",
       "    <tr>\n",
       "      <th>name</th>\n",
       "      <th></th>\n",
       "      <th></th>\n",
       "    </tr>\n",
       "  </thead>\n",
       "  <tbody>\n",
       "    <tr>\n",
       "      <td>Richard M. Daley Branch</td>\n",
       "      <td>733 N Kedzie Ave, Chicago, IL 60612</td>\n",
       "      <td>Humboldt Park</td>\n",
       "    </tr>\n",
       "  </tbody>\n",
       "</table>\n",
       "</div>"
      ],
      "text/plain": [
       "                                                     address community_area\n",
       "name                                                                       \n",
       "Richard M. Daley Branch  733 N Kedzie Ave, Chicago, IL 60612  Humboldt Park"
      ]
     },
     "execution_count": 4,
     "metadata": {},
     "output_type": "execute_result"
    }
   ],
   "source": [
    "# Get a DataFrame with a single item by indexing `DataFrame.loc` with an array with just that item.\n",
    "libraries.loc[['Richard M. Daley Branch']]"
   ]
  },
  {
   "cell_type": "markdown",
   "metadata": {},
   "source": [
    "## MultiIndex"
   ]
  },
  {
   "cell_type": "code",
   "execution_count": 5,
   "metadata": {},
   "outputs": [
    {
     "data": {
      "text/html": [
       "<div>\n",
       "<style scoped>\n",
       "    .dataframe tbody tr th:only-of-type {\n",
       "        vertical-align: middle;\n",
       "    }\n",
       "\n",
       "    .dataframe tbody tr th {\n",
       "        vertical-align: top;\n",
       "    }\n",
       "\n",
       "    .dataframe thead th {\n",
       "        text-align: right;\n",
       "    }\n",
       "</style>\n",
       "<table border=\"1\" class=\"dataframe\">\n",
       "  <thead>\n",
       "    <tr style=\"text-align: right;\">\n",
       "      <th></th>\n",
       "      <th></th>\n",
       "      <th>address</th>\n",
       "    </tr>\n",
       "    <tr>\n",
       "      <th>community_area</th>\n",
       "      <th>name</th>\n",
       "      <th></th>\n",
       "    </tr>\n",
       "  </thead>\n",
       "  <tbody>\n",
       "    <tr>\n",
       "      <td>Humboldt Park</td>\n",
       "      <td>Richard M. Daley Branch</td>\n",
       "      <td>733 N Kedzie Ave, Chicago, IL 60612</td>\n",
       "    </tr>\n",
       "    <tr>\n",
       "      <td>West Town</td>\n",
       "      <td>West Town Branch</td>\n",
       "      <td>1625 W Chicago Ave, Chicago, IL 60622</td>\n",
       "    </tr>\n",
       "    <tr>\n",
       "      <td>Humboldt Park</td>\n",
       "      <td>Humboldt Park Branch</td>\n",
       "      <td>1605 N Troy St, Chicago, IL 60647</td>\n",
       "    </tr>\n",
       "  </tbody>\n",
       "</table>\n",
       "</div>"
      ],
      "text/plain": [
       "                                                                      address\n",
       "community_area name                                                          \n",
       "Humboldt Park  Richard M. Daley Branch    733 N Kedzie Ave, Chicago, IL 60612\n",
       "West Town      West Town Branch         1625 W Chicago Ave, Chicago, IL 60622\n",
       "Humboldt Park  Humboldt Park Branch         1605 N Troy St, Chicago, IL 60647"
      ]
     },
     "execution_count": 5,
     "metadata": {},
     "output_type": "execute_result"
    }
   ],
   "source": [
    "# Create a multi-index\n",
    "libraries_mi = libraries.reset_index().set_index(['community_area', 'name'])\n",
    "\n",
    "libraries_mi"
   ]
  },
  {
   "cell_type": "markdown",
   "metadata": {},
   "source": [
    "With a MultiIndex, the syntax is a little trickier. Use a tuple to select the index values and the `:` to identify that you want all columns."
   ]
  },
  {
   "cell_type": "code",
   "execution_count": 6,
   "metadata": {},
   "outputs": [
    {
     "data": {
      "text/html": [
       "<div>\n",
       "<style scoped>\n",
       "    .dataframe tbody tr th:only-of-type {\n",
       "        vertical-align: middle;\n",
       "    }\n",
       "\n",
       "    .dataframe tbody tr th {\n",
       "        vertical-align: top;\n",
       "    }\n",
       "\n",
       "    .dataframe thead th {\n",
       "        text-align: right;\n",
       "    }\n",
       "</style>\n",
       "<table border=\"1\" class=\"dataframe\">\n",
       "  <thead>\n",
       "    <tr style=\"text-align: right;\">\n",
       "      <th></th>\n",
       "      <th></th>\n",
       "      <th>address</th>\n",
       "    </tr>\n",
       "    <tr>\n",
       "      <th>community_area</th>\n",
       "      <th>name</th>\n",
       "      <th></th>\n",
       "    </tr>\n",
       "  </thead>\n",
       "  <tbody>\n",
       "    <tr>\n",
       "      <td>Humboldt Park</td>\n",
       "      <td>Richard M. Daley Branch</td>\n",
       "      <td>733 N Kedzie Ave, Chicago, IL 60612</td>\n",
       "    </tr>\n",
       "  </tbody>\n",
       "</table>\n",
       "</div>"
      ],
      "text/plain": [
       "                                                                    address\n",
       "community_area name                                                        \n",
       "Humboldt Park  Richard M. Daley Branch  733 N Kedzie Ave, Chicago, IL 60612"
      ]
     },
     "execution_count": 6,
     "metadata": {},
     "output_type": "execute_result"
    }
   ],
   "source": [
    "libraries_mi.loc[[('Humboldt Park', 'Richard M. Daley Branch')], :]"
   ]
  },
  {
   "cell_type": "code",
   "execution_count": null,
   "metadata": {},
   "outputs": [],
   "source": []
  }
 ],
 "metadata": {
  "jupytext": {
   "formats": "ipynb,Rmd"
  },
  "kernelspec": {
   "display_name": "python-data-cheatsheet",
   "language": "python",
   "name": "python-data-cheatsheet"
  },
  "language_info": {
   "codemirror_mode": {
    "name": "ipython",
    "version": 3
   },
   "file_extension": ".py",
   "mimetype": "text/x-python",
   "name": "python",
   "nbconvert_exporter": "python",
   "pygments_lexer": "ipython3",
   "version": "3.6.4"
  }
 },
 "nbformat": 4,
 "nbformat_minor": 4
}
