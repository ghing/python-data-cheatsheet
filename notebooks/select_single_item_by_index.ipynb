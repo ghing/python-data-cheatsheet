{
 "cells": [
  {
   "cell_type": "markdown",
   "metadata": {},
   "source": [
    "# Select a single item by index\n",
    "\n",
    "Select a single item by indexing `DataFrame.log` with an array with just that item.\n",
    "\n",
    "Via [Hierarchical Indexing | Python Data Science Handbook](https://jakevdp.github.io/PythonDataScienceHandbook/03.05-hierarchical-indexing.html)."
   ]
  },
  {
   "cell_type": "code",
   "execution_count": 1,
   "metadata": {},
   "outputs": [],
   "source": [
    "import pandas as pd"
   ]
  },
  {
   "cell_type": "code",
   "execution_count": 2,
   "metadata": {},
   "outputs": [
    {
     "data": {
      "text/html": [
       "<div>\n",
       "<style scoped>\n",
       "    .dataframe tbody tr th:only-of-type {\n",
       "        vertical-align: middle;\n",
       "    }\n",
       "\n",
       "    .dataframe tbody tr th {\n",
       "        vertical-align: top;\n",
       "    }\n",
       "\n",
       "    .dataframe thead th {\n",
       "        text-align: right;\n",
       "    }\n",
       "</style>\n",
       "<table border=\"1\" class=\"dataframe\">\n",
       "  <thead>\n",
       "    <tr style=\"text-align: right;\">\n",
       "      <th></th>\n",
       "      <th>address</th>\n",
       "    </tr>\n",
       "    <tr>\n",
       "      <th>name</th>\n",
       "      <th></th>\n",
       "    </tr>\n",
       "  </thead>\n",
       "  <tbody>\n",
       "    <tr>\n",
       "      <th>Richard M. Daley Branch</th>\n",
       "      <td>733 N Kedzie Ave, Chicago, IL 60612</td>\n",
       "    </tr>\n",
       "    <tr>\n",
       "      <th>West Town Branch</th>\n",
       "      <td>1625 W Chicago Ave, Chicago, IL 60622</td>\n",
       "    </tr>\n",
       "    <tr>\n",
       "      <th>Humboldt Park Branch</th>\n",
       "      <td>1605 N Troy St, Chicago, IL 60647</td>\n",
       "    </tr>\n",
       "  </tbody>\n",
       "</table>\n",
       "</div>"
      ],
      "text/plain": [
       "                                                       address\n",
       "name                                                          \n",
       "Richard M. Daley Branch    733 N Kedzie Ave, Chicago, IL 60612\n",
       "West Town Branch         1625 W Chicago Ave, Chicago, IL 60622\n",
       "Humboldt Park Branch         1605 N Troy St, Chicago, IL 60647"
      ]
     },
     "execution_count": 2,
     "metadata": {},
     "output_type": "execute_result"
    }
   ],
   "source": [
    "# Create some toy data\n",
    "\n",
    "library_data = [\n",
    "    ('Richard M. Daley Branch', '733 N Kedzie Ave, Chicago, IL 60612'),\n",
    "    ('West Town Branch', '1625 W Chicago Ave, Chicago, IL 60622'),\n",
    "    ('Humboldt Park Branch', '1605 N Troy St, Chicago, IL 60647'),\n",
    "    \n",
    "]\n",
    "library_columns = ['name', 'address']\n",
    "\n",
    "libraries = pd.DataFrame\\\n",
    "    .from_records(library_data, columns=library_columns)\\\n",
    "    .set_index('name')\n",
    "\n",
    "libraries"
   ]
  },
  {
   "cell_type": "code",
   "execution_count": 3,
   "metadata": {},
   "outputs": [
    {
     "data": {
      "text/html": [
       "<div>\n",
       "<style scoped>\n",
       "    .dataframe tbody tr th:only-of-type {\n",
       "        vertical-align: middle;\n",
       "    }\n",
       "\n",
       "    .dataframe tbody tr th {\n",
       "        vertical-align: top;\n",
       "    }\n",
       "\n",
       "    .dataframe thead th {\n",
       "        text-align: right;\n",
       "    }\n",
       "</style>\n",
       "<table border=\"1\" class=\"dataframe\">\n",
       "  <thead>\n",
       "    <tr style=\"text-align: right;\">\n",
       "      <th></th>\n",
       "      <th>address</th>\n",
       "    </tr>\n",
       "    <tr>\n",
       "      <th>name</th>\n",
       "      <th></th>\n",
       "    </tr>\n",
       "  </thead>\n",
       "  <tbody>\n",
       "    <tr>\n",
       "      <th>Richard M. Daley Branch</th>\n",
       "      <td>733 N Kedzie Ave, Chicago, IL 60612</td>\n",
       "    </tr>\n",
       "  </tbody>\n",
       "</table>\n",
       "</div>"
      ],
      "text/plain": [
       "                                                     address\n",
       "name                                                        \n",
       "Richard M. Daley Branch  733 N Kedzie Ave, Chicago, IL 60612"
      ]
     },
     "execution_count": 3,
     "metadata": {},
     "output_type": "execute_result"
    }
   ],
   "source": [
    "# Select a single item by indexing `DataFrame.log` with an array with just that item.\n",
    "libraries.loc[['Richard M. Daley Branch']]"
   ]
  },
  {
   "cell_type": "code",
   "execution_count": null,
   "metadata": {},
   "outputs": [],
   "source": []
  }
 ],
 "metadata": {
  "jupytext": {
   "formats": "ipynb,Rmd"
  },
  "kernelspec": {
   "display_name": "Python 3",
   "language": "python",
   "name": "python3"
  },
  "language_info": {
   "codemirror_mode": {
    "name": "ipython",
    "version": 3
   },
   "file_extension": ".py",
   "mimetype": "text/x-python",
   "name": "python",
   "nbconvert_exporter": "python",
   "pygments_lexer": "ipython3",
   "version": "3.6.4"
  }
 },
 "nbformat": 4,
 "nbformat_minor": 2
}
