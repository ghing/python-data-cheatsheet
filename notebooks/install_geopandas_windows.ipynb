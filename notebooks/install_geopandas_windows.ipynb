{
 "cells": [
  {
   "cell_type": "markdown",
   "id": "dbcca737",
   "metadata": {},
   "source": [
    "# Install GeoPandas on Windows\n",
    "\n",
    "\n",
    "Python, like many programming languages allows sharing code in a package. This allows you to use powerful functionality someone else has already written in your own programs. Some packages come along with Python. Other packages, like Pandas, were installed when you installed Anaconda. However, you'll need to install GeoPandas yourself.\n",
    "\n",
    "There are a few quirks with getting this to work on a Windows computer. Hopefully this notebook will help you get GeoPandas installed on your system."
   ]
  },
  {
   "cell_type": "markdown",
   "id": "c947f8a2",
   "metadata": {},
   "source": [
    "## Emoji garden\n",
    "\n",
    "There are a number of sections of this notebook to provide context for the commands you need to run. There are also a few things that you need to be careful about.\n",
    "\n",
    "- 🔨: If you just want to get this done, you can ignore other cells and just run the ones below this icon.\n",
    "- ⚠️: Pay attention and make sure you understand how this works and what the commands or code do."
   ]
  },
  {
   "cell_type": "markdown",
   "id": "0fda31ca",
   "metadata": {},
   "source": [
    "##  ⚠️ Assumptions\n",
    "\n",
    "- You're running Windows 10 (though this may also work on Windows 11). If you got Anaconda running on Windows, this will probably work.\n",
    "- You're using Anaconda Distribution. I tested this with Anaconda3-2021.11.\n",
    "- You're running this notebook with Jupyter Notebook launched from Anaconda Navigator.\n",
    "- You're connected to the internet. This is required because we'll be downloading packages from the internet.\n",
    "- You've got some time on your hands. You won't need to be fully-focused on this, but downloading and installing the packages can take some time."
   ]
  },
  {
   "cell_type": "markdown",
   "id": "09ccf578",
   "metadata": {},
   "source": [
    "🔨 To start off, let's try to import GeoPandas. If you don't see an error when you run the code below, then you may have actually installed GeoPandas already and encountering a different problem."
   ]
  },
  {
   "cell_type": "code",
   "execution_count": 8,
   "id": "9c1b1652",
   "metadata": {},
   "outputs": [
    {
     "ename": "ModuleNotFoundError",
     "evalue": "No module named 'geopandas'",
     "output_type": "error",
     "traceback": [
      "\u001b[1;31m---------------------------------------------------------------------------\u001b[0m",
      "\u001b[1;31mModuleNotFoundError\u001b[0m                       Traceback (most recent call last)",
      "\u001b[1;32m~\\AppData\\Local\\Temp/ipykernel_1812/1013471272.py\u001b[0m in \u001b[0;36m<module>\u001b[1;34m\u001b[0m\n\u001b[0;32m      1\u001b[0m \u001b[1;31m# Try importing geopandas\u001b[0m\u001b[1;33m\u001b[0m\u001b[1;33m\u001b[0m\u001b[0m\n\u001b[0;32m      2\u001b[0m \u001b[1;33m\u001b[0m\u001b[0m\n\u001b[1;32m----> 3\u001b[1;33m \u001b[1;32mimport\u001b[0m \u001b[0mgeopandas\u001b[0m \u001b[1;32mas\u001b[0m \u001b[0mgpd\u001b[0m\u001b[1;33m\u001b[0m\u001b[1;33m\u001b[0m\u001b[0m\n\u001b[0m",
      "\u001b[1;31mModuleNotFoundError\u001b[0m: No module named 'geopandas'"
     ]
    }
   ],
   "source": [
    "# Try importing geopandas\n",
    "\n",
    "import geopandas as gpd"
   ]
  },
  {
   "cell_type": "markdown",
   "id": "c86349bc",
   "metadata": {},
   "source": [
    "## Running commands in a Jupyter notebook\n",
    "\n",
    "You've probably already been running Python code in the cells of your Jupyter notebooks, but you can also [run command-line commands](https://ipython.readthedocs.io/en/stable/interactive/reference.html#system-shell-access). You do this by beginning the line with a `!` followed by the command.\n",
    "\n",
    "This is really useful because in data journalism or data science, it's often more convenient to do some operations with command-line tools, and others with Python code. Jupyter notebooks let you mix both, and still document the commands or code you're running to make you data processing or analysis clear to others, or yourself in the future.\n",
    "\n",
    "If you've ever used the command-line on a Mac or other UNIX-like operating system, some of these commands are similar, but the commands available, and the syntax of available commands, differ. \n",
    "\n",
    "There are a number of cheatsheets of Windows commands such as [Essential Windows CMD Commands You Should Know\n",
    "](https://www.makeuseof.com/tag/essential-windows-cmd-commands/) or [Windows Command Prompt Cheatsheet\n",
    "](http://www.cs.columbia.edu/~sedwards/classes/2015/1102-fall/Command%20Prompt%20Cheatsheet.pdf). For a really exhaustive list of Windows commands, see [Command-line reference A-Z](https://docs.microsoft.com/en-us/windows-server/administration/windows-commands/windows-commands#command-line-reference-a-z)."
   ]
  },
  {
   "cell_type": "markdown",
   "id": "27217aa0",
   "metadata": {},
   "source": [
    "Let's try using the `cd` command to print the current directory."
   ]
  },
  {
   "cell_type": "code",
   "execution_count": 12,
   "id": "14b29c5f",
   "metadata": {},
   "outputs": [
    {
     "name": "stdout",
     "output_type": "stream",
     "text": [
      "C:\\Users\\ghing\\Desktop\n"
     ]
    }
   ],
   "source": [
    "# Print the current directory\n",
    "\n",
    "!cd"
   ]
  },
  {
   "cell_type": "markdown",
   "id": "e2846720",
   "metadata": {},
   "source": [
    "Let's try another command, to list the contents of your `Downloads` directory."
   ]
  },
  {
   "cell_type": "code",
   "execution_count": 13,
   "id": "46e0f462",
   "metadata": {},
   "outputs": [
    {
     "name": "stdout",
     "output_type": "stream",
     "text": [
      " Volume in drive C has no label.\n",
      " Volume Serial Number is BE24-BA9E\n",
      "\n",
      " Directory of C:\\Users\\ghing\\Downloads\n",
      "\n",
      "04/05/2022  11:01 PM    <DIR>          .\n",
      "04/05/2022  11:01 PM    <DIR>          ..\n",
      "04/05/2022  11:01 PM       535,052,832 Anaconda3-2021.11-Windows-x86_64.exe\n",
      "02/10/2021  09:44 AM    <DIR>          CrimeStat-IV-program-4.02\n",
      "03/19/2020  05:28 PM            46,113 us122.pdf\n",
      "12/22/2018  03:27 AM    <DIR>          US122_Win_3.40f\n",
      "12/22/2018  03:26 AM         1,266,697 US122_Win_3.40f.zip\n",
      "11/30/2021  11:50 PM         1,465,456 vs_buildtools__1116449647.1638334163.exe\n",
      "               4 File(s)    537,831,098 bytes\n",
      "               4 Dir(s)  22,938,263,552 bytes free\n"
     ]
    }
   ],
   "source": [
    "# List contents of your Downloads directory\n",
    "\n",
    "!dir \"%HOMEDRIVE%%HOMEPATH%\"\\Downloads"
   ]
  },
  {
   "cell_type": "markdown",
   "id": "cc8f5f2f",
   "metadata": {},
   "source": [
    "🔨 More importantly, you'll want to check that the spatial file provided in class is in the current directory."
   ]
  },
  {
   "cell_type": "code",
   "execution_count": 13,
   "id": "fe7562c2",
   "metadata": {},
   "outputs": [
    {
     "name": "stdout",
     "output_type": "stream",
     "text": [
      " Volume in drive C has no label.\n",
      " Volume Serial Number is BE24-BA9E\n",
      "\n",
      " Directory of C:\\Users\\ghing\\Desktop\n",
      "\n",
      "04/06/2022  02:28 AM           385,024 council_districts_clean_final.gpkg\n",
      "               1 File(s)        385,024 bytes\n",
      "               0 Dir(s)  18,505,732,096 bytes free\n"
     ]
    }
   ],
   "source": [
    "# List the spatial data file\n",
    "\n",
    "!dir council_districts_clean_final.gpkg"
   ]
  },
  {
   "cell_type": "markdown",
   "id": "9883af66",
   "metadata": {},
   "source": [
    "But for our purposes, we're going to be using the `conda` command to install GeoPandas.\n",
    "\n",
    "Let's start by viewing the `conda` command's help."
   ]
  },
  {
   "cell_type": "code",
   "execution_count": 11,
   "id": "623d9e97",
   "metadata": {},
   "outputs": [
    {
     "name": "stdout",
     "output_type": "stream",
     "text": [
      "usage: conda-script.py [-h] [-V] command ...\n",
      "\n",
      "conda is a tool for managing and deploying applications, environments and packages.\n",
      "\n",
      "Options:\n",
      "\n",
      "positional arguments:\n",
      "  command\n",
      "    clean        Remove unused packages and caches.\n",
      "    compare      Compare packages between conda environments.\n",
      "    config       Modify configuration values in .condarc. This is modeled\n",
      "                 after the git config command. Writes to the user .condarc\n",
      "                 file (C:\\Users\\ghing\\.condarc) by default.\n",
      "    create       Create a new conda environment from a list of specified\n",
      "                 packages.\n",
      "    help         Displays a list of available conda commands and their help\n",
      "                 strings.\n",
      "    info         Display information about current conda install.\n",
      "    init         Initialize conda for shell interaction. [Experimental]\n",
      "    install      Installs a list of packages into a specified conda\n",
      "                 environment.\n",
      "    list         List linked packages in a conda environment.\n",
      "    package      Low-level conda package utility. (EXPERIMENTAL)\n",
      "    remove       Remove a list of packages from a specified conda environment.\n",
      "    uninstall    Alias for conda remove.\n",
      "    run          Run an executable in a conda environment.\n",
      "    search       Search for packages and display associated information. The\n",
      "                 input is a MatchSpec, a query language for conda packages.\n",
      "                 See examples below.\n",
      "    update       Updates conda packages to the latest compatible version.\n",
      "    upgrade      Alias for conda update.\n",
      "\n",
      "optional arguments:\n",
      "  -h, --help     Show this help message and exit.\n",
      "  -V, --version  Show the conda version number and exit.\n",
      "\n",
      "conda commands available from other packages:\n",
      "  build\n",
      "  content-trust\n",
      "  convert\n",
      "  debug\n",
      "  develop\n",
      "  env\n",
      "  index\n",
      "  inspect\n",
      "  metapackage\n",
      "  pack\n",
      "  render\n",
      "  repo\n",
      "  server\n",
      "  skeleton\n",
      "  token\n",
      "  verify\n"
     ]
    }
   ],
   "source": [
    "# Show the conda command help\n",
    "!conda -h"
   ]
  },
  {
   "cell_type": "markdown",
   "id": "ae964e1d",
   "metadata": {},
   "source": [
    "## Install GeoPandas using `conda`\n",
    "\n",
    "We'll install GeoPandas using `conda`, as recommended in the [Getting Started](https://geopandas.org/en/stable/getting_started.html) page."
   ]
  },
  {
   "cell_type": "markdown",
   "id": "df621f27",
   "metadata": {},
   "source": [
    "First, we'll update all conda packages to avoid [this error](https://stackoverflow.com/questions/57518050/conda-install-and-update-do-not-work-also-solving-environment-get-errors).\n",
    "\n",
    "Let's walk through the command piece by piece:\n",
    "\n",
    "- `conda`: This is the main command that we're running.\n",
    "- `update`: This is the subcommand. This tells conda that we want to update packages.\n",
    "- `--all`: Update all installed packages in the environment.\n",
    "- `--yes`: Do not ask for confirmation. We need to do this because we're running the command inside a Jupyter notebook and can't provide any additional input to the command.\n",
    "\n",
    "This might take a while. Pay attention to the label to the left of the cell below. When it switches from `In [*]` to `In [2]` (note that the number may be different than `2`), you'll know the command is finished. The output you see on your computer may differ from the output below.\n",
    "\n",
    "🔨 To update all conda packages, run this command:"
   ]
  },
  {
   "cell_type": "code",
   "execution_count": 2,
   "id": "fd70321e",
   "metadata": {},
   "outputs": [
    {
     "name": "stdout",
     "output_type": "stream",
     "text": [
      "Collecting package metadata (current_repodata.json): ...working... done\n",
      "Solving environment: ...working... done\n",
      "\n",
      "## Package Plan ##\n",
      "\n",
      "  environment location: C:\\Users\\ghing\\anaconda3\n",
      "\n",
      "\n",
      "The following packages will be downloaded:\n",
      "\n",
      "    package                    |            build\n",
      "    ---------------------------|-----------------\n",
      "    click-plugins-1.1.1        |     pyhd3eb1b0_0          10 KB\n",
      "    cligj-0.7.2                |   py39haa95532_0          14 KB\n",
      "    font-ttf-dejavu-sans-mono-2.37|       hd3eb1b0_0         335 KB\n",
      "    font-ttf-inconsolata-2.001 |       hcb22688_0          83 KB\n",
      "    font-ttf-source-code-pro-2.030|       hd3eb1b0_0         654 KB\n",
      "    font-ttf-ubuntu-0.83       |       h8b1ccd4_0         1.5 MB\n",
      "    fonts-anaconda-1           |       h8fa9717_0           3 KB\n",
      "    fonts-conda-ecosystem-1    |       hd3eb1b0_0           5 KB\n",
      "    freexl-1.0.6               |       h2bbff1b_0          51 KB\n",
      "    geopandas-0.9.0            |             py_1          10 KB\n",
      "    geopandas-base-0.9.0       |             py_1         919 KB\n",
      "    jxrlib-1.1                 |       he774522_2         337 KB\n",
      "    libffi-3.4.2               |       h604cdb4_1          43 KB\n",
      "    libwebp-base-1.2.2         |       h2bbff1b_0         304 KB\n",
      "    mapclassify-2.4.3          |     pyhd3eb1b0_0          36 KB\n",
      "    munch-2.5.0                |     pyhd3eb1b0_0          13 KB\n",
      "    pcre-8.45                  |       hd77b12b_0         382 KB\n",
      "    pixman-0.40.0              |       h2bbff1b_1         402 KB\n",
      "    sip-4.19.25                |   py39hd77b12b_0         263 KB\n",
      "    xerces-c-3.2.3             |       ha925a31_0         2.8 MB\n",
      "    ------------------------------------------------------------\n",
      "                                           Total:         8.1 MB\n",
      "\n",
      "The following NEW packages will be INSTALLED:\n",
      "\n",
      "  fonts-anaconda     pkgs/main/noarch::fonts-anaconda-1-h8fa9717_0\n",
      "\n",
      "The following packages will be REMOVED:\n",
      "\n",
      "  branca-0.4.2-pyhd8ed1ab_0\n",
      "  folium-0.12.1.post1-pyhd8ed1ab_1\n",
      "  fonts-conda-forge-1-0\n",
      "  xyzservices-2022.3.0-pyhd8ed1ab_0\n",
      "\n",
      "The following packages will be UPDATED:\n",
      "\n",
      "  ca-certificates    conda-forge::ca-certificates-2021.10.~ --> pkgs/main::ca-certificates-2022.3.29-haa95532_0\n",
      "  pixman              conda-forge::pixman-0.40.0-h8ffe710_0 --> pkgs/main::pixman-0.40.0-h2bbff1b_1\n",
      "  sip                                4.19.13-py39hd77b12b_0 --> 4.19.25-py39hd77b12b_0\n",
      "\n",
      "The following packages will be SUPERSEDED by a higher-priority channel:\n",
      "\n",
      "  certifi            conda-forge::certifi-2021.10.8-py39hc~ --> pkgs/main::certifi-2021.10.8-py39haa95532_2\n",
      "  click-plugins       conda-forge::click-plugins-1.1.1-py_0 --> pkgs/main::click-plugins-1.1.1-pyhd3eb1b0_0\n",
      "  cligj              conda-forge/noarch::cligj-0.7.2-pyhd8~ --> pkgs/main/win-64::cligj-0.7.2-py39haa95532_0\n",
      "  conda              conda-forge::conda-4.12.0-py39hcbf530~ --> pkgs/main::conda-4.12.0-py39haa95532_0\n",
      "  font-ttf-dejavu-s~ conda-forge::font-ttf-dejavu-sans-mon~ --> pkgs/main::font-ttf-dejavu-sans-mono-2.37-hd3eb1b0_0\n",
      "  font-ttf-inconsol~ conda-forge::font-ttf-inconsolata-3.0~ --> pkgs/main::font-ttf-inconsolata-2.001-hcb22688_0\n",
      "  font-ttf-source-c~ conda-forge::font-ttf-source-code-pro~ --> pkgs/main::font-ttf-source-code-pro-2.030-hd3eb1b0_0\n",
      "  font-ttf-ubuntu    conda-forge::font-ttf-ubuntu-0.83-hab~ --> pkgs/main::font-ttf-ubuntu-0.83-h8b1ccd4_0\n",
      "  fonts-conda-ecosy~ conda-forge::fonts-conda-ecosystem-1-0 --> pkgs/main::fonts-conda-ecosystem-1-hd3eb1b0_0\n",
      "  freexl               conda-forge::freexl-1.0.6-ha8e266a_0 --> pkgs/main::freexl-1.0.6-h2bbff1b_0\n",
      "  geopandas          conda-forge::geopandas-0.10.2-pyhd8ed~ --> pkgs/main::geopandas-0.9.0-py_1\n",
      "  geopandas-base     conda-forge::geopandas-base-0.10.2-py~ --> pkgs/main::geopandas-base-0.9.0-py_1\n",
      "  jxrlib                 conda-forge::jxrlib-1.1-h8ffe710_2 --> pkgs/main::jxrlib-1.1-he774522_2\n",
      "  libffi               conda-forge::libffi-3.4.2-h8ffe710_5 --> pkgs/main::libffi-3.4.2-h604cdb4_1\n",
      "  libwebp-base       conda-forge::libwebp-base-1.2.2-h8ffe~ --> pkgs/main::libwebp-base-1.2.2-h2bbff1b_0\n",
      "  mapclassify        conda-forge::mapclassify-2.4.3-pyhd8e~ --> pkgs/main::mapclassify-2.4.3-pyhd3eb1b0_0\n",
      "  munch                       conda-forge::munch-2.5.0-py_0 --> pkgs/main::munch-2.5.0-pyhd3eb1b0_0\n",
      "  openssl            conda-forge::openssl-1.1.1n-h8ffe710_0 --> pkgs/main::openssl-1.1.1n-h2bbff1b_0\n",
      "  pcre                    conda-forge::pcre-8.45-h0e60522_0 --> pkgs/main::pcre-8.45-hd77b12b_0\n",
      "  xerces-c           conda-forge::xerces-c-3.2.3-h0e60522_4 --> pkgs/main::xerces-c-3.2.3-ha925a31_0\n",
      "\n",
      "\n",
      "\n",
      "Downloading and Extracting Packages\n",
      "\n",
      "cligj-0.7.2          | 14 KB     |            |   0% \n",
      "cligj-0.7.2          | 14 KB     | ########## | 100% \n",
      "cligj-0.7.2          | 14 KB     | ########## | 100% \n",
      "\n",
      "jxrlib-1.1           | 337 KB    |            |   0% \n",
      "jxrlib-1.1           | 337 KB    | ########## | 100% \n",
      "jxrlib-1.1           | 337 KB    | ########## | 100% \n",
      "\n",
      "pixman-0.40.0        | 402 KB    |            |   0% \n",
      "pixman-0.40.0        | 402 KB    | ########## | 100% \n",
      "pixman-0.40.0        | 402 KB    | ########## | 100% \n",
      "\n",
      "geopandas-base-0.9.0 | 919 KB    |            |   0% \n",
      "geopandas-base-0.9.0 | 919 KB    | ######4    |  64% \n",
      "geopandas-base-0.9.0 | 919 KB    | ########## | 100% \n",
      "\n",
      "mapclassify-2.4.3    | 36 KB     |            |   0% \n",
      "mapclassify-2.4.3    | 36 KB     | ########## | 100% \n",
      "mapclassify-2.4.3    | 36 KB     | ########## | 100% \n",
      "\n",
      "munch-2.5.0          | 13 KB     |            |   0% \n",
      "munch-2.5.0          | 13 KB     | ########## | 100% \n",
      "munch-2.5.0          | 13 KB     | ########## | 100% \n",
      "\n",
      "libffi-3.4.2         | 43 KB     |            |   0% \n",
      "libffi-3.4.2         | 43 KB     | ########## | 100% \n",
      "libffi-3.4.2         | 43 KB     | ########## | 100% \n",
      "\n",
      "font-ttf-source-code | 654 KB    |            |   0% \n",
      "font-ttf-source-code | 654 KB    | ########   |  81% \n",
      "font-ttf-source-code | 654 KB    | ########## | 100% \n",
      "\n",
      "geopandas-0.9.0      | 10 KB     |            |   0% \n",
      "geopandas-0.9.0      | 10 KB     | ########## | 100% \n",
      "\n",
      "font-ttf-ubuntu-0.83 | 1.5 MB    |            |   0% \n",
      "font-ttf-ubuntu-0.83 | 1.5 MB    | ###8       |  39% \n",
      "font-ttf-ubuntu-0.83 | 1.5 MB    | ########6  |  87% \n",
      "font-ttf-ubuntu-0.83 | 1.5 MB    | ########## | 100% \n",
      "\n",
      "xerces-c-3.2.3       | 2.8 MB    |            |   0% \n",
      "xerces-c-3.2.3       | 2.8 MB    | ##         |  20% \n",
      "xerces-c-3.2.3       | 2.8 MB    | ####6      |  46% \n",
      "xerces-c-3.2.3       | 2.8 MB    | #######    |  71% \n",
      "xerces-c-3.2.3       | 2.8 MB    | #########6 |  97% \n",
      "xerces-c-3.2.3       | 2.8 MB    | ########## | 100% \n",
      "\n",
      "sip-4.19.25          | 263 KB    |            |   0% \n",
      "sip-4.19.25          | 263 KB    | 6          |   6% \n",
      "sip-4.19.25          | 263 KB    | ########## | 100% \n",
      "sip-4.19.25          | 263 KB    | ########## | 100% \n",
      "\n",
      "font-ttf-dejavu-sans | 335 KB    |            |   0% \n",
      "font-ttf-dejavu-sans | 335 KB    | ########## | 100% \n",
      "font-ttf-dejavu-sans | 335 KB    | ########## | 100% \n",
      "\n",
      "click-plugins-1.1.1  | 10 KB     |            |   0% \n",
      "click-plugins-1.1.1  | 10 KB     | ########## | 100% \n",
      "\n",
      "libwebp-base-1.2.2   | 304 KB    |            |   0% \n",
      "libwebp-base-1.2.2   | 304 KB    | ########## | 100% \n",
      "libwebp-base-1.2.2   | 304 KB    | ########## | 100% \n",
      "\n",
      "fonts-conda-ecosyste | 5 KB      |            |   0% \n",
      "fonts-conda-ecosyste | 5 KB      | ########## | 100% \n",
      "\n",
      "font-ttf-inconsolata | 83 KB     |            |   0% \n",
      "font-ttf-inconsolata | 83 KB     | ########## | 100% \n",
      "font-ttf-inconsolata | 83 KB     | ########## | 100% \n",
      "\n",
      "fonts-anaconda-1     | 3 KB      |            |   0% \n",
      "fonts-anaconda-1     | 3 KB      | ########## | 100% \n",
      "\n",
      "pcre-8.45            | 382 KB    |            |   0% \n",
      "pcre-8.45            | 382 KB    | ########## | 100% \n",
      "pcre-8.45            | 382 KB    | ########## | 100% \n",
      "\n",
      "freexl-1.0.6         | 51 KB     |            |   0% \n",
      "freexl-1.0.6         | 51 KB     | ########## | 100% \n",
      "freexl-1.0.6         | 51 KB     | ########## | 100% \n",
      "Preparing transaction: ...working... done\n",
      "Verifying transaction: ...working... done\n",
      "Executing transaction: ...working... done\n"
     ]
    }
   ],
   "source": [
    "# Update all conda packages\n",
    "\n",
    "!conda update --all --yes"
   ]
  },
  {
   "cell_type": "markdown",
   "id": "47dcbdf1",
   "metadata": {},
   "source": [
    "Then install GeoPandas.\n",
    "\n",
    "Let's walk through the command piece by piece:\n",
    "\n",
    "- `conda`: This is the main command that we're running.\n",
    "- `install`: This is the subcommand. This tells conda that we want to install a new package.\n",
    "- `-c conda-forge`: Install the package using the [conda-forge](https://conda-forge.org/index.html) channel. [Channels](https://docs.conda.io/projects/conda/en/latest/user-guide/concepts/channels.html) are different sources for packages that can be installed in Anaconda. We use `conda-forge`, a channel of user-contributed packages, because GeoPandas, or at least a recent version of it, isn't available in the default channel.\n",
    "- `--yes`: Do not ask for confirmation. We need to do this because we're running the command inside a Jupyter notebook and can't provide any additional input to the command.\n",
    "- `geopandas`: The name of the package we want to install.\n",
    "\n",
    "Again, the output you see may differ from that below.\n",
    "\n",
    "🔨 To install GeoPandas using `conda`, run this command:"
   ]
  },
  {
   "cell_type": "code",
   "execution_count": 3,
   "id": "75851d3f",
   "metadata": {},
   "outputs": [
    {
     "name": "stdout",
     "output_type": "stream",
     "text": [
      "Collecting package metadata (current_repodata.json): ...working... done"
     ]
    },
    {
     "name": "stderr",
     "output_type": "stream",
     "text": [
      "WARNING conda.gateways.disk.delete:unlink_or_rename_to_trash(143): Could not remove or rename C:\\Users\\ghing\\anaconda3\\Library\\bin\\libcrypto-1_1-x64.dll.c~.  Please remove this file manually (you may need to reboot to free file handles)\n",
      "WARNING conda.gateways.disk.delete:unlink_or_rename_to_trash(143): Could not remove or rename C:\\Users\\ghing\\anaconda3\\Library\\bin\\libssl-1_1-x64.dll.c~.  Please remove this file manually (you may need to reboot to free file handles)\n"
     ]
    },
    {
     "name": "stdout",
     "output_type": "stream",
     "text": [
      "\n",
      "Solving environment: ...working... done\n",
      "\n",
      "## Package Plan ##\n",
      "\n",
      "  environment location: C:\\Users\\ghing\\anaconda3\n",
      "\n",
      "  added / updated specs:\n",
      "    - geopandas\n",
      "\n",
      "\n",
      "The following packages will be SUPERSEDED by a higher-priority channel:\n",
      "\n",
      "  ca-certificates    pkgs/main::ca-certificates-2022.3.29-~ --> conda-forge::ca-certificates-2021.10.8-h5b45459_0\n",
      "  certifi            pkgs/main::certifi-2021.10.8-py39haa9~ --> conda-forge::certifi-2021.10.8-py39hcbf5309_2\n",
      "  conda              pkgs/main::conda-4.12.0-py39haa95532_0 --> conda-forge::conda-4.12.0-py39hcbf5309_0\n",
      "  openssl              pkgs/main::openssl-1.1.1n-h2bbff1b_0 --> conda-forge::openssl-1.1.1n-h8ffe710_0\n",
      "\n",
      "\n",
      "Preparing transaction: ...working... done\n",
      "Verifying transaction: ...working... done\n",
      "Executing transaction: ...working... done\n"
     ]
    }
   ],
   "source": [
    "# Install GeoPandas using conda\n",
    "\n",
    "!conda install -c conda-forge --yes geopandas"
   ]
  },
  {
   "cell_type": "markdown",
   "id": "93a94886",
   "metadata": {},
   "source": [
    "# Testing out GeoPandas"
   ]
  },
  {
   "cell_type": "markdown",
   "id": "d402c734",
   "metadata": {},
   "source": [
    "⚠️ To avoid confusing errors, let's restart the notebook kernel before trying to run the next cells. To do this choose **Kernel** > **Restart** from the Jupyter notebook menu bar.\n",
    "\n",
    "🔨 Then try importing the GeoPandas package:"
   ]
  },
  {
   "cell_type": "code",
   "execution_count": 1,
   "id": "676c0104",
   "metadata": {},
   "outputs": [],
   "source": [
    "import geopandas as gpd"
   ]
  },
  {
   "cell_type": "markdown",
   "id": "2e3ed5ed",
   "metadata": {},
   "source": [
    "🔨 Then try loading the spatial data provided in class, `council_districts_clean_final.gpkg`:"
   ]
  },
  {
   "cell_type": "code",
   "execution_count": 15,
   "id": "e1834a09",
   "metadata": {},
   "outputs": [
    {
     "data": {
      "text/html": [
       "<div>\n",
       "<style scoped>\n",
       "    .dataframe tbody tr th:only-of-type {\n",
       "        vertical-align: middle;\n",
       "    }\n",
       "\n",
       "    .dataframe tbody tr th {\n",
       "        vertical-align: top;\n",
       "    }\n",
       "\n",
       "    .dataframe thead th {\n",
       "        text-align: right;\n",
       "    }\n",
       "</style>\n",
       "<table border=\"1\" class=\"dataframe\">\n",
       "  <thead>\n",
       "    <tr style=\"text-align: right;\">\n",
       "      <th></th>\n",
       "      <th>OBJECTID</th>\n",
       "      <th>C_TRACT</th>\n",
       "      <th>DISTRICT</th>\n",
       "      <th>REP_NAME</th>\n",
       "      <th>REP_URL</th>\n",
       "      <th>EMAIL</th>\n",
       "      <th>IMAGE_URL</th>\n",
       "      <th>geometry</th>\n",
       "    </tr>\n",
       "  </thead>\n",
       "  <tbody>\n",
       "    <tr>\n",
       "      <th>0</th>\n",
       "      <td>649</td>\n",
       "      <td>1</td>\n",
       "      <td>1</td>\n",
       "      <td>Councilmember Ann O'Brien</td>\n",
       "      <td>https://phoenix.gov/district1</td>\n",
       "      <td>https://www.phoenix.gov/district1/contact-dist...</td>\n",
       "      <td>https://www.phoenix.gov/piosite/MediaAssets/An...</td>\n",
       "      <td>MULTIPOLYGON (((-112.14573 33.91471, -112.1457...</td>\n",
       "    </tr>\n",
       "    <tr>\n",
       "      <th>1</th>\n",
       "      <td>650</td>\n",
       "      <td>2</td>\n",
       "      <td>2</td>\n",
       "      <td>Councilmember Jim Waring</td>\n",
       "      <td>https://phoenix.gov/district2</td>\n",
       "      <td>https://www.phoenix.gov/district2/contact-dist...</td>\n",
       "      <td>https://www.phoenix.gov/Media%20Assets/waring-...</td>\n",
       "      <td>MULTIPOLYGON (((-112.10017 33.81318, -112.1001...</td>\n",
       "    </tr>\n",
       "    <tr>\n",
       "      <th>2</th>\n",
       "      <td>651</td>\n",
       "      <td>3</td>\n",
       "      <td>3</td>\n",
       "      <td>Councilmember Debra Stark</td>\n",
       "      <td>https://phoenix.gov/district3</td>\n",
       "      <td>https://www.phoenix.gov/district3/contact-dist...</td>\n",
       "      <td>https://www.phoenix.gov/Media%20Assets/Debra%2...</td>\n",
       "      <td>MULTIPOLYGON (((-112.09155 33.66922, -112.0915...</td>\n",
       "    </tr>\n",
       "    <tr>\n",
       "      <th>3</th>\n",
       "      <td>652</td>\n",
       "      <td>4</td>\n",
       "      <td>4</td>\n",
       "      <td>Vice Mayor Laura Pastor</td>\n",
       "      <td>https://phoenix.gov/district4</td>\n",
       "      <td>https://www.phoenix.gov/district4/contact-dist...</td>\n",
       "      <td>https://www.phoenix.gov/Media%20Assets/laura-p...</td>\n",
       "      <td>MULTIPOLYGON (((-112.10022 33.52414, -112.0997...</td>\n",
       "    </tr>\n",
       "    <tr>\n",
       "      <th>4</th>\n",
       "      <td>653</td>\n",
       "      <td>5</td>\n",
       "      <td>5</td>\n",
       "      <td>Councilmember Betty Guardado</td>\n",
       "      <td>https://phoenix.gov/district5</td>\n",
       "      <td>https://www.phoenix.gov/district5/contact-dist...</td>\n",
       "      <td>https://Phoenix.gov/district5site/MediaAssets/...</td>\n",
       "      <td>MULTIPOLYGON (((-112.10044 33.56761, -112.0996...</td>\n",
       "    </tr>\n",
       "  </tbody>\n",
       "</table>\n",
       "</div>"
      ],
      "text/plain": [
       "   OBJECTID  C_TRACT DISTRICT                      REP_NAME  \\\n",
       "0       649        1        1     Councilmember Ann O'Brien   \n",
       "1       650        2        2      Councilmember Jim Waring   \n",
       "2       651        3        3     Councilmember Debra Stark   \n",
       "3       652        4        4       Vice Mayor Laura Pastor   \n",
       "4       653        5        5  Councilmember Betty Guardado   \n",
       "\n",
       "                         REP_URL  \\\n",
       "0  https://phoenix.gov/district1   \n",
       "1  https://phoenix.gov/district2   \n",
       "2  https://phoenix.gov/district3   \n",
       "3  https://phoenix.gov/district4   \n",
       "4  https://phoenix.gov/district5   \n",
       "\n",
       "                                               EMAIL  \\\n",
       "0  https://www.phoenix.gov/district1/contact-dist...   \n",
       "1  https://www.phoenix.gov/district2/contact-dist...   \n",
       "2  https://www.phoenix.gov/district3/contact-dist...   \n",
       "3  https://www.phoenix.gov/district4/contact-dist...   \n",
       "4  https://www.phoenix.gov/district5/contact-dist...   \n",
       "\n",
       "                                           IMAGE_URL  \\\n",
       "0  https://www.phoenix.gov/piosite/MediaAssets/An...   \n",
       "1  https://www.phoenix.gov/Media%20Assets/waring-...   \n",
       "2  https://www.phoenix.gov/Media%20Assets/Debra%2...   \n",
       "3  https://www.phoenix.gov/Media%20Assets/laura-p...   \n",
       "4  https://Phoenix.gov/district5site/MediaAssets/...   \n",
       "\n",
       "                                            geometry  \n",
       "0  MULTIPOLYGON (((-112.14573 33.91471, -112.1457...  \n",
       "1  MULTIPOLYGON (((-112.10017 33.81318, -112.1001...  \n",
       "2  MULTIPOLYGON (((-112.09155 33.66922, -112.0915...  \n",
       "3  MULTIPOLYGON (((-112.10022 33.52414, -112.0997...  \n",
       "4  MULTIPOLYGON (((-112.10044 33.56761, -112.0996...  "
      ]
     },
     "execution_count": 15,
     "metadata": {},
     "output_type": "execute_result"
    }
   ],
   "source": [
    "# Load the council districts\n",
    "\n",
    "councildistricts = gpd.read_file(\"council_districts_clean_final.gpkg\")\n",
    "# Reproject the data to WGS84\n",
    "# See https://en.wikipedia.org/wiki/World_Geodetic_System\n",
    "councildistricts = councildistricts.to_crs(\"EPSG:4326\")\n",
    "\n",
    "# Display the first few rows of data\n",
    "councildistricts.head()"
   ]
  },
  {
   "cell_type": "markdown",
   "id": "ad25932b",
   "metadata": {},
   "source": [
    "## What if this didn't work?\n",
    "\n",
    "If you weren't able to install GeoPandas using `conda`, you can try installing the package and its dependencies using `pip`. The method is essentially the one described at [Geopandas Installation— the easy way for Windows!](https://towardsdatascience.com/geopandas-installation-the-easy-way-for-windows-31a666b3610f).\n",
    "\n",
    "If a lot people are still having problems, I may update this notebook to provide step-by-step instructions with this method."
   ]
  },
  {
   "cell_type": "markdown",
   "id": "da31bf28",
   "metadata": {},
   "source": [
    "## Bonus: A full scenario of using a command in a cell and GeoPandas"
   ]
  },
  {
   "cell_type": "markdown",
   "id": "0d5a65b9",
   "metadata": {},
   "source": [
    "Let's try to combine what we've learned about running shell commands in notebooks and using GeoPandas to re-do the same task from start to finish.\n",
    "\n",
    "More realistically, you might want to download a data file, such as a shapefile of [Phoenix City Council districts](https://mapping-phoenix.opendata.arcgis.com/datasets/Phoenix::council-district/) using the `curl` command. I often find it easier to download files using command-line commands than with Python code.\n",
    "\n",
    "Let's download the shapefile, `Council_District.zip` directly from the City of Phoenix data portal to your `Downloads` folder."
   ]
  },
  {
   "cell_type": "code",
   "execution_count": 5,
   "id": "8b597104",
   "metadata": {},
   "outputs": [
    {
     "name": "stderr",
     "output_type": "stream",
     "text": [
      "  % Total    % Received % Xferd  Average Speed   Time    Time     Time  Current\n",
      "                                 Dload  Upload   Total   Spent    Left  Speed\n",
      "\n",
      "  0     0    0     0    0     0      0      0 --:--:-- --:--:-- --:--:--     0\n",
      "  0     0    0     0    0     0      0      0 --:--:-- --:--:-- --:--:--     0\n",
      "100  147k    0  147k    0     0   209k      0 --:--:-- --:--:-- --:--:--  210k\n"
     ]
    }
   ],
   "source": [
    "# Download Phoenix city council districts to your `Downloads` folder\n",
    "\n",
    "!curl -o \"%HOMEDRIVE%%HOMEPATH%\"\\Downloads\\Council_District.zip \"https://opendata.arcgis.com/api/v3/datasets/a2fdd8d51f094643bd73b78dbbd16238_0/downloads/data?format=shp&spatialRefId=2868\""
   ]
  },
  {
   "cell_type": "markdown",
   "id": "a303e893",
   "metadata": {},
   "source": [
    "You're likely used to making sure your data files are in the same directory as your notebook file. Or, specifying the full path to a file. However, we can also use the [pathlib](https://docs.python.org/3/library/pathlib.html) package that comes built-in with Python to clearly build paths. To learn more about `pathlib`, you might want to read [Python 3's pathlib Module: Taming the File System](https://realpython.com/python-pathlib/). However, just running this code should work.\n",
    "\n",
    "Here, we'll use pathlib to build a path to the shapefile of Phoenix City Council districts we downloaded earlier using `curl`. This method avoids having to edit hard-coded paths. For example, I could have just written\n",
    "\n",
    "```\n",
    "council_districts_path = 'C:/Users/ghing/Downloads/Council_District.zip'\n",
    "```\n",
    "\n",
    "but then you would have to change the path to match your drive letter and user name."
   ]
  },
  {
   "cell_type": "code",
   "execution_count": 16,
   "id": "b1b4125e",
   "metadata": {},
   "outputs": [
    {
     "data": {
      "text/plain": [
       "WindowsPath('C:/Users/ghing/Downloads/Council_District.zip')"
      ]
     },
     "execution_count": 16,
     "metadata": {},
     "output_type": "execute_result"
    }
   ],
   "source": [
    "# Build a path to the file we downloaded earlier\n",
    "\n",
    "from pathlib import Path\n",
    "\n",
    "councildistricts2_path = Path.home() / \"Downloads\" / \"Council_District.zip\"\n",
    "\n",
    "# Display the path\n",
    "councildistricts2_path"
   ]
  },
  {
   "cell_type": "markdown",
   "id": "8ce190df",
   "metadata": {},
   "source": [
    "Finally, we can use GeoPandas to load the downloaded file and then use the familiar `.head()` method to view the first few rows of data, just like in regular Pandas."
   ]
  },
  {
   "cell_type": "code",
   "execution_count": 17,
   "id": "7f3c88d8",
   "metadata": {},
   "outputs": [
    {
     "data": {
      "text/html": [
       "<div>\n",
       "<style scoped>\n",
       "    .dataframe tbody tr th:only-of-type {\n",
       "        vertical-align: middle;\n",
       "    }\n",
       "\n",
       "    .dataframe tbody tr th {\n",
       "        vertical-align: top;\n",
       "    }\n",
       "\n",
       "    .dataframe thead th {\n",
       "        text-align: right;\n",
       "    }\n",
       "</style>\n",
       "<table border=\"1\" class=\"dataframe\">\n",
       "  <thead>\n",
       "    <tr style=\"text-align: right;\">\n",
       "      <th></th>\n",
       "      <th>OBJECTID</th>\n",
       "      <th>C_TRACT</th>\n",
       "      <th>DISTRICT</th>\n",
       "      <th>REP_NAME</th>\n",
       "      <th>REP_URL</th>\n",
       "      <th>EMAIL</th>\n",
       "      <th>IMAGE_URL</th>\n",
       "      <th>geometry</th>\n",
       "    </tr>\n",
       "  </thead>\n",
       "  <tbody>\n",
       "    <tr>\n",
       "      <th>0</th>\n",
       "      <td>649</td>\n",
       "      <td>1</td>\n",
       "      <td>1</td>\n",
       "      <td>Councilmember Ann O'Brien</td>\n",
       "      <td>https://phoenix.gov/district1</td>\n",
       "      <td>https://www.phoenix.gov/district1/contact-dist...</td>\n",
       "      <td>https://www.phoenix.gov/piosite/MediaAssets/An...</td>\n",
       "      <td>POLYGON ((-112.14573 33.91471, -112.14573 33.9...</td>\n",
       "    </tr>\n",
       "    <tr>\n",
       "      <th>1</th>\n",
       "      <td>650</td>\n",
       "      <td>2</td>\n",
       "      <td>2</td>\n",
       "      <td>Councilmember Jim Waring</td>\n",
       "      <td>https://phoenix.gov/district2</td>\n",
       "      <td>https://www.phoenix.gov/district2/contact-dist...</td>\n",
       "      <td>https://www.phoenix.gov/Media%20Assets/waring-...</td>\n",
       "      <td>MULTIPOLYGON (((-112.10017 33.81318, -112.1001...</td>\n",
       "    </tr>\n",
       "    <tr>\n",
       "      <th>2</th>\n",
       "      <td>651</td>\n",
       "      <td>3</td>\n",
       "      <td>3</td>\n",
       "      <td>Councilmember Debra Stark</td>\n",
       "      <td>https://phoenix.gov/district3</td>\n",
       "      <td>https://www.phoenix.gov/district3/contact-dist...</td>\n",
       "      <td>https://www.phoenix.gov/Media%20Assets/Debra%2...</td>\n",
       "      <td>POLYGON ((-112.09155 33.66922, -112.09155 33.6...</td>\n",
       "    </tr>\n",
       "    <tr>\n",
       "      <th>3</th>\n",
       "      <td>652</td>\n",
       "      <td>4</td>\n",
       "      <td>4</td>\n",
       "      <td>Vice Mayor Laura Pastor</td>\n",
       "      <td>https://phoenix.gov/district4</td>\n",
       "      <td>https://www.phoenix.gov/district4/contact-dist...</td>\n",
       "      <td>https://www.phoenix.gov/Media%20Assets/laura-p...</td>\n",
       "      <td>POLYGON ((-112.10022 33.52414, -112.09971 33.5...</td>\n",
       "    </tr>\n",
       "    <tr>\n",
       "      <th>4</th>\n",
       "      <td>653</td>\n",
       "      <td>5</td>\n",
       "      <td>5</td>\n",
       "      <td>Councilmember Betty Guardado</td>\n",
       "      <td>https://phoenix.gov/district5</td>\n",
       "      <td>https://www.phoenix.gov/district5/contact-dist...</td>\n",
       "      <td>https://Phoenix.gov/district5site/MediaAssets/...</td>\n",
       "      <td>POLYGON ((-112.10044 33.56761, -112.09964 33.5...</td>\n",
       "    </tr>\n",
       "  </tbody>\n",
       "</table>\n",
       "</div>"
      ],
      "text/plain": [
       "   OBJECTID  C_TRACT DISTRICT                      REP_NAME  \\\n",
       "0       649        1        1     Councilmember Ann O'Brien   \n",
       "1       650        2        2      Councilmember Jim Waring   \n",
       "2       651        3        3     Councilmember Debra Stark   \n",
       "3       652        4        4       Vice Mayor Laura Pastor   \n",
       "4       653        5        5  Councilmember Betty Guardado   \n",
       "\n",
       "                         REP_URL  \\\n",
       "0  https://phoenix.gov/district1   \n",
       "1  https://phoenix.gov/district2   \n",
       "2  https://phoenix.gov/district3   \n",
       "3  https://phoenix.gov/district4   \n",
       "4  https://phoenix.gov/district5   \n",
       "\n",
       "                                               EMAIL  \\\n",
       "0  https://www.phoenix.gov/district1/contact-dist...   \n",
       "1  https://www.phoenix.gov/district2/contact-dist...   \n",
       "2  https://www.phoenix.gov/district3/contact-dist...   \n",
       "3  https://www.phoenix.gov/district4/contact-dist...   \n",
       "4  https://www.phoenix.gov/district5/contact-dist...   \n",
       "\n",
       "                                           IMAGE_URL  \\\n",
       "0  https://www.phoenix.gov/piosite/MediaAssets/An...   \n",
       "1  https://www.phoenix.gov/Media%20Assets/waring-...   \n",
       "2  https://www.phoenix.gov/Media%20Assets/Debra%2...   \n",
       "3  https://www.phoenix.gov/Media%20Assets/laura-p...   \n",
       "4  https://Phoenix.gov/district5site/MediaAssets/...   \n",
       "\n",
       "                                            geometry  \n",
       "0  POLYGON ((-112.14573 33.91471, -112.14573 33.9...  \n",
       "1  MULTIPOLYGON (((-112.10017 33.81318, -112.1001...  \n",
       "2  POLYGON ((-112.09155 33.66922, -112.09155 33.6...  \n",
       "3  POLYGON ((-112.10022 33.52414, -112.09971 33.5...  \n",
       "4  POLYGON ((-112.10044 33.56761, -112.09964 33.5...  "
      ]
     },
     "execution_count": 17,
     "metadata": {},
     "output_type": "execute_result"
    }
   ],
   "source": [
    "# Read the city council districts shapefile\n",
    "\n",
    "councildistricts2 = gpd.read_file(councildistricts2_path)\n",
    "# Reproject the data to WGS84\n",
    "# See https://en.wikipedia.org/wiki/World_Geodetic_System\n",
    "councildistricts2 = councildistricts2.to_crs(\"EPSG:4326\")\n",
    "\n",
    "\n",
    "councildistricts2.head()"
   ]
  },
  {
   "cell_type": "code",
   "execution_count": null,
   "id": "a54f4953",
   "metadata": {},
   "outputs": [],
   "source": []
  }
 ],
 "metadata": {
  "kernelspec": {
   "display_name": "Python 3 (ipykernel)",
   "language": "python",
   "name": "python3"
  },
  "language_info": {
   "codemirror_mode": {
    "name": "ipython",
    "version": 3
   },
   "file_extension": ".py",
   "mimetype": "text/x-python",
   "name": "python",
   "nbconvert_exporter": "python",
   "pygments_lexer": "ipython3",
   "version": "3.9.12"
  }
 },
 "nbformat": 4,
 "nbformat_minor": 5
}
