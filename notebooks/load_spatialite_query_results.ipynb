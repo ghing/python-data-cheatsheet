{
 "cells": [
  {
   "cell_type": "markdown",
   "id": "0abd906b-7831-4f0b-b558-dcd9f1b6aeaf",
   "metadata": {},
   "source": [
    "# Loading the results of a Spatialite spatial query\n",
    "\n",
    "You need to make sure you have Python compiled with the ability to load extensions:\n",
    "\n",
    "```\n",
    "CONFIGURE_OPTS=--enable-loadable-sqlite-extensions pyenv install 3.9.4\n",
    "```\n",
    "\n",
    "If you installed sqlite3 on a Mac using Homebrew, you might also have to point to the Homebrew versions of the libraries:\n",
    "\n",
    "```\n",
    "LDFLAGS=\"-L/usr/local/opt/sqlite/lib\" CPPFLAGS=\"-I/usr/local/opt/sqlite/include\" CONFIGURE_OPTS=--enable-loadable-sqlite-extensions pyenv install 3.9.4\n",
    "```\n",
    "\n",
    "After making your database connection, you need to load the spatialite extension:\n",
    "\n",
    "```\n",
    "import sqlite3\n",
    "\n",
    "con = sqlite3.connect(\"spatial_data.db\")\n",
    "con.enable_load_extension(True)\n",
    "con.load_extension('mod_spatialite')\n",
    "```\n",
    "\n",
    "Once you've created the connection object like this, you can [`geopandas.GeoDataFrame.from_postgis()`](https://geopandas.org/docs/reference/api/geopandas.GeoDataFrame.from_postgis.html#geopandas.GeoDataFrame.from_postgis) to query the database.\n",
    "\n",
    "Note that you have to do some conversion on the data in the geometry column. Geopandas also expects the column to be named `geom` (though you can override this). You may also need to specify the coordinate reference system (CRS) using the `crs` argument.\n",
    "\n",
    "```\n",
    "gpd.read_postgis(\"SELECT name, Hex(ST_AsBinary(geometry)) as geom FROM parcels LIMIT 5\", con=con)\n",
    "```\n",
    "\n",
    "Sources: [Python sqlite3.Connection object has no attribute 'enable_load_extension](https://code.luasoftware.com/tutorials/python/python-sqlite3-connection-objecthas-no-attribute-enable-load-extension/) (Lua Software Code), [Loading spatialite tables into GeoPandas GeoDataFrames](https://gist.github.com/perrygeo/868135514d2518257bbb)\n"
   ]
  },
  {
   "cell_type": "code",
   "execution_count": null,
   "id": "36aae499-01d6-4aba-8c85-44ec5d945348",
   "metadata": {},
   "outputs": [],
   "source": []
  }
 ],
 "metadata": {
  "kernelspec": {
   "display_name": "python-data-cheatsheet",
   "language": "python",
   "name": "python-data-cheatsheet"
  },
  "language_info": {
   "name": ""
  }
 },
 "nbformat": 4,
 "nbformat_minor": 5
}
