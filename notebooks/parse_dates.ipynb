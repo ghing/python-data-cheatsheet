{
 "cells": [
  {
   "cell_type": "markdown",
   "metadata": {},
   "source": [
    "# Parse dates"
   ]
  },
  {
   "cell_type": "code",
   "execution_count": 1,
   "metadata": {},
   "outputs": [],
   "source": [
    "import io\n",
    "\n",
    "import pandas as pd"
   ]
  },
  {
   "cell_type": "code",
   "execution_count": 2,
   "metadata": {},
   "outputs": [],
   "source": [
    "# Create some toy data\n",
    "\n",
    "chicago_elections_nice_format_csv = \"\"\"date,election_type\n",
    "2019-02-26,Municipal General\n",
    "2018-11-06,General\n",
    "2018-03-20,Primary\n",
    "2017-02-28,Municipal General\n",
    "2016-11-08,General\n",
    "2016-03-15,Primary\n",
    "2015-04-07,Municipal Runoffs\n",
    "2015-02-24,Municipal General\n",
    "\"\"\"\n",
    "\n",
    "chicago_elections_broken_format_csv = \"\"\"date,election_type\n",
    "000-2-26,Municipal General\n",
    "2018-11-06,General\n",
    "2018-03-20,Primary\n",
    "2017-02-28,Municipal General\n",
    "2016-11-08,General\n",
    "2016-03-15,Primary\n",
    "2015-04-07,Municipal Runoffs\n",
    "2015-02-24,Municipal General\n",
    "\"\"\""
   ]
  },
  {
   "cell_type": "markdown",
   "metadata": {},
   "source": [
    "## Using the `parse_dates` argument to `read_csv()`\n",
    "\n",
    "The [read_csv()](https://pandas.pydata.org/pandas-docs/stable/reference/api/pandas.read_csv.html) function has a `parse_dates` argument that lets you specifcy columns to use when parsing dates.\n",
    "\n",
    "By default, `read_csv()` doesn't parse dates."
   ]
  },
  {
   "cell_type": "code",
   "execution_count": 3,
   "metadata": {},
   "outputs": [
    {
     "data": {
      "text/html": [
       "<div>\n",
       "<style scoped>\n",
       "    .dataframe tbody tr th:only-of-type {\n",
       "        vertical-align: middle;\n",
       "    }\n",
       "\n",
       "    .dataframe tbody tr th {\n",
       "        vertical-align: top;\n",
       "    }\n",
       "\n",
       "    .dataframe thead th {\n",
       "        text-align: right;\n",
       "    }\n",
       "</style>\n",
       "<table border=\"1\" class=\"dataframe\">\n",
       "  <thead>\n",
       "    <tr style=\"text-align: right;\">\n",
       "      <th></th>\n",
       "      <th>date</th>\n",
       "      <th>election_type</th>\n",
       "    </tr>\n",
       "  </thead>\n",
       "  <tbody>\n",
       "    <tr>\n",
       "      <th>0</th>\n",
       "      <td>2019-02-26</td>\n",
       "      <td>Municipal General</td>\n",
       "    </tr>\n",
       "    <tr>\n",
       "      <th>1</th>\n",
       "      <td>2018-11-06</td>\n",
       "      <td>General</td>\n",
       "    </tr>\n",
       "    <tr>\n",
       "      <th>2</th>\n",
       "      <td>2018-03-20</td>\n",
       "      <td>Primary</td>\n",
       "    </tr>\n",
       "    <tr>\n",
       "      <th>3</th>\n",
       "      <td>2017-02-28</td>\n",
       "      <td>Municipal General</td>\n",
       "    </tr>\n",
       "    <tr>\n",
       "      <th>4</th>\n",
       "      <td>2016-11-08</td>\n",
       "      <td>General</td>\n",
       "    </tr>\n",
       "    <tr>\n",
       "      <th>5</th>\n",
       "      <td>2016-03-15</td>\n",
       "      <td>Primary</td>\n",
       "    </tr>\n",
       "    <tr>\n",
       "      <th>6</th>\n",
       "      <td>2015-04-07</td>\n",
       "      <td>Municipal Runoffs</td>\n",
       "    </tr>\n",
       "    <tr>\n",
       "      <th>7</th>\n",
       "      <td>2015-02-24</td>\n",
       "      <td>Municipal General</td>\n",
       "    </tr>\n",
       "  </tbody>\n",
       "</table>\n",
       "</div>"
      ],
      "text/plain": [
       "         date      election_type\n",
       "0  2019-02-26  Municipal General\n",
       "1  2018-11-06            General\n",
       "2  2018-03-20            Primary\n",
       "3  2017-02-28  Municipal General\n",
       "4  2016-11-08            General\n",
       "5  2016-03-15            Primary\n",
       "6  2015-04-07  Municipal Runoffs\n",
       "7  2015-02-24  Municipal General"
      ]
     },
     "execution_count": 3,
     "metadata": {},
     "output_type": "execute_result"
    }
   ],
   "source": [
    "chicago_elections = pd.read_csv(io.StringIO(chicago_elections_nice_format_csv))\n",
    "\n",
    "chicago_elections"
   ]
  },
  {
   "cell_type": "code",
   "execution_count": 4,
   "metadata": {},
   "outputs": [
    {
     "data": {
      "text/plain": [
       "date             object\n",
       "election_type    object\n",
       "dtype: object"
      ]
     },
     "execution_count": 4,
     "metadata": {},
     "output_type": "execute_result"
    }
   ],
   "source": [
    "chicago_elections.dtypes"
   ]
  },
  {
   "cell_type": "markdown",
   "metadata": {},
   "source": [
    "However, you can specify columns to parse as dates by specifying the `parse_dates` argument."
   ]
  },
  {
   "cell_type": "code",
   "execution_count": 5,
   "metadata": {},
   "outputs": [
    {
     "data": {
      "text/plain": [
       "date             datetime64[ns]\n",
       "election_type            object\n",
       "dtype: object"
      ]
     },
     "execution_count": 5,
     "metadata": {},
     "output_type": "execute_result"
    }
   ],
   "source": [
    "chicago_elections = pd.read_csv(\n",
    "    io.StringIO(chicago_elections_nice_format_csv),\n",
    "    parse_dates=['date',]\n",
    ")\n",
    "\n",
    "chicago_elections.dtypes"
   ]
  },
  {
   "cell_type": "markdown",
   "metadata": {},
   "source": [
    "If a date is unparseable, `read_csv()` doesn't complain, but the data type for the date column will be `object`. Inspect the values of this column to try to find broken values."
   ]
  },
  {
   "cell_type": "code",
   "execution_count": 6,
   "metadata": {},
   "outputs": [
    {
     "data": {
      "text/plain": [
       "date             object\n",
       "election_type    object\n",
       "dtype: object"
      ]
     },
     "execution_count": 6,
     "metadata": {},
     "output_type": "execute_result"
    }
   ],
   "source": [
    "chicago_elections = pd.read_csv(\n",
    "    io.StringIO(chicago_elections_broken_format_csv),\n",
    "    parse_dates=['date',]\n",
    ")\n",
    "\n",
    "chicago_elections.dtypes"
   ]
  }
 ],
 "metadata": {
  "jupytext": {
   "formats": "ipynb,Rmd"
  },
  "kernelspec": {
   "display_name": "Python 3",
   "language": "python",
   "name": "python3"
  },
  "language_info": {
   "codemirror_mode": {
    "name": "ipython",
    "version": 3
   },
   "file_extension": ".py",
   "mimetype": "text/x-python",
   "name": "python",
   "nbconvert_exporter": "python",
   "pygments_lexer": "ipython3",
   "version": "3.6.4"
  }
 },
 "nbformat": 4,
 "nbformat_minor": 2
}
