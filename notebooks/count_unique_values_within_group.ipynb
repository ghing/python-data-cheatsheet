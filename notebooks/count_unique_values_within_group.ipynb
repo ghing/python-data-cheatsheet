{
 "cells": [
  {
   "cell_type": "markdown",
   "id": "eeb9045e-8ccc-42a5-a77c-1fa9342f604c",
   "metadata": {},
   "source": [
    "# Count unique values of a column in a group\n",
    "\n",
    "You can use `groupby()` with multiple variables or `drop_duplicates()` to see all the unique combinations of multiple variables. However, sometimes you just want to get a count of the number of unique values of one variable, within groups by a different variable. To do this, use `Series.nunique()` on the column after a `DataFrame.groupby()`."
   ]
  },
  {
   "cell_type": "code",
   "execution_count": 1,
   "id": "fcce9e70-4a3e-434e-ae99-2bfe61c5299e",
   "metadata": {},
   "outputs": [],
   "source": [
    "# Setup\n",
    "\n",
    "import numpy as np\n",
    "import pandas as pd"
   ]
  },
  {
   "cell_type": "code",
   "execution_count": 2,
   "id": "28c1c37c-376f-4ad5-9e6c-80e4d4357dc8",
   "metadata": {},
   "outputs": [
    {
     "data": {
      "text/html": [
       "<div>\n",
       "<style scoped>\n",
       "    .dataframe tbody tr th:only-of-type {\n",
       "        vertical-align: middle;\n",
       "    }\n",
       "\n",
       "    .dataframe tbody tr th {\n",
       "        vertical-align: top;\n",
       "    }\n",
       "\n",
       "    .dataframe thead th {\n",
       "        text-align: right;\n",
       "    }\n",
       "</style>\n",
       "<table border=\"1\" class=\"dataframe\">\n",
       "  <thead>\n",
       "    <tr style=\"text-align: right;\">\n",
       "      <th></th>\n",
       "      <th>category</th>\n",
       "      <th>subcategory</th>\n",
       "    </tr>\n",
       "  </thead>\n",
       "  <tbody>\n",
       "    <tr>\n",
       "      <th>4</th>\n",
       "      <td>category 1</td>\n",
       "      <td>category 1</td>\n",
       "    </tr>\n",
       "    <tr>\n",
       "      <th>0</th>\n",
       "      <td>category 1</td>\n",
       "      <td>category 2</td>\n",
       "    </tr>\n",
       "    <tr>\n",
       "      <th>1</th>\n",
       "      <td>category 2</td>\n",
       "      <td>category 1</td>\n",
       "    </tr>\n",
       "    <tr>\n",
       "      <th>5</th>\n",
       "      <td>category 2</td>\n",
       "      <td>category 3</td>\n",
       "    </tr>\n",
       "    <tr>\n",
       "      <th>2</th>\n",
       "      <td>category 3</td>\n",
       "      <td>category 1</td>\n",
       "    </tr>\n",
       "    <tr>\n",
       "      <th>6</th>\n",
       "      <td>category 3</td>\n",
       "      <td>category 3</td>\n",
       "    </tr>\n",
       "    <tr>\n",
       "      <th>3</th>\n",
       "      <td>category 4</td>\n",
       "      <td>category 3</td>\n",
       "    </tr>\n",
       "    <tr>\n",
       "      <th>7</th>\n",
       "      <td>category 4</td>\n",
       "      <td>category 3</td>\n",
       "    </tr>\n",
       "  </tbody>\n",
       "</table>\n",
       "</div>"
      ],
      "text/plain": [
       "     category subcategory\n",
       "4  category 1  category 1\n",
       "0  category 1  category 2\n",
       "1  category 2  category 1\n",
       "5  category 2  category 3\n",
       "2  category 3  category 1\n",
       "6  category 3  category 3\n",
       "3  category 4  category 3\n",
       "7  category 4  category 3"
      ]
     },
     "execution_count": 2,
     "metadata": {},
     "output_type": "execute_result"
    }
   ],
   "source": [
    "# Create some toy data\n",
    "\n",
    "# Create a list of four categories named \"category 1\", etc.\n",
    "categories = [f\"category {i}\" for i in range(1, 5)]\n",
    "\n",
    "# Create a DataFrame where the first column is just the\n",
    "# categories repeated twice.\n",
    "n_cycles = 2\n",
    "df = pd.DataFrame.from_dict({\n",
    "    \"category\": np.tile(categories, n_cycles),\n",
    "    # Populate a second category column with a random selection\n",
    "    # from the categories.\n",
    "    \"subcategory\": np.random.choice(categories, n_cycles * len(categories))\n",
    "}, dtype=\"category\")\n",
    "\n",
    "\n",
    "# Sort by categories so it's easier to see the expected result of grouping.\n",
    "df.sort_values([\"category\", \"subcategory\"])"
   ]
  },
  {
   "cell_type": "code",
   "execution_count": 3,
   "id": "3bb3a497-1c23-412d-8c84-b57c6717a5c2",
   "metadata": {},
   "outputs": [
    {
     "data": {
      "text/plain": [
       "category\n",
       "category 1    2\n",
       "category 2    2\n",
       "category 3    2\n",
       "category 4    1\n",
       "Name: subcategory, dtype: int64"
      ]
     },
     "execution_count": 3,
     "metadata": {},
     "output_type": "execute_result"
    }
   ],
   "source": [
    "# Count number of unique subcategories by category\n",
    "\n",
    "df.groupby(\"category\")[\"subcategory\"].nunique()"
   ]
  },
  {
   "cell_type": "code",
   "execution_count": null,
   "id": "dc1b13a0-1d51-44e3-bee9-ea275e8b924f",
   "metadata": {},
   "outputs": [],
   "source": []
  }
 ],
 "metadata": {
  "kernelspec": {
   "display_name": "python-data-cheatsheet",
   "language": "python",
   "name": "python-data-cheatsheet"
  },
  "language_info": {
   "codemirror_mode": {
    "name": "ipython",
    "version": 3
   },
   "file_extension": ".py",
   "mimetype": "text/x-python",
   "name": "python",
   "nbconvert_exporter": "python",
   "pygments_lexer": "ipython3",
   "version": "3.9.4"
  }
 },
 "nbformat": 4,
 "nbformat_minor": 5
}
