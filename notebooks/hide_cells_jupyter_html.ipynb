{
 "cells": [
  {
   "cell_type": "markdown",
   "metadata": {},
   "source": [
    "# Hide cells in HTML output of a Jupyter notebooks\n",
    "\n",
    "Rendering a Jupyter notebook as HTML is a good way to share analysis with others. I often have a recipe in my project Makefile that renders notebooks as HTML using [`nbconvert`](https://nbconvert.readthedocs.io/en/latest/usage.html) and then uploads the notebook to a webserver.\n",
    "\n",
    "However, many of the people with whom I'm sharing analysis may not understand or care about the Python code. This can also clutter the notebook and make people miss important information.\n",
    "\n",
    "[R Markdown code chunks](https://rmarkdown.rstudio.com/lesson-3.html) have good support for showing and hiding the code for the cell or the output of the cell. You can do this with Jupyter notebooks as well using cell metadata.\n",
    "\n",
    "Source: [nbconvert 5.3.0 — now with tag-based element filtering!](https://groups.google.com/forum/#!topic/jupyter/W2M_nLbboj4)."
   ]
  },
  {
   "cell_type": "markdown",
   "metadata": {},
   "source": [
    "## Set cell metadata\n",
    "\n",
    "You tell the `nbconvert` command to filter certain cell tags. The cell tags are set in the cell metadata, which can be configured in the Jupyter Lab sidebar.\n",
    "\n",
    "![Screenshot of editing cell metadata in Jupyter Lab](img/screenshot__jupyterlab_edit_cell_metadata.png)"
   ]
  },
  {
   "cell_type": "markdown",
   "metadata": {
    "tags": [
     "echo_false"
    ]
   },
   "source": [
    "I like using tags that are similar to the semantics of the R Markdown [knittr options](https://yihui.name/knitr/options/).\n",
    "\n",
    "For example to hide a cell's code, I would use an `echo_false` tag. So, the cell metadata would look like this:\n",
    "\n",
    "```json\n",
    "{\n",
    "  \"tags\": [\n",
    "    \"echo_false\"\n",
    "  ]\n",
    "}\n",
    "```"
   ]
  },
  {
   "cell_type": "code",
   "execution_count": 1,
   "metadata": {},
   "outputs": [
    {
     "name": "stdout",
     "output_type": "stream",
     "text": [
      "This cell's code is hidden.\n"
     ]
    }
   ],
   "source": [
    "print(\"This cell's code is hidden.\")"
   ]
  },
  {
   "cell_type": "markdown",
   "metadata": {},
   "source": [
    "To hide the results of evaluating a cell's code, I use a `results_hide` tag. So, the cell metadata would look like this:\n",
    "\n",
    "```json\n",
    "{\n",
    "  \"tags\": [\n",
    "    \"results_hide\"  \n",
    "  ]\n",
    "}\n",
    "```"
   ]
  },
  {
   "cell_type": "code",
   "execution_count": 2,
   "metadata": {
    "tags": [
     "results_hide"
    ]
   },
   "outputs": [
    {
     "name": "stdout",
     "output_type": "stream",
     "text": [
      "This cell's results are hidden.\n"
     ]
    }
   ],
   "source": [
    "print(\"This cell's results are hidden.\")"
   ]
  },
  {
   "cell_type": "markdown",
   "metadata": {
    "tags": [
     "echo_false",
     "results_hide"
    ]
   },
   "source": [
    "To hide both the cell's code and theresults of evaluating a cell's code, use both the `echo_false` and `results_hide` tag. So, the cell metadata would look like this:\n",
    "\n",
    "```json\n",
    "{\n",
    "  \"tags\": [\n",
    "    \"echo_false\",  \n",
    "    \"results_hide\"  \n",
    "  ]\n",
    "}\n",
    "```"
   ]
  },
  {
   "cell_type": "code",
   "execution_count": 3,
   "metadata": {},
   "outputs": [
    {
     "name": "stdout",
     "output_type": "stream",
     "text": [
      "Both this cell's code and results are hidden.\n"
     ]
    }
   ],
   "source": [
    "print(\"Both this cell's code and results are hidden.\")"
   ]
  },
  {
   "cell_type": "markdown",
   "metadata": {},
   "source": [
    "## Run nbconvert\n",
    "\n",
    "Use the `--TagRemovePreprocessor.remove_input_tags` and `--TagRemovePreprocessor.remove_all_outputs_tags` command-line flags in order to filter out cell code/output.\n",
    "\n",
    "To render this notebook:\n",
    "\n",
    "```bash\n",
    "jupyter nbconvert \\\n",
    "  --to html \\\n",
    "  --output hide_cells_jupyter_html.nb.html \\\n",
    "  --TagRemovePreprocessor.remove_input_tags={\\\"echo_false\\\"} \\\n",
    "  --TagRemovePreprocessor.remove_all_outputs_tags={\\\"results_hide\\\"} \\\n",
    "  notebooks/hide_cells_jupyter_html.ipynb\n",
    "```"
   ]
  },
  {
   "cell_type": "code",
   "execution_count": null,
   "metadata": {},
   "outputs": [],
   "source": []
  }
 ],
 "metadata": {
  "kernelspec": {
   "display_name": "Python 3",
   "language": "python",
   "name": "python3"
  },
  "language_info": {
   "codemirror_mode": {
    "name": "ipython",
    "version": 3
   },
   "file_extension": ".py",
   "mimetype": "text/x-python",
   "name": "python",
   "nbconvert_exporter": "python",
   "pygments_lexer": "ipython3",
   "version": "3.6.4"
  }
 },
 "nbformat": 4,
 "nbformat_minor": 4
}
