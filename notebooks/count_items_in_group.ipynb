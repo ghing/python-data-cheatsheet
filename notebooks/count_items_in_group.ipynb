{
 "cells": [
  {
   "cell_type": "markdown",
   "id": "c2c548fa-a430-4fce-8eb1-5a60f39e3bef",
   "metadata": {},
   "source": [
    "# Count items in a group\n",
    "\n",
    "Use [`GroupBy.size()`](https://pandas.pydata.org/docs/reference/api/pandas.core.groupby.GroupBy.size.html)."
   ]
  },
  {
   "cell_type": "code",
   "execution_count": 1,
   "id": "848c577f-5701-47b1-af13-fdeb8988ebb1",
   "metadata": {},
   "outputs": [],
   "source": [
    "# Setup\n",
    "\n",
    "import numpy as np\n",
    "import pandas as pd"
   ]
  },
  {
   "cell_type": "markdown",
   "id": "3e5b8b0a-00cc-40bf-893d-79e1b0e4de74",
   "metadata": {},
   "source": [
    "Let's start with some toy data with two categorical variables."
   ]
  },
  {
   "cell_type": "code",
   "execution_count": 2,
   "id": "ac90fde9-423e-420f-807a-a99b3a32fe91",
   "metadata": {},
   "outputs": [
    {
     "data": {
      "text/html": [
       "<div>\n",
       "<style scoped>\n",
       "    .dataframe tbody tr th:only-of-type {\n",
       "        vertical-align: middle;\n",
       "    }\n",
       "\n",
       "    .dataframe tbody tr th {\n",
       "        vertical-align: top;\n",
       "    }\n",
       "\n",
       "    .dataframe thead th {\n",
       "        text-align: right;\n",
       "    }\n",
       "</style>\n",
       "<table border=\"1\" class=\"dataframe\">\n",
       "  <thead>\n",
       "    <tr style=\"text-align: right;\">\n",
       "      <th></th>\n",
       "      <th>category</th>\n",
       "      <th>subcategory</th>\n",
       "    </tr>\n",
       "  </thead>\n",
       "  <tbody>\n",
       "    <tr>\n",
       "      <th>0</th>\n",
       "      <td>category 1</td>\n",
       "      <td>category 4</td>\n",
       "    </tr>\n",
       "    <tr>\n",
       "      <th>1</th>\n",
       "      <td>category 2</td>\n",
       "      <td>category 1</td>\n",
       "    </tr>\n",
       "    <tr>\n",
       "      <th>2</th>\n",
       "      <td>category 3</td>\n",
       "      <td>category 1</td>\n",
       "    </tr>\n",
       "    <tr>\n",
       "      <th>3</th>\n",
       "      <td>category 4</td>\n",
       "      <td>category 4</td>\n",
       "    </tr>\n",
       "    <tr>\n",
       "      <th>4</th>\n",
       "      <td>category 1</td>\n",
       "      <td>category 4</td>\n",
       "    </tr>\n",
       "    <tr>\n",
       "      <th>5</th>\n",
       "      <td>category 2</td>\n",
       "      <td>category 1</td>\n",
       "    </tr>\n",
       "    <tr>\n",
       "      <th>6</th>\n",
       "      <td>category 3</td>\n",
       "      <td>category 3</td>\n",
       "    </tr>\n",
       "    <tr>\n",
       "      <th>7</th>\n",
       "      <td>category 4</td>\n",
       "      <td>category 4</td>\n",
       "    </tr>\n",
       "  </tbody>\n",
       "</table>\n",
       "</div>"
      ],
      "text/plain": [
       "     category subcategory\n",
       "0  category 1  category 4\n",
       "1  category 2  category 1\n",
       "2  category 3  category 1\n",
       "3  category 4  category 4\n",
       "4  category 1  category 4\n",
       "5  category 2  category 1\n",
       "6  category 3  category 3\n",
       "7  category 4  category 4"
      ]
     },
     "execution_count": 2,
     "metadata": {},
     "output_type": "execute_result"
    }
   ],
   "source": [
    "# Create some toy data\n",
    "\n",
    "# Create a list of four categories named \"category 1\", etc.\n",
    "categories = [f\"category {i}\" for i in range(1, 5)]\n",
    "\n",
    "# Create a DataFrame where the first column is just the\n",
    "# categories repeated twice.\n",
    "n_cycles = 2\n",
    "df = pd.DataFrame.from_dict({\n",
    "    \"category\": np.tile(categories, n_cycles),\n",
    "    # Populate a second category column with a random selection\n",
    "    # from the categories.\n",
    "    \"subcategory\": np.random.choice(categories, n_cycles * len(categories))\n",
    "}, dtype=\"category\")\n",
    "\n",
    "\n",
    "df"
   ]
  },
  {
   "cell_type": "markdown",
   "id": "2ab9b1ca-95fb-4597-9e6b-98ca44aaa4b4",
   "metadata": {},
   "source": [
    "To count the number of records when grouping by the categories, use `size()`."
   ]
  },
  {
   "cell_type": "code",
   "execution_count": 3,
   "id": "79bdd1eb-467d-43bc-82a0-50f6ade61ed3",
   "metadata": {},
   "outputs": [
    {
     "data": {
      "text/plain": [
       "category    subcategory\n",
       "category 1  category 1     0\n",
       "            category 3     0\n",
       "            category 4     2\n",
       "category 2  category 1     2\n",
       "            category 3     0\n",
       "            category 4     0\n",
       "category 3  category 1     1\n",
       "            category 3     1\n",
       "            category 4     0\n",
       "category 4  category 1     0\n",
       "            category 3     0\n",
       "            category 4     2\n",
       "dtype: int64"
      ]
     },
     "execution_count": 3,
     "metadata": {},
     "output_type": "execute_result"
    }
   ],
   "source": [
    "# Group by both categories and count the number of records in each group.\n",
    "\n",
    "df.groupby([\"category\", \"subcategory\"]).size()"
   ]
  },
  {
   "cell_type": "markdown",
   "id": "52376abf-93a1-4231-a69f-828b0f5cc709",
   "metadata": {},
   "source": [
    "The result of `.size()` is a `Series`, but you can convert it to a `DataFrame` with `.to_frame()`."
   ]
  },
  {
   "cell_type": "code",
   "execution_count": 4,
   "id": "31a09a6b-886c-434f-a6b5-7e7af05cefed",
   "metadata": {},
   "outputs": [
    {
     "data": {
      "text/html": [
       "<div>\n",
       "<style scoped>\n",
       "    .dataframe tbody tr th:only-of-type {\n",
       "        vertical-align: middle;\n",
       "    }\n",
       "\n",
       "    .dataframe tbody tr th {\n",
       "        vertical-align: top;\n",
       "    }\n",
       "\n",
       "    .dataframe thead th {\n",
       "        text-align: right;\n",
       "    }\n",
       "</style>\n",
       "<table border=\"1\" class=\"dataframe\">\n",
       "  <thead>\n",
       "    <tr style=\"text-align: right;\">\n",
       "      <th></th>\n",
       "      <th></th>\n",
       "      <th>n_records</th>\n",
       "    </tr>\n",
       "    <tr>\n",
       "      <th>category</th>\n",
       "      <th>subcategory</th>\n",
       "      <th></th>\n",
       "    </tr>\n",
       "  </thead>\n",
       "  <tbody>\n",
       "    <tr>\n",
       "      <th rowspan=\"3\" valign=\"top\">category 1</th>\n",
       "      <th>category 1</th>\n",
       "      <td>0</td>\n",
       "    </tr>\n",
       "    <tr>\n",
       "      <th>category 3</th>\n",
       "      <td>0</td>\n",
       "    </tr>\n",
       "    <tr>\n",
       "      <th>category 4</th>\n",
       "      <td>2</td>\n",
       "    </tr>\n",
       "    <tr>\n",
       "      <th rowspan=\"3\" valign=\"top\">category 2</th>\n",
       "      <th>category 1</th>\n",
       "      <td>2</td>\n",
       "    </tr>\n",
       "    <tr>\n",
       "      <th>category 3</th>\n",
       "      <td>0</td>\n",
       "    </tr>\n",
       "    <tr>\n",
       "      <th>category 4</th>\n",
       "      <td>0</td>\n",
       "    </tr>\n",
       "    <tr>\n",
       "      <th rowspan=\"3\" valign=\"top\">category 3</th>\n",
       "      <th>category 1</th>\n",
       "      <td>1</td>\n",
       "    </tr>\n",
       "    <tr>\n",
       "      <th>category 3</th>\n",
       "      <td>1</td>\n",
       "    </tr>\n",
       "    <tr>\n",
       "      <th>category 4</th>\n",
       "      <td>0</td>\n",
       "    </tr>\n",
       "    <tr>\n",
       "      <th rowspan=\"3\" valign=\"top\">category 4</th>\n",
       "      <th>category 1</th>\n",
       "      <td>0</td>\n",
       "    </tr>\n",
       "    <tr>\n",
       "      <th>category 3</th>\n",
       "      <td>0</td>\n",
       "    </tr>\n",
       "    <tr>\n",
       "      <th>category 4</th>\n",
       "      <td>2</td>\n",
       "    </tr>\n",
       "  </tbody>\n",
       "</table>\n",
       "</div>"
      ],
      "text/plain": [
       "                        n_records\n",
       "category   subcategory           \n",
       "category 1 category 1           0\n",
       "           category 3           0\n",
       "           category 4           2\n",
       "category 2 category 1           2\n",
       "           category 3           0\n",
       "           category 4           0\n",
       "category 3 category 1           1\n",
       "           category 3           1\n",
       "           category 4           0\n",
       "category 4 category 1           0\n",
       "           category 3           0\n",
       "           category 4           2"
      ]
     },
     "execution_count": 4,
     "metadata": {},
     "output_type": "execute_result"
    }
   ],
   "source": [
    "# Make the record counts a DataFrame\n",
    "\n",
    "df.groupby([\"category\", \"subcategory\"]).size().to_frame(\"n_records\")"
   ]
  },
  {
   "cell_type": "code",
   "execution_count": null,
   "id": "2f512711-8dec-4be0-a5a8-324936b52204",
   "metadata": {},
   "outputs": [],
   "source": []
  }
 ],
 "metadata": {
  "kernelspec": {
   "display_name": "python-data-cheatsheet",
   "language": "python",
   "name": "python-data-cheatsheet"
  },
  "language_info": {
   "codemirror_mode": {
    "name": "ipython",
    "version": 3
   },
   "file_extension": ".py",
   "mimetype": "text/x-python",
   "name": "python",
   "nbconvert_exporter": "python",
   "pygments_lexer": "ipython3",
   "version": "3.9.4"
  }
 },
 "nbformat": 4,
 "nbformat_minor": 5
}
