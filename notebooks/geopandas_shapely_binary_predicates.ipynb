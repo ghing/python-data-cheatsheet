{
 "cells": [
  {
   "cell_type": "markdown",
   "id": "c227fc95-87d9-42a1-b964-09d42e5c95fa",
   "metadata": {},
   "source": [
    "# Geopandas and Shapely binary predicates\n",
    "\n",
    "Geopandas [spatial joins](https://geopandas.org/gallery/spatial_joins.html#Spatial-Joins) use Shapely's [binary predicates](https://shapely.readthedocs.io/en/latest/manual.html#binary-predicates), but I often find it difficult to know which one to use.\n",
    "\n",
    "This is a visual explainer to show how the different predicates work. It didn't fully demystify the predicates, but it helped me understand them better.\n",
    "\n",
    "One important thing that I learned in making this reference is that multi-polygon or multi-linestring features can confound the behavior of some of these predicates. If you're getting unexpected results, consider converting your multi-geometries to having multiple rows for each piece of the geometry.\n",
    "\n",
    "## Other methods demonstrated in this notebook\n",
    "\n",
    "This notebook downloads some spatial data and does some manipulations of spatial data to help demonstrate the spatial predicates. In addition to that core concept, this notebook is also an example of:\n",
    "\n",
    "- Using the [tqdm](https://github.com/tqdm/tqdm) package, along with the [requests](https://docs.python-requests.org/en/latest/) package to show a progress bar while downloading a file. This also conditionally downloads the file only if it hasn't already been downloaded.\n",
    "- Using matplotlib via [`GeoDataFrame.plot()`](https://geopandas.org/docs/reference/api/geopandas.GeoDataFrame.plot.html) to [map multiple layers](https://geopandas.org/docs/user_guide/mapping.html#maps-with-layers)\n",
    "- Getting the border of a polygon feature as a line feature using [`GeoSeries.exterior`](https://geopandas.readthedocs.io/en/latest/docs/reference/api/geopandas.GeoSeries.exterior.html)\n",
    "- Breaking a multipolygon into separate polygons using [`GeoDataFrame.explode()`](https://geopandas.org/docs/reference/api/geopandas.GeoDataFrame.explode.html)"
   ]
  },
  {
   "cell_type": "markdown",
   "id": "0074fc8c-68f9-4494-a86f-e770bde1fdfd",
   "metadata": {},
   "source": [
    "## Shapely's spatial data model\n",
    "\n",
    "The way these predicates work really didn't make sense to me until I carefully read [Shapely's spatial data model](https://shapely.readthedocs.io/en/latest/manual.html#spatial-data-model) to understand what the documentation means when they talk about *dimension*.\n",
    "\n",
    "Here are the parts I found most relevant:\n",
    "\n",
    "> The fundamental types of geometric objects implemented by Shapely are points, curves, and surfaces. Each is associated with three sets of (possibly infinite) points in the plane. The interior, boundary, and exterior sets of a feature are mutually exclusive and their union coincides with the entire plane 2.\n",
    "> - A Point has an interior set of exactly one point, a boundary set of exactly no points, and an exterior set of all other points. A Point has a topological dimension of 0.\n",
    "> - A Curve has an interior set consisting of the infinitely many points along its length (imagine a Point dragged in space), a boundary set consisting of its two end points, and an exterior set of all other points. A Curve has a topological dimension of 1.\n",
    "> - A Surface has an interior set consisting of the infinitely many points within (imagine a Curve dragged in space to cover an area), a boundary set consisting of one or more Curves, and an exterior set of all other points including those within holes that might exist in the surface. A Surface has a topological dimension of 2.\n",
    ">\n",
    "> ...\n",
    ">\n",
    "> The point type is implemented by a Point class; curve by the LineString and LinearRing classes; and surface by a Polygon class. Shapely implements no smooth (i.e. having continuous tangents) curves. All curves must be approximated by linear splines. All rounded patches must be approximated by regions bounded by linear splines."
   ]
  },
  {
   "cell_type": "code",
   "execution_count": 1,
   "id": "e7aabf25-a2b0-4682-b8b1-e3e7f3bbee26",
   "metadata": {},
   "outputs": [],
   "source": [
    "# Setup\n",
    "\n",
    "import logging\n",
    "from pathlib import Path\n",
    "from urllib.parse import urlparse\n",
    "\n",
    "from IPython.display import Markdown, display\n",
    "import geopandas as gpd\n",
    "import requests\n",
    "#from tqdm import tqdm\n",
    "from tqdm.notebook import tqdm\n",
    "\n",
    "# Local settings module\n",
    "# I use this to build paths to data files.\n",
    "# See project_settings_module.ipynb for more on this method.\n",
    "import settings\n",
    "\n",
    "# Make sure we show info level log messages.\n",
    "# This is the level used to report when we skip downloading a file because it\n",
    "# already exists.\n",
    "logging.basicConfig(level=logging.INFO)"
   ]
  },
  {
   "cell_type": "code",
   "execution_count": 2,
   "id": "951647db-75aa-4eb6-9b3e-58aed4a87768",
   "metadata": {},
   "outputs": [],
   "source": [
    "# Define a function that wraps downloading functionality\n",
    "\n",
    "def download(url, output_dir, filename=None, skip_if_exists=True):\n",
    "    \"\"\"\n",
    "    Download a file from a URL and save in a local directory\n",
    "    \n",
    "    Returns the path to the downloaded file\n",
    "    \n",
    "    This is based on the snippet in\n",
    "    https://stackoverflow.com/questions/37573483/progress-bar-while-download-file-over-http-with-requests\n",
    "    \n",
    "    \"\"\"\n",
    "    if filename is None:\n",
    "        filename = urlparse(url).path.split(\"/\")[-1]\n",
    "        \n",
    "    output_path = Path(output_dir) / filename\n",
    "    \n",
    "    # Decide if we're actually going to download the file\n",
    "    do_download = (\n",
    "        # If `skip_if_exists` is False, we should download\n",
    "        (not skip_if_exists)\n",
    "        # If the file doesn't exist, we should download \n",
    "        or (not output_path.exists())\n",
    "    )\n",
    "    \n",
    "    if not do_download:\n",
    "        if output_path.exists():\n",
    "            logging.info(\"Skipping download because `%s` already exists\", output_path)\n",
    "            \n",
    "        # If not downloading the file, return early\n",
    "        return output_path\n",
    "    \n",
    "    resp = requests.get(url, stream=True, allow_redirects=True)\n",
    "    \n",
    "    if resp.status_code != 200:\n",
    "        resp.raise_for_status()\n",
    "        \n",
    "    # TODO: Decide if this should default to zero or raise an exception\n",
    "    file_size = int(resp.headers.get(\"Content-Length\", 0))\n",
    "    \n",
    "    block_size = 1024 # 1024 bytes in one KB\n",
    "    \n",
    "    # This seems cleaner, but it doesn't get the units right\n",
    "    #progress_bar = tqdm(resp.iter_content(block_size), total=file_size // block_size, unit=\"iB\", unit_scale=True)\n",
    "    # So, instead of doing `for data in progress_bar`, we'll iterate\n",
    "    # through `resp.iter_content(block_size) and manually update the bar.\n",
    "    progress_bar = tqdm(total=file_size, unit=\"iB\", unit_scale=True)\n",
    "    \n",
    "    with open(output_path, \"wb\") as outf:\n",
    "        for data in resp.iter_content(block_size):\n",
    "            progress_bar.update(len(data))\n",
    "            outf.write(data)\n",
    "    \n",
    "    progress_bar.close()\n",
    "    \n",
    "    return output_path"
   ]
  },
  {
   "cell_type": "markdown",
   "id": "be0d9318-2393-40fa-aebd-759a2369bd24",
   "metadata": {},
   "source": [
    "## Data sources"
   ]
  },
  {
   "cell_type": "markdown",
   "id": "1b8b4cf2-fed0-499c-8e82-4f2a88daa641",
   "metadata": {},
   "source": [
    "- County boundaries, 2021 ([U.S. Census Bureau](https://www.census.gov/geographies/mapping-files/time-series/geo/tiger-line-file.html))"
   ]
  },
  {
   "cell_type": "code",
   "execution_count": 3,
   "id": "e30e8dca-bc39-4381-94c3-c867f235b195",
   "metadata": {},
   "outputs": [
    {
     "name": "stderr",
     "output_type": "stream",
     "text": [
      "INFO:root:Skipping download because `/Users/GHing/workspace/python-data-cheatsheet/data/source/tl_2021_us_county.zip` already exists\n"
     ]
    },
    {
     "data": {
      "text/markdown": [
       "Downloaded county shapefile to `/Users/GHing/workspace/python-data-cheatsheet/data/source/tl_2021_us_county.zip`"
      ],
      "text/plain": [
       "<IPython.core.display.Markdown object>"
      ]
     },
     "metadata": {},
     "output_type": "display_data"
    }
   ],
   "source": [
    "# Download county boundaries\n",
    "# See https://www.census.gov/geographies/mapping-files/time-series/geo/tiger-line-file.html\n",
    "\n",
    "counties_shapefile_url = \"https://www2.census.gov/geo/tiger/TIGER2021/COUNTY/tl_2021_us_county.zip\"\n",
    "\n",
    "counties_shapefile_path = download(counties_shapefile_url, settings.DATA_DIR_SRC, skip_if_exists=True)\n",
    "\n",
    "display(Markdown(f\"Downloaded county shapefile to `{counties_shapefile_path}`\"))"
   ]
  },
  {
   "cell_type": "code",
   "execution_count": 4,
   "id": "77c10cbc-3dc2-4199-a52a-8ed0230de3b0",
   "metadata": {},
   "outputs": [
    {
     "data": {
      "text/plain": [
       "<AxesSubplot:>"
      ]
     },
     "execution_count": 4,
     "metadata": {},
     "output_type": "execute_result"
    },
    {
     "data": {
      "image/png": "[encoded data removed]",
      "text/plain": [
       "<Figure size 432x288 with 1 Axes>"
      ]
     },
     "metadata": {
      "needs_background": "light"
     },
     "output_type": "display_data"
    }
   ],
   "source": [
    "# Load county boundaries\n",
    "counties = gpd.read_file(counties_shapefile_path)\n",
    "\n",
    "# Get only Arizona counties\n",
    "counties_az = counties[counties[\"STATEFP\"] == \"04\"].copy()\n",
    "\n",
    "counties_az.plot()"
   ]
  },
  {
   "cell_type": "markdown",
   "id": "af589286-11b6-4426-a448-01b4b9801330",
   "metadata": {},
   "source": [
    "- American Indian/Alaska Native/Native Hawaiian Area boundaries, 2021 ([U.S. Census Bureau](https://www.census.gov/geographies/mapping-files/time-series/geo/tiger-line-file.html))"
   ]
  },
  {
   "cell_type": "code",
   "execution_count": 5,
   "id": "78c5b084-30e9-41a0-8f49-7d10615da71c",
   "metadata": {},
   "outputs": [
    {
     "name": "stderr",
     "output_type": "stream",
     "text": [
      "INFO:root:Skipping download because `/Users/GHing/workspace/python-data-cheatsheet/data/source/tl_2021_us_aiannh.zip` already exists\n"
     ]
    }
   ],
   "source": [
    "# Download tribal areas\n",
    "# See https://www.census.gov/geographies/mapping-files/time-series/geo/tiger-line-file.html\n",
    "\n",
    "tribal_areas_url = \"https://www2.census.gov/geo/tiger/TIGER2021/AIANNH/tl_2021_us_aiannh.zip\"\n",
    "\n",
    "tribal_areas_path = download(tribal_areas_url, settings.DATA_DIR_SRC, skip_if_exists=True)\n"
   ]
  },
  {
   "cell_type": "code",
   "execution_count": 6,
   "id": "2f09176b-8d6c-4b7a-a8ba-a58cd8fa3f4c",
   "metadata": {},
   "outputs": [],
   "source": [
    "# Load tribal areas\n",
    "\n",
    "tribal_areas = gpd.read_file(tribal_areas_path)"
   ]
  },
  {
   "cell_type": "code",
   "execution_count": 7,
   "id": "0d49dd08-bb91-4028-8c91-cbe1da8181e7",
   "metadata": {},
   "outputs": [
    {
     "data": {
      "text/html": [
       "<div>\n",
       "<style scoped>\n",
       "    .dataframe tbody tr th:only-of-type {\n",
       "        vertical-align: middle;\n",
       "    }\n",
       "\n",
       "    .dataframe tbody tr th {\n",
       "        vertical-align: top;\n",
       "    }\n",
       "\n",
       "    .dataframe thead th {\n",
       "        text-align: right;\n",
       "    }\n",
       "</style>\n",
       "<table border=\"1\" class=\"dataframe\">\n",
       "  <thead>\n",
       "    <tr style=\"text-align: right;\">\n",
       "      <th></th>\n",
       "      <th>AIANNHCE</th>\n",
       "      <th>AIANNHNS</th>\n",
       "      <th>GEOID</th>\n",
       "      <th>NAME</th>\n",
       "      <th>NAMELSAD</th>\n",
       "      <th>LSAD</th>\n",
       "      <th>CLASSFP</th>\n",
       "      <th>COMPTYP</th>\n",
       "      <th>AIANNHR</th>\n",
       "      <th>MTFCC</th>\n",
       "      <th>FUNCSTAT</th>\n",
       "      <th>ALAND</th>\n",
       "      <th>AWATER</th>\n",
       "      <th>INTPTLAT</th>\n",
       "      <th>INTPTLON</th>\n",
       "      <th>geometry</th>\n",
       "    </tr>\n",
       "  </thead>\n",
       "  <tbody>\n",
       "    <tr>\n",
       "      <th>117</th>\n",
       "      <td>2430</td>\n",
       "      <td>00041148</td>\n",
       "      <td>2430R</td>\n",
       "      <td>Navajo Nation</td>\n",
       "      <td>Navajo Nation Reservation</td>\n",
       "      <td>86</td>\n",
       "      <td>D8</td>\n",
       "      <td>R</td>\n",
       "      <td>F</td>\n",
       "      <td>G2101</td>\n",
       "      <td>A</td>\n",
       "      <td>58370582767</td>\n",
       "      <td>59949501</td>\n",
       "      <td>+36.2013734</td>\n",
       "      <td>-109.9049064</td>\n",
       "      <td>MULTIPOLYGON (((-107.20370 35.02868, -107.2036...</td>\n",
       "    </tr>\n",
       "  </tbody>\n",
       "</table>\n",
       "</div>"
      ],
      "text/plain": [
       "    AIANNHCE  AIANNHNS  GEOID           NAME                   NAMELSAD LSAD  \\\n",
       "117     2430  00041148  2430R  Navajo Nation  Navajo Nation Reservation   86   \n",
       "\n",
       "    CLASSFP COMPTYP AIANNHR  MTFCC FUNCSTAT        ALAND    AWATER  \\\n",
       "117      D8       R       F  G2101        A  58370582767  59949501   \n",
       "\n",
       "        INTPTLAT      INTPTLON  \\\n",
       "117  +36.2013734  -109.9049064   \n",
       "\n",
       "                                              geometry  \n",
       "117  MULTIPOLYGON (((-107.20370 35.02868, -107.2036...  "
      ]
     },
     "execution_count": 7,
     "metadata": {},
     "output_type": "execute_result"
    }
   ],
   "source": [
    "# Get a dataframe of just the boundary of the Navajo Nation\n",
    "\n",
    "navajo_nation = tribal_areas[tribal_areas[\"NAMELSAD\"] == \"Navajo Nation Reservation\"].copy()\n",
    "\n",
    "navajo_nation"
   ]
  },
  {
   "cell_type": "markdown",
   "id": "25d49694-ed53-4ff7-bb21-44baab196a23",
   "metadata": {},
   "source": [
    "- Arizona Places, 2021 ([U.S. Census Bureau](https://www.census.gov/geographies/mapping-files/time-series/geo/tiger-line-file.html))"
   ]
  },
  {
   "cell_type": "code",
   "execution_count": 8,
   "id": "3893aeb2-9db0-48e1-af27-dbeebecc2b71",
   "metadata": {},
   "outputs": [
    {
     "name": "stderr",
     "output_type": "stream",
     "text": [
      "INFO:root:Skipping download because `/Users/GHing/workspace/python-data-cheatsheet/data/source/tl_2021_04_place.zip` already exists\n"
     ]
    }
   ],
   "source": [
    "# Download Arizona Census places\n",
    "\n",
    "places_az_url = \"https://www2.census.gov/geo/tiger/TIGER2021/PLACE/tl_2021_04_place.zip\"\n",
    "\n",
    "places_az_path = download(places_az_url, settings.DATA_DIR_SRC, skip_if_exists=True)"
   ]
  },
  {
   "cell_type": "code",
   "execution_count": 9,
   "id": "9a04b409-00b8-48f5-b8cc-eee7aab90019",
   "metadata": {},
   "outputs": [],
   "source": [
    "# Load Arizona places\n",
    "\n",
    "places_az = gpd.read_file(places_az_path)"
   ]
  },
  {
   "cell_type": "markdown",
   "id": "210a2998-db2e-4679-b8cf-162195e70574",
   "metadata": {},
   "source": [
    "## Example: Arizona counties and the Navajo Nation"
   ]
  },
  {
   "cell_type": "code",
   "execution_count": 10,
   "id": "87b6bd13-378b-454b-a03c-9c74c9d36663",
   "metadata": {},
   "outputs": [
    {
     "data": {
      "text/plain": [
       "<AxesSubplot:>"
      ]
     },
     "execution_count": 10,
     "metadata": {},
     "output_type": "execute_result"
    },
    {
     "data": {
      "image/png": "[encoded data removed]",
      "text/plain": [
       "<Figure size 432x288 with 1 Axes>"
      ]
     },
     "metadata": {
      "needs_background": "light"
     },
     "output_type": "display_data"
    }
   ],
   "source": [
    "# Show Arizona counties and the Navajo Nation\n",
    "# See https://geopandas.org/docs/user_guide/mapping.html#maps-with-layers\n",
    "# for the documentation on showing multiple layers using matplotlib\n",
    "\n",
    "counties_map = counties_az.plot()\n",
    "\n",
    "navajo_nation.plot(ax=counties_map, edgecolor=\"red\", color=\"green\")"
   ]
  },
  {
   "cell_type": "markdown",
   "id": "9ec25957-9d89-47f3-95cf-4ee4f1d00e2f",
   "metadata": {},
   "source": [
    "### Intersects\n",
    "\n",
    "The Navajo Nation intersects Coconino, Navajo and Apache County"
   ]
  },
  {
   "cell_type": "code",
   "execution_count": 11,
   "id": "832c52c2-e71f-4115-93b1-1a02a1b0b196",
   "metadata": {},
   "outputs": [
    {
     "data": {
      "text/html": [
       "<div>\n",
       "<style scoped>\n",
       "    .dataframe tbody tr th:only-of-type {\n",
       "        vertical-align: middle;\n",
       "    }\n",
       "\n",
       "    .dataframe tbody tr th {\n",
       "        vertical-align: top;\n",
       "    }\n",
       "\n",
       "    .dataframe thead th {\n",
       "        text-align: right;\n",
       "    }\n",
       "</style>\n",
       "<table border=\"1\" class=\"dataframe\">\n",
       "  <thead>\n",
       "    <tr style=\"text-align: right;\">\n",
       "      <th></th>\n",
       "      <th>NAME_right</th>\n",
       "    </tr>\n",
       "  </thead>\n",
       "  <tbody>\n",
       "    <tr>\n",
       "      <th>117</th>\n",
       "      <td>Coconino</td>\n",
       "    </tr>\n",
       "    <tr>\n",
       "      <th>117</th>\n",
       "      <td>Navajo</td>\n",
       "    </tr>\n",
       "    <tr>\n",
       "      <th>117</th>\n",
       "      <td>Apache</td>\n",
       "    </tr>\n",
       "  </tbody>\n",
       "</table>\n",
       "</div>"
      ],
      "text/plain": [
       "    NAME_right\n",
       "117   Coconino\n",
       "117     Navajo\n",
       "117     Apache"
      ]
     },
     "execution_count": 11,
     "metadata": {},
     "output_type": "execute_result"
    }
   ],
   "source": [
    "# Get DataFrame of counties that the Navajo Nation intersects\n",
    "navajo_nation.sjoin(\n",
    "    counties_az,\n",
    "    how=\"inner\",\n",
    "    predicate=\"intersects\"\n",
    ")[[\"NAME_right\"]]"
   ]
  },
  {
   "cell_type": "markdown",
   "id": "b567d95e-e226-4e48-bdcb-6289b69acc99",
   "metadata": {},
   "source": [
    "## Crosses"
   ]
  },
  {
   "cell_type": "markdown",
   "id": "00a5bdd3-4f25-4486-b4c5-0ef01254b55e",
   "metadata": {},
   "source": [
    "The polygon version of the Navajo nation's boundary doesn't cross the polygon version of any county boundary, in terms of how the predicates work. That's because while \"the interior of the object intersects the interior of the other but does not contain it\", the \"dimension of the intersection\" is **not** \"less than the dimension of the one or the other.\"\n",
    "\n",
    "The intersection of the interiors of two polygons is a surface, the same as the two layers."
   ]
  },
  {
   "cell_type": "code",
   "execution_count": 12,
   "id": "cb8c7ab5-6771-40f0-be71-12175bae1295",
   "metadata": {},
   "outputs": [
    {
     "data": {
      "text/html": [
       "<div>\n",
       "<style scoped>\n",
       "    .dataframe tbody tr th:only-of-type {\n",
       "        vertical-align: middle;\n",
       "    }\n",
       "\n",
       "    .dataframe tbody tr th {\n",
       "        vertical-align: top;\n",
       "    }\n",
       "\n",
       "    .dataframe thead th {\n",
       "        text-align: right;\n",
       "    }\n",
       "</style>\n",
       "<table border=\"1\" class=\"dataframe\">\n",
       "  <thead>\n",
       "    <tr style=\"text-align: right;\">\n",
       "      <th></th>\n",
       "      <th>NAME_right</th>\n",
       "    </tr>\n",
       "  </thead>\n",
       "  <tbody>\n",
       "  </tbody>\n",
       "</table>\n",
       "</div>"
      ],
      "text/plain": [
       "Empty DataFrame\n",
       "Columns: [NAME_right]\n",
       "Index: []"
      ]
     },
     "execution_count": 12,
     "metadata": {},
     "output_type": "execute_result"
    }
   ],
   "source": [
    "# Get DataFrame of counties that the Navajo Nation crosses, using polygon\n",
    "# layers\n",
    "\n",
    "navajo_nation.sjoin(\n",
    "    counties_az,\n",
    "    how=\"inner\",\n",
    "    predicate=\"crosses\"\n",
    ")[[\"NAME_right\"]]"
   ]
  },
  {
   "cell_type": "code",
   "execution_count": 13,
   "id": "959d59f0-4adf-48a2-a319-65c0dff3a2d5",
   "metadata": {},
   "outputs": [
    {
     "data": {
      "text/html": [
       "<div>\n",
       "<style scoped>\n",
       "    .dataframe tbody tr th:only-of-type {\n",
       "        vertical-align: middle;\n",
       "    }\n",
       "\n",
       "    .dataframe tbody tr th {\n",
       "        vertical-align: top;\n",
       "    }\n",
       "\n",
       "    .dataframe thead th {\n",
       "        text-align: right;\n",
       "    }\n",
       "</style>\n",
       "<table border=\"1\" class=\"dataframe\">\n",
       "  <thead>\n",
       "    <tr style=\"text-align: right;\">\n",
       "      <th></th>\n",
       "      <th>NAME_right</th>\n",
       "    </tr>\n",
       "  </thead>\n",
       "  <tbody>\n",
       "  </tbody>\n",
       "</table>\n",
       "</div>"
      ],
      "text/plain": [
       "Empty DataFrame\n",
       "Columns: [NAME_right]\n",
       "Index: []"
      ]
     },
     "execution_count": 13,
     "metadata": {},
     "output_type": "execute_result"
    }
   ],
   "source": [
    "# Get DataFrame of counties that cross the Navajo Nation, using polygon\n",
    "# layers\n",
    "\n",
    "counties_az.sjoin(\n",
    "    navajo_nation,\n",
    "    how=\"inner\",\n",
    "    predicate=\"crosses\"\n",
    ")[[\"NAME_right\"]]"
   ]
  },
  {
   "cell_type": "markdown",
   "id": "9215a19c-2e1b-4f4e-9fd2-b113afb127ef",
   "metadata": {},
   "source": [
    "If we convert the county polygons to a line, we can see that the county boundary lines cross the Navajo Nation polygon."
   ]
  },
  {
   "cell_type": "code",
   "execution_count": 14,
   "id": "ec6fe69e-d743-4bfc-95ed-abb89621236f",
   "metadata": {},
   "outputs": [
    {
     "data": {
      "text/html": [
       "<div>\n",
       "<style scoped>\n",
       "    .dataframe tbody tr th:only-of-type {\n",
       "        vertical-align: middle;\n",
       "    }\n",
       "\n",
       "    .dataframe tbody tr th {\n",
       "        vertical-align: top;\n",
       "    }\n",
       "\n",
       "    .dataframe thead th {\n",
       "        text-align: right;\n",
       "    }\n",
       "</style>\n",
       "<table border=\"1\" class=\"dataframe\">\n",
       "  <thead>\n",
       "    <tr style=\"text-align: right;\">\n",
       "      <th></th>\n",
       "      <th>NAME_left</th>\n",
       "    </tr>\n",
       "  </thead>\n",
       "  <tbody>\n",
       "    <tr>\n",
       "      <th>522</th>\n",
       "      <td>Navajo</td>\n",
       "    </tr>\n",
       "    <tr>\n",
       "      <th>1311</th>\n",
       "      <td>Coconino</td>\n",
       "    </tr>\n",
       "    <tr>\n",
       "      <th>2590</th>\n",
       "      <td>Apache</td>\n",
       "    </tr>\n",
       "  </tbody>\n",
       "</table>\n",
       "</div>"
      ],
      "text/plain": [
       "     NAME_left\n",
       "522     Navajo\n",
       "1311  Coconino\n",
       "2590    Apache"
      ]
     },
     "execution_count": 14,
     "metadata": {},
     "output_type": "execute_result"
    }
   ],
   "source": [
    "# See if the border of Arizona counties, as a line, crosses the Navajo Nation\n",
    "# polygon\n",
    "\n",
    "counties_az_as_line = counties_az.copy()\n",
    "counties_az_as_line[\"geometry\"] = counties_az_as_line[\"geometry\"].exterior\n",
    "\n",
    "counties_az_as_line.sjoin(\n",
    "    navajo_nation,\n",
    "    how=\"inner\",\n",
    "    predicate=\"crosses\"\n",
    ")[[\"NAME_left\"]]"
   ]
  },
  {
   "cell_type": "markdown",
   "id": "f2925abb-2787-45f1-a64f-3bc73a497436",
   "metadata": {},
   "source": [
    "Strangely, the inverse isn't the case."
   ]
  },
  {
   "cell_type": "code",
   "execution_count": 15,
   "id": "ab6c0fb2-7a62-422f-b7db-5a51d53325eb",
   "metadata": {},
   "outputs": [
    {
     "data": {
      "text/html": [
       "<div>\n",
       "<style scoped>\n",
       "    .dataframe tbody tr th:only-of-type {\n",
       "        vertical-align: middle;\n",
       "    }\n",
       "\n",
       "    .dataframe tbody tr th {\n",
       "        vertical-align: top;\n",
       "    }\n",
       "\n",
       "    .dataframe thead th {\n",
       "        text-align: right;\n",
       "    }\n",
       "</style>\n",
       "<table border=\"1\" class=\"dataframe\">\n",
       "  <thead>\n",
       "    <tr style=\"text-align: right;\">\n",
       "      <th></th>\n",
       "      <th>NAME_right</th>\n",
       "    </tr>\n",
       "  </thead>\n",
       "  <tbody>\n",
       "  </tbody>\n",
       "</table>\n",
       "</div>"
      ],
      "text/plain": [
       "Empty DataFrame\n",
       "Columns: [NAME_right]\n",
       "Index: []"
      ]
     },
     "execution_count": 15,
     "metadata": {},
     "output_type": "execute_result"
    }
   ],
   "source": [
    "# See if the border of the Navajo Nation, as a line, crosses Arizona county\n",
    "# polygons.\n",
    "\n",
    "navajo_nation_as_line = navajo_nation.copy()\n",
    "navajo_nation_as_line[\"geometry\"] = navajo_nation_as_line[\"geometry\"].exterior\n",
    "\n",
    "navajo_nation_as_line.sjoin(\n",
    "    counties_az,\n",
    "    how=\"inner\",\n",
    "    predicate=\"crosses\"\n",
    ")[[\"NAME_right\"]]"
   ]
  },
  {
   "cell_type": "markdown",
   "id": "773f633c-123b-4925-9a4e-b589b27fafd6",
   "metadata": {},
   "source": [
    "I suspect this is because of some of the non-contiguous parts of the Navajo Nation. I tried breaking up the Navajo Nation multipolygon into separate polygons using `GeoDataFrame.explode()` and picking just the largest one and converting its boundary to a line."
   ]
  },
  {
   "cell_type": "code",
   "execution_count": 16,
   "id": "63bc6d5e-7f4b-46dc-a499-e5545cd881ee",
   "metadata": {},
   "outputs": [
    {
     "name": "stderr",
     "output_type": "stream",
     "text": [
      "/var/folders/fz/3z_c5s9s3h73qptb_c8c57m00000gp/T/ipykernel_47393/21469080.py:8: UserWarning: Geometry is in a geographic CRS. Results from 'area' are likely incorrect. Use 'GeoSeries.to_crs()' to re-project geometries to a projected CRS before this operation.\n",
      "\n",
      "  navajo_nation_largest_area = navajo_nation_parts[navajo_nation_parts[\"geometry\"].area == navajo_nation_parts[\"geometry\"].area.max()]\n"
     ]
    },
    {
     "data": {
      "text/plain": [
       "<AxesSubplot:>"
      ]
     },
     "execution_count": 16,
     "metadata": {},
     "output_type": "execute_result"
    },
    {
     "data": {
      "image/png": "[encoded data removed]",
      "text/plain": [
       "<Figure size 432x288 with 1 Axes>"
      ]
     },
     "metadata": {
      "needs_background": "light"
     },
     "output_type": "display_data"
    }
   ],
   "source": [
    "# Get just the large, contiguous portion of the Navajo Nation as both a\n",
    "# polygon and a line.\n",
    "\n",
    "navajo_nation_parts = navajo_nation.explode(index_parts=True)\n",
    "\n",
    "# This will show a warning about the projection causing inaccurate area,\n",
    "# but we just care about the relative area, so I think we're ok.\n",
    "navajo_nation_largest_area = navajo_nation_parts[navajo_nation_parts[\"geometry\"].area == navajo_nation_parts[\"geometry\"].area.max()]\n",
    "\n",
    "navajo_nation_largest_area_as_line = navajo_nation_largest_area.copy()\n",
    "navajo_nation_largest_area_as_line[\"geometry\"] = navajo_nation_largest_area_as_line[\"geometry\"].exterior\n",
    "\n",
    "navajo_nation_largest_area.plot()"
   ]
  },
  {
   "cell_type": "markdown",
   "id": "1de5a17c-ce96-4924-8490-29f9416c4818",
   "metadata": {},
   "source": [
    "Using the outline of the large, contiguous portion of the Navajo Nation, we can see it crosses the county polygons."
   ]
  },
  {
   "cell_type": "code",
   "execution_count": 17,
   "id": "15c5463e-affc-448b-9354-ac7ba3148aa6",
   "metadata": {},
   "outputs": [
    {
     "data": {
      "text/html": [
       "<div>\n",
       "<style scoped>\n",
       "    .dataframe tbody tr th:only-of-type {\n",
       "        vertical-align: middle;\n",
       "    }\n",
       "\n",
       "    .dataframe tbody tr th {\n",
       "        vertical-align: top;\n",
       "    }\n",
       "\n",
       "    .dataframe thead th {\n",
       "        text-align: right;\n",
       "    }\n",
       "</style>\n",
       "<table border=\"1\" class=\"dataframe\">\n",
       "  <thead>\n",
       "    <tr style=\"text-align: right;\">\n",
       "      <th></th>\n",
       "      <th></th>\n",
       "      <th>NAME_right</th>\n",
       "    </tr>\n",
       "  </thead>\n",
       "  <tbody>\n",
       "    <tr>\n",
       "      <th rowspan=\"3\" valign=\"top\">117</th>\n",
       "      <th>310</th>\n",
       "      <td>Coconino</td>\n",
       "    </tr>\n",
       "    <tr>\n",
       "      <th>310</th>\n",
       "      <td>Navajo</td>\n",
       "    </tr>\n",
       "    <tr>\n",
       "      <th>310</th>\n",
       "      <td>Apache</td>\n",
       "    </tr>\n",
       "  </tbody>\n",
       "</table>\n",
       "</div>"
      ],
      "text/plain": [
       "        NAME_right\n",
       "117 310   Coconino\n",
       "    310     Navajo\n",
       "    310     Apache"
      ]
     },
     "execution_count": 17,
     "metadata": {},
     "output_type": "execute_result"
    }
   ],
   "source": [
    "navajo_nation_largest_area_as_line.sjoin(\n",
    "    counties_az,\n",
    "    how=\"inner\",\n",
    "    predicate=\"crosses\"\n",
    ")[[\"NAME_right\"]]"
   ]
  },
  {
   "cell_type": "markdown",
   "id": "6f89aafd-1193-47b8-8f19-a9825b9a7c80",
   "metadata": {},
   "source": [
    "The line versions of the large, contiguous area of the Navajo Nation and the counties don't cross based on the predicate criteria."
   ]
  },
  {
   "cell_type": "code",
   "execution_count": 18,
   "id": "7557d698-b4b3-4a3e-a2e4-ce9fe44d1364",
   "metadata": {},
   "outputs": [
    {
     "data": {
      "text/html": [
       "<div>\n",
       "<style scoped>\n",
       "    .dataframe tbody tr th:only-of-type {\n",
       "        vertical-align: middle;\n",
       "    }\n",
       "\n",
       "    .dataframe tbody tr th {\n",
       "        vertical-align: top;\n",
       "    }\n",
       "\n",
       "    .dataframe thead th {\n",
       "        text-align: right;\n",
       "    }\n",
       "</style>\n",
       "<table border=\"1\" class=\"dataframe\">\n",
       "  <thead>\n",
       "    <tr style=\"text-align: right;\">\n",
       "      <th></th>\n",
       "      <th>NAME_left</th>\n",
       "    </tr>\n",
       "  </thead>\n",
       "  <tbody>\n",
       "  </tbody>\n",
       "</table>\n",
       "</div>"
      ],
      "text/plain": [
       "Empty DataFrame\n",
       "Columns: [NAME_left]\n",
       "Index: []"
      ]
     },
     "execution_count": 18,
     "metadata": {},
     "output_type": "execute_result"
    }
   ],
   "source": [
    "counties_az_as_line.sjoin(\n",
    "    navajo_nation_largest_area_as_line,\n",
    "    how=\"inner\",\n",
    "    predicate=\"crosses\"\n",
    ")[[\"NAME_left\"]]"
   ]
  },
  {
   "cell_type": "code",
   "execution_count": 19,
   "id": "db61bb49-545f-4cfc-8cb4-5f56012e2557",
   "metadata": {},
   "outputs": [
    {
     "data": {
      "text/html": [
       "<div>\n",
       "<style scoped>\n",
       "    .dataframe tbody tr th:only-of-type {\n",
       "        vertical-align: middle;\n",
       "    }\n",
       "\n",
       "    .dataframe tbody tr th {\n",
       "        vertical-align: top;\n",
       "    }\n",
       "\n",
       "    .dataframe thead th {\n",
       "        text-align: right;\n",
       "    }\n",
       "</style>\n",
       "<table border=\"1\" class=\"dataframe\">\n",
       "  <thead>\n",
       "    <tr style=\"text-align: right;\">\n",
       "      <th></th>\n",
       "      <th></th>\n",
       "      <th>NAME_left</th>\n",
       "    </tr>\n",
       "  </thead>\n",
       "  <tbody>\n",
       "  </tbody>\n",
       "</table>\n",
       "</div>"
      ],
      "text/plain": [
       "Empty DataFrame\n",
       "Columns: [NAME_left]\n",
       "Index: []"
      ]
     },
     "execution_count": 19,
     "metadata": {},
     "output_type": "execute_result"
    }
   ],
   "source": [
    "navajo_nation_largest_area_as_line.sjoin(\n",
    "    counties_az_as_line,\n",
    "    how=\"inner\",\n",
    "    predicate=\"crosses\"\n",
    ")[[\"NAME_left\"]]"
   ]
  },
  {
   "cell_type": "markdown",
   "id": "5d96a62c-0d6f-4bd4-b9b6-4d97347fdbae",
   "metadata": {},
   "source": [
    "I think this is because the intersection of the line features end up being lines themselves. That is, they aren't a lower dimension."
   ]
  },
  {
   "cell_type": "code",
   "execution_count": 20,
   "id": "72c16fce-3514-4349-8f5a-e15741ea60d9",
   "metadata": {},
   "outputs": [
    {
     "name": "stderr",
     "output_type": "stream",
     "text": [
      "/Users/GHing/.local/share/virtualenvs/python-data-cheatsheet-ujiHmgN_/lib/python3.9/site-packages/geopandas/geodataframe.py:2196: UserWarning: `keep_geom_type=True` in overlay resulted in 251 dropped geometries of different geometry types than df1 has. Set `keep_geom_type=False` to retain all geometries\n",
      "  return geopandas.overlay(\n"
     ]
    },
    {
     "data": {
      "text/plain": [
       "array(['MultiLineString'], dtype=object)"
      ]
     },
     "execution_count": 20,
     "metadata": {},
     "output_type": "execute_result"
    }
   ],
   "source": [
    "# Show the geometry type of the intersection of county border lines with\n",
    "# the line of the Navajo Nation border.\n",
    "\n",
    "counties_az_as_line.overlay(\n",
    "    navajo_nation_largest_area_as_line,\n",
    "    how=\"intersection\"\n",
    ")[\"geometry\"].type.unique()"
   ]
  },
  {
   "cell_type": "markdown",
   "id": "e706b098-bcf0-4a0e-a221-bb406c81ab0a",
   "metadata": {},
   "source": [
    "### Overlaps\n",
    "\n",
    "Both the polygon and line version of the Navajo Nation boundaries overlap with counties"
   ]
  },
  {
   "cell_type": "code",
   "execution_count": 21,
   "id": "6971f574-c961-4825-ab0d-09d8d6a0833c",
   "metadata": {},
   "outputs": [
    {
     "data": {
      "text/html": [
       "<div>\n",
       "<style scoped>\n",
       "    .dataframe tbody tr th:only-of-type {\n",
       "        vertical-align: middle;\n",
       "    }\n",
       "\n",
       "    .dataframe tbody tr th {\n",
       "        vertical-align: top;\n",
       "    }\n",
       "\n",
       "    .dataframe thead th {\n",
       "        text-align: right;\n",
       "    }\n",
       "</style>\n",
       "<table border=\"1\" class=\"dataframe\">\n",
       "  <thead>\n",
       "    <tr style=\"text-align: right;\">\n",
       "      <th></th>\n",
       "      <th>NAME_right</th>\n",
       "    </tr>\n",
       "  </thead>\n",
       "  <tbody>\n",
       "    <tr>\n",
       "      <th>117</th>\n",
       "      <td>Coconino</td>\n",
       "    </tr>\n",
       "    <tr>\n",
       "      <th>117</th>\n",
       "      <td>Navajo</td>\n",
       "    </tr>\n",
       "    <tr>\n",
       "      <th>117</th>\n",
       "      <td>Apache</td>\n",
       "    </tr>\n",
       "  </tbody>\n",
       "</table>\n",
       "</div>"
      ],
      "text/plain": [
       "    NAME_right\n",
       "117   Coconino\n",
       "117     Navajo\n",
       "117     Apache"
      ]
     },
     "execution_count": 21,
     "metadata": {},
     "output_type": "execute_result"
    }
   ],
   "source": [
    "# Show that the polygons for the Navajo Nation and counties don't touch as far\n",
    "# as the predicate is concerned.\n",
    "\n",
    "navajo_nation.sjoin(\n",
    "    counties_az,\n",
    "    how=\"inner\",\n",
    "    predicate=\"overlaps\"\n",
    ")[[\"NAME_right\"]]"
   ]
  },
  {
   "cell_type": "code",
   "execution_count": 22,
   "id": "b51189ad-64b5-4f76-93fe-0ea61e7d4a92",
   "metadata": {},
   "outputs": [
    {
     "data": {
      "text/html": [
       "<div>\n",
       "<style scoped>\n",
       "    .dataframe tbody tr th:only-of-type {\n",
       "        vertical-align: middle;\n",
       "    }\n",
       "\n",
       "    .dataframe tbody tr th {\n",
       "        vertical-align: top;\n",
       "    }\n",
       "\n",
       "    .dataframe thead th {\n",
       "        text-align: right;\n",
       "    }\n",
       "</style>\n",
       "<table border=\"1\" class=\"dataframe\">\n",
       "  <thead>\n",
       "    <tr style=\"text-align: right;\">\n",
       "      <th></th>\n",
       "      <th></th>\n",
       "      <th>NAME_left</th>\n",
       "    </tr>\n",
       "  </thead>\n",
       "  <tbody>\n",
       "    <tr>\n",
       "      <th rowspan=\"3\" valign=\"top\">117</th>\n",
       "      <th>310</th>\n",
       "      <td>Navajo Nation</td>\n",
       "    </tr>\n",
       "    <tr>\n",
       "      <th>310</th>\n",
       "      <td>Navajo Nation</td>\n",
       "    </tr>\n",
       "    <tr>\n",
       "      <th>310</th>\n",
       "      <td>Navajo Nation</td>\n",
       "    </tr>\n",
       "  </tbody>\n",
       "</table>\n",
       "</div>"
      ],
      "text/plain": [
       "             NAME_left\n",
       "117 310  Navajo Nation\n",
       "    310  Navajo Nation\n",
       "    310  Navajo Nation"
      ]
     },
     "execution_count": 22,
     "metadata": {},
     "output_type": "execute_result"
    }
   ],
   "source": [
    "# Show that the polygons for the Navajo Nation and counties don't touch as far\n",
    "# as the predicate is concerned.\n",
    "\n",
    "navajo_nation_largest_area_as_line.sjoin(\n",
    "    counties_az_as_line,\n",
    "    how=\"inner\",\n",
    "    predicate=\"overlaps\"\n",
    ")[[\"NAME_left\"]]"
   ]
  },
  {
   "cell_type": "markdown",
   "id": "79b0b677-2b09-4194-8a82-51199a1ab4c3",
   "metadata": {},
   "source": [
    "### Touches\n",
    "\n",
    "The polygons for the Navajo Nation and counties don't touch, because their interiors also intersect."
   ]
  },
  {
   "cell_type": "code",
   "execution_count": 23,
   "id": "9dd63939-b06b-4048-993d-9af21c804ecb",
   "metadata": {},
   "outputs": [
    {
     "data": {
      "text/html": [
       "<div>\n",
       "<style scoped>\n",
       "    .dataframe tbody tr th:only-of-type {\n",
       "        vertical-align: middle;\n",
       "    }\n",
       "\n",
       "    .dataframe tbody tr th {\n",
       "        vertical-align: top;\n",
       "    }\n",
       "\n",
       "    .dataframe thead th {\n",
       "        text-align: right;\n",
       "    }\n",
       "</style>\n",
       "<table border=\"1\" class=\"dataframe\">\n",
       "  <thead>\n",
       "    <tr style=\"text-align: right;\">\n",
       "      <th></th>\n",
       "      <th>NAME_right</th>\n",
       "    </tr>\n",
       "  </thead>\n",
       "  <tbody>\n",
       "  </tbody>\n",
       "</table>\n",
       "</div>"
      ],
      "text/plain": [
       "Empty DataFrame\n",
       "Columns: [NAME_right]\n",
       "Index: []"
      ]
     },
     "execution_count": 23,
     "metadata": {},
     "output_type": "execute_result"
    }
   ],
   "source": [
    "# Show that the polygons for the Navajo Nation and counties don't touch as far\n",
    "# as the predicate is concerned.\n",
    "\n",
    "navajo_nation.sjoin(\n",
    "    counties_az,\n",
    "    how=\"inner\",\n",
    "    predicate=\"touches\"\n",
    ")[[\"NAME_right\"]]"
   ]
  },
  {
   "cell_type": "markdown",
   "id": "0af3b33c-e229-4e5f-82cf-829d1441f3bf",
   "metadata": {},
   "source": [
    "## Example: Maricopa County"
   ]
  },
  {
   "cell_type": "code",
   "execution_count": 24,
   "id": "22297788-a72a-4679-9603-fcf5ef835e72",
   "metadata": {},
   "outputs": [],
   "source": [
    "# Get a Data Frame of just Maricopa County and all other counties\n",
    "\n",
    "maricopa_county = counties_az[counties_az[\"NAME\"] == \"Maricopa\"].copy()\n",
    "counties_az_except_maricopa = counties_az[counties_az[\"NAME\"] != \"Maricopa\"].copy()"
   ]
  },
  {
   "cell_type": "code",
   "execution_count": 25,
   "id": "05d71976-14bf-4878-a466-65a0acb7ef45",
   "metadata": {},
   "outputs": [
    {
     "data": {
      "text/plain": [
       "<AxesSubplot:>"
      ]
     },
     "execution_count": 25,
     "metadata": {},
     "output_type": "execute_result"
    },
    {
     "data": {
      "image/png": "[encoded data removed]",
      "text/plain": [
       "<Figure size 432x288 with 1 Axes>"
      ]
     },
     "metadata": {
      "needs_background": "light"
     },
     "output_type": "display_data"
    }
   ],
   "source": [
    "# Plot Maricopa and its neighbors as a map\n",
    "\n",
    "not_maricopa_map = counties_az_except_maricopa.plot()\n",
    "\n",
    "maricopa_county.plot(ax=not_maricopa_map, edgecolor=\"red\", color=\"green\")"
   ]
  },
  {
   "cell_type": "markdown",
   "id": "a75f1c89-6a95-4620-8829-dc6f350ef1eb",
   "metadata": {},
   "source": [
    "### Intersects\n",
    "\n",
    "Maricopa intersects with the neighboring counties because they share borders."
   ]
  },
  {
   "cell_type": "code",
   "execution_count": 26,
   "id": "72bcba8b-c5bc-4e2c-ab23-8517dc349a88",
   "metadata": {},
   "outputs": [
    {
     "data": {
      "text/plain": [
       "851       Yuma\n",
       "851     La Paz\n",
       "851    Yavapai\n",
       "851       Pima\n",
       "851      Pinal\n",
       "851       Gila\n",
       "Name: NAME_right, dtype: object"
      ]
     },
     "execution_count": 26,
     "metadata": {},
     "output_type": "execute_result"
    }
   ],
   "source": [
    "# Show county polygons that Maricopa's polygon intersects with\n",
    "\n",
    "maricopa_county.sjoin(\n",
    "    counties_az_except_maricopa,\n",
    "    how=\"inner\",\n",
    "    predicate=\"intersects\"\n",
    ")[\"NAME_right\"]"
   ]
  },
  {
   "cell_type": "markdown",
   "id": "4b670bd4-a803-46bc-ace9-2c3ab1d85e65",
   "metadata": {},
   "source": [
    "### Touches\n",
    "\n",
    "That is, the polygons for Maricopa touch the polygons for the neighboring counties"
   ]
  },
  {
   "cell_type": "code",
   "execution_count": 27,
   "id": "00482f71-1f5e-4bec-a738-c63468cb0d93",
   "metadata": {},
   "outputs": [
    {
     "data": {
      "text/plain": [
       "851       Yuma\n",
       "851     La Paz\n",
       "851    Yavapai\n",
       "851       Pima\n",
       "851      Pinal\n",
       "851       Gila\n",
       "Name: NAME_right, dtype: object"
      ]
     },
     "execution_count": 27,
     "metadata": {},
     "output_type": "execute_result"
    }
   ],
   "source": [
    "# Show county polygons that Maricopa's polygon touches\n",
    "\n",
    "maricopa_county.sjoin(\n",
    "    counties_az_except_maricopa,\n",
    "    how=\"inner\",\n",
    "    predicate=\"touches\"\n",
    ")[\"NAME_right\"]"
   ]
  },
  {
   "cell_type": "markdown",
   "id": "d98ee2e7-2e7c-43d6-84b8-d1290c50e11b",
   "metadata": {},
   "source": [
    "### Overlaps\n",
    "\n",
    "But Maricopa County's polygon won't overlap ..."
   ]
  },
  {
   "cell_type": "code",
   "execution_count": 28,
   "id": "ac13ba74-d953-4b3f-a68f-adbdcb342e84",
   "metadata": {},
   "outputs": [
    {
     "data": {
      "text/plain": [
       "Series([], Name: NAME_right, dtype: object)"
      ]
     },
     "execution_count": 28,
     "metadata": {},
     "output_type": "execute_result"
    }
   ],
   "source": [
    "# Show county polygons that Maricopa's polygon overlaps\n",
    "\n",
    "maricopa_county.sjoin(\n",
    "    counties_az_except_maricopa,\n",
    "    how=\"inner\",\n",
    "    predicate=\"overlaps\"\n",
    ")[\"NAME_right\"]"
   ]
  },
  {
   "cell_type": "markdown",
   "id": "64b09e3c-0cba-4a04-a6f8-cdfa2b6fad87",
   "metadata": {},
   "source": [
    "### Crosses\n",
    "\n",
    "... or cross the boundaries of neighboring counties."
   ]
  },
  {
   "cell_type": "code",
   "execution_count": 29,
   "id": "58d75ce2-77a7-4f5a-adab-aef47172fad8",
   "metadata": {},
   "outputs": [
    {
     "data": {
      "text/plain": [
       "Series([], Name: NAME_right, dtype: object)"
      ]
     },
     "execution_count": 29,
     "metadata": {},
     "output_type": "execute_result"
    }
   ],
   "source": [
    "# Show county polygons that Maricopa's polygon crosses\n",
    "\n",
    "maricopa_county.sjoin(\n",
    "    counties_az_except_maricopa,\n",
    "    how=\"inner\",\n",
    "    predicate=\"crosses\"\n",
    ")[\"NAME_right\"]"
   ]
  },
  {
   "cell_type": "markdown",
   "id": "195c3af0-38e5-4f8a-8db0-234df4d74fe1",
   "metadata": {},
   "source": [
    "## Example: Phoenix"
   ]
  },
  {
   "cell_type": "code",
   "execution_count": 30,
   "id": "f3bc3472-81df-4490-b045-6fd1dd78c265",
   "metadata": {},
   "outputs": [],
   "source": [
    "# Get a DataFrame of just Phoenix's polygon\n",
    "\n",
    "phoenix = places_az[places_az[\"NAME\"] == \"Phoenix\"]"
   ]
  },
  {
   "cell_type": "code",
   "execution_count": 31,
   "id": "5afec9b3-168e-4f61-9a5a-337f2f0a932d",
   "metadata": {},
   "outputs": [],
   "source": [
    "# Get Phoenix's border as a line\n",
    "\n",
    "phoenix_as_line = phoenix.copy()\n",
    "phoenix_as_line[\"geometry\"] = phoenix_as_line[\"geometry\"].exterior"
   ]
  },
  {
   "cell_type": "code",
   "execution_count": 32,
   "id": "15cacda3-435a-4653-ae9a-315694464068",
   "metadata": {},
   "outputs": [
    {
     "data": {
      "text/plain": [
       "<AxesSubplot:>"
      ]
     },
     "execution_count": 32,
     "metadata": {},
     "output_type": "execute_result"
    },
    {
     "data": {
      "image/png": "[encoded data removed]",
      "text/plain": [
       "<Figure size 432x288 with 1 Axes>"
      ]
     },
     "metadata": {
      "needs_background": "light"
     },
     "output_type": "display_data"
    }
   ],
   "source": [
    "# Plot Phoenix and Maricopa county\n",
    "\n",
    "maricopa_map = maricopa_county.plot()\n",
    "\n",
    "phoenix.plot(ax=maricopa_map, edgecolor=\"red\", color=\"green\")"
   ]
  },
  {
   "cell_type": "markdown",
   "id": "b5cee714-8446-423a-8c43-7b7edde342f9",
   "metadata": {},
   "source": [
    "### Intersects\n",
    "\n",
    "Phoenix's polygon intersects with that of Maricopa county."
   ]
  },
  {
   "cell_type": "code",
   "execution_count": 33,
   "id": "179969c1-3186-409e-b490-805df96ffacf",
   "metadata": {},
   "outputs": [
    {
     "data": {
      "text/plain": [
       "53    Maricopa\n",
       "Name: NAME_right, dtype: object"
      ]
     },
     "execution_count": 33,
     "metadata": {},
     "output_type": "execute_result"
    }
   ],
   "source": [
    "# Show that Phoenix's polygon intersects with that of Maricopa county\n",
    "\n",
    "phoenix.sjoin(\n",
    "    maricopa_county,\n",
    "    how=\"inner\",\n",
    "    predicate=\"intersects\"\n",
    ")[\"NAME_right\"]"
   ]
  },
  {
   "cell_type": "markdown",
   "id": "b2d542f1-0c90-49ad-871e-ac4f6663fe67",
   "metadata": {},
   "source": [
    "### Overlaps\n",
    "\n",
    "Phoenix's polygon does not overlap with that of Maricopa county. I think this is because all of Phoenix's points are within Maricopa County's polygon."
   ]
  },
  {
   "cell_type": "code",
   "execution_count": 34,
   "id": "4508ce51-b21f-4a28-8646-96f32691c531",
   "metadata": {},
   "outputs": [
    {
     "data": {
      "text/plain": [
       "Series([], Name: NAME_right, dtype: object)"
      ]
     },
     "execution_count": 34,
     "metadata": {},
     "output_type": "execute_result"
    }
   ],
   "source": [
    "# Show that Phoenix's polygon does not overlap with that of Maricopa county\n",
    "\n",
    "phoenix.sjoin(\n",
    "    maricopa_county,\n",
    "    how=\"inner\",\n",
    "    predicate=\"overlaps\"\n",
    ")[\"NAME_right\"]"
   ]
  },
  {
   "cell_type": "markdown",
   "id": "bd83d134-f373-4b5e-87fc-641f4349ee00",
   "metadata": {},
   "source": [
    "### Touches\n",
    "\n",
    "Phoenix's polygon does not touch that of Maricopa county because it is wholly within the county boundary."
   ]
  },
  {
   "cell_type": "code",
   "execution_count": 35,
   "id": "cd445ba7-a0a6-45b9-8316-8fd65b54ca25",
   "metadata": {},
   "outputs": [
    {
     "data": {
      "text/plain": [
       "Series([], Name: NAME_right, dtype: object)"
      ]
     },
     "execution_count": 35,
     "metadata": {},
     "output_type": "execute_result"
    }
   ],
   "source": [
    "# Show that Phoenix's polygon does not touch that of Maricopa county\n",
    "\n",
    "phoenix.sjoin(\n",
    "    maricopa_county,\n",
    "    how=\"inner\",\n",
    "    predicate=\"touches\"\n",
    ")[\"NAME_right\"]"
   ]
  },
  {
   "cell_type": "markdown",
   "id": "d2371f4d-8878-46a2-b8df-ebf45d785726",
   "metadata": {},
   "source": [
    "### Contains\n",
    "\n",
    "Maricopa County's polygon contains that of Phoenix."
   ]
  },
  {
   "cell_type": "code",
   "execution_count": 36,
   "id": "860f7c97-0860-4861-9628-a7b85a86f34e",
   "metadata": {},
   "outputs": [
    {
     "data": {
      "text/plain": [
       "851    Phoenix\n",
       "Name: NAME_right, dtype: object"
      ]
     },
     "execution_count": 36,
     "metadata": {},
     "output_type": "execute_result"
    }
   ],
   "source": [
    "# Show that Maricopa County's polygon contains that of Phoenix\n",
    "\n",
    "maricopa_county.sjoin(\n",
    "    phoenix,\n",
    "    how=\"inner\",\n",
    "    predicate=\"contains\"\n",
    ")[\"NAME_right\"]"
   ]
  },
  {
   "cell_type": "markdown",
   "id": "ffa688d2-4a50-4b76-b6ad-49b82c915e1b",
   "metadata": {},
   "source": [
    "But it doesn't contain the line of Phoenix's border. You can read more about this counterintuitive behavior in [Quirks of the \"Contains\" Spatial Predicate](https://lin-ear-th-inking.blogspot.com/2007/06/subtleties-of-ogc-covers-spatial.html)."
   ]
  },
  {
   "cell_type": "code",
   "execution_count": 37,
   "id": "af61be38-f281-4e46-b96c-baf463654827",
   "metadata": {},
   "outputs": [
    {
     "data": {
      "text/plain": [
       "Series([], Name: NAME_right, dtype: object)"
      ]
     },
     "execution_count": 37,
     "metadata": {},
     "output_type": "execute_result"
    }
   ],
   "source": [
    "# Show that Maricopa County's polygon doesn't contain the line of the border of the city.\n",
    "\n",
    "maricopa_county.sjoin(\n",
    "    phoenix_as_line,\n",
    "    how=\"inner\",\n",
    "    predicate=\"contains\"\n",
    ")[\"NAME_right\"]"
   ]
  },
  {
   "cell_type": "markdown",
   "id": "33f4fa2c-d1f5-4e4c-91de-5b319bdea6b9",
   "metadata": {},
   "source": [
    "### Covers\n",
    "\n",
    "Maricopa County's polygon covers that of Phoenix."
   ]
  },
  {
   "cell_type": "code",
   "execution_count": 38,
   "id": "f9f94a36-f33f-48fa-9f0d-5619ccf38dd8",
   "metadata": {},
   "outputs": [
    {
     "data": {
      "text/plain": [
       "851    Phoenix\n",
       "Name: NAME_right, dtype: object"
      ]
     },
     "execution_count": 38,
     "metadata": {},
     "output_type": "execute_result"
    }
   ],
   "source": [
    "# Show that Maricopa County's polygon covers that of Phoenix\n",
    "\n",
    "maricopa_county.sjoin(\n",
    "    phoenix,\n",
    "    how=\"inner\",\n",
    "    predicate=\"covers\"\n",
    ")[\"NAME_right\"]"
   ]
  },
  {
   "cell_type": "markdown",
   "id": "461596e2-049a-45a3-89a6-765ab3242ba4",
   "metadata": {},
   "source": [
    "And it should also cover the line of Phoenix's border, according to [Quirks of the \"Contains\" Spatial Predicate](https://lin-ear-th-inking.blogspot.com/2007/06/subtleties-of-ogc-covers-spatial.html).\n",
    "\n",
    "However it doesn't."
   ]
  },
  {
   "cell_type": "code",
   "execution_count": 39,
   "id": "b673c11f-7965-4bc8-a3eb-595ecdb41156",
   "metadata": {},
   "outputs": [
    {
     "data": {
      "text/plain": [
       "Series([], Name: NAME_right, dtype: object)"
      ]
     },
     "execution_count": 39,
     "metadata": {},
     "output_type": "execute_result"
    }
   ],
   "source": [
    "maricopa_county.sjoin(\n",
    "    phoenix_as_line,\n",
    "    how=\"inner\",\n",
    "    predicate=\"covers\"\n",
    ")[\"NAME_right\"]"
   ]
  },
  {
   "cell_type": "markdown",
   "id": "bc6a9dfc-7760-48f9-b4e8-e235ffaad379",
   "metadata": {},
   "source": [
    "I think this is because there are actually multiple polygons that compose Phoenix's area."
   ]
  },
  {
   "cell_type": "code",
   "execution_count": 40,
   "id": "6d5b5749-e7cf-477d-93ff-91227fc721c4",
   "metadata": {},
   "outputs": [
    {
     "data": {
      "text/html": [
       "<div>\n",
       "<style scoped>\n",
       "    .dataframe tbody tr th:only-of-type {\n",
       "        vertical-align: middle;\n",
       "    }\n",
       "\n",
       "    .dataframe tbody tr th {\n",
       "        vertical-align: top;\n",
       "    }\n",
       "\n",
       "    .dataframe thead th {\n",
       "        text-align: right;\n",
       "    }\n",
       "</style>\n",
       "<table border=\"1\" class=\"dataframe\">\n",
       "  <thead>\n",
       "    <tr style=\"text-align: right;\">\n",
       "      <th></th>\n",
       "      <th></th>\n",
       "      <th>STATEFP</th>\n",
       "      <th>PLACEFP</th>\n",
       "      <th>PLACENS</th>\n",
       "      <th>GEOID</th>\n",
       "      <th>NAME</th>\n",
       "      <th>NAMELSAD</th>\n",
       "      <th>LSAD</th>\n",
       "      <th>CLASSFP</th>\n",
       "      <th>PCICBSA</th>\n",
       "      <th>PCINECTA</th>\n",
       "      <th>MTFCC</th>\n",
       "      <th>FUNCSTAT</th>\n",
       "      <th>ALAND</th>\n",
       "      <th>AWATER</th>\n",
       "      <th>INTPTLAT</th>\n",
       "      <th>INTPTLON</th>\n",
       "      <th>geometry</th>\n",
       "    </tr>\n",
       "  </thead>\n",
       "  <tbody>\n",
       "    <tr>\n",
       "      <th rowspan=\"2\" valign=\"top\">53</th>\n",
       "      <th>0</th>\n",
       "      <td>04</td>\n",
       "      <td>55000</td>\n",
       "      <td>02411414</td>\n",
       "      <td>0455000</td>\n",
       "      <td>Phoenix</td>\n",
       "      <td>Phoenix city</td>\n",
       "      <td>25</td>\n",
       "      <td>C1</td>\n",
       "      <td>Y</td>\n",
       "      <td>N</td>\n",
       "      <td>G4110</td>\n",
       "      <td>A</td>\n",
       "      <td>1342303901</td>\n",
       "      <td>2633970</td>\n",
       "      <td>+33.5721544</td>\n",
       "      <td>-112.0901324</td>\n",
       "      <td>POLYGON ((-112.12626 33.36182, -112.12550 33.3...</td>\n",
       "    </tr>\n",
       "    <tr>\n",
       "      <th>1</th>\n",
       "      <td>04</td>\n",
       "      <td>55000</td>\n",
       "      <td>02411414</td>\n",
       "      <td>0455000</td>\n",
       "      <td>Phoenix</td>\n",
       "      <td>Phoenix city</td>\n",
       "      <td>25</td>\n",
       "      <td>C1</td>\n",
       "      <td>Y</td>\n",
       "      <td>N</td>\n",
       "      <td>G4110</td>\n",
       "      <td>A</td>\n",
       "      <td>1342303901</td>\n",
       "      <td>2633970</td>\n",
       "      <td>+33.5721544</td>\n",
       "      <td>-112.0901324</td>\n",
       "      <td>POLYGON ((-112.32407 33.51469, -112.32394 33.5...</td>\n",
       "    </tr>\n",
       "  </tbody>\n",
       "</table>\n",
       "</div>"
      ],
      "text/plain": [
       "     STATEFP PLACEFP   PLACENS    GEOID     NAME      NAMELSAD LSAD CLASSFP  \\\n",
       "53 0      04   55000  02411414  0455000  Phoenix  Phoenix city   25      C1   \n",
       "   1      04   55000  02411414  0455000  Phoenix  Phoenix city   25      C1   \n",
       "\n",
       "     PCICBSA PCINECTA  MTFCC FUNCSTAT       ALAND   AWATER     INTPTLAT  \\\n",
       "53 0       Y        N  G4110        A  1342303901  2633970  +33.5721544   \n",
       "   1       Y        N  G4110        A  1342303901  2633970  +33.5721544   \n",
       "\n",
       "          INTPTLON                                           geometry  \n",
       "53 0  -112.0901324  POLYGON ((-112.12626 33.36182, -112.12550 33.3...  \n",
       "   1  -112.0901324  POLYGON ((-112.32407 33.51469, -112.32394 33.5...  "
      ]
     },
     "execution_count": 40,
     "metadata": {},
     "output_type": "execute_result"
    }
   ],
   "source": [
    "# Break the multiply polygons of Phoenix into separate rows\n",
    "\n",
    "phoenix_pieces = phoenix.explode(index_parts=True)\n",
    "\n",
    "phoenix_pieces"
   ]
  },
  {
   "cell_type": "code",
   "execution_count": 41,
   "id": "510af3d2-ee57-4c5e-a52d-e0b5464a860a",
   "metadata": {},
   "outputs": [
    {
     "name": "stderr",
     "output_type": "stream",
     "text": [
      "/var/folders/fz/3z_c5s9s3h73qptb_c8c57m00000gp/T/ipykernel_47393/1553427259.py:3: UserWarning: Geometry is in a geographic CRS. Results from 'area' are likely incorrect. Use 'GeoSeries.to_crs()' to re-project geometries to a projected CRS before this operation.\n",
      "\n",
      "  phoenix_largest_piece = phoenix_pieces[phoenix_pieces.area == phoenix_pieces.area.max()]\n"
     ]
    }
   ],
   "source": [
    "# Get only the largest polygon for Phoenix and also get its border as a line\n",
    "\n",
    "phoenix_largest_piece = phoenix_pieces[phoenix_pieces.area == phoenix_pieces.area.max()]\n",
    "\n",
    "phoenix_largest_piece_as_line = phoenix_largest_piece.copy()\n",
    "phoenix_largest_piece_as_line[\"geometry\"] = phoenix_largest_piece_as_line[\"geometry\"].exterior"
   ]
  },
  {
   "cell_type": "code",
   "execution_count": 42,
   "id": "fd084a0d-d93a-4a49-9aff-381d661f57c9",
   "metadata": {},
   "outputs": [
    {
     "data": {
      "text/plain": [
       "851    Phoenix\n",
       "Name: NAME_right, dtype: object"
      ]
     },
     "execution_count": 42,
     "metadata": {},
     "output_type": "execute_result"
    }
   ],
   "source": [
    "# Show that Maricopa County's polygon covers one of the lines representing\n",
    "# the border for the largest part of Phoenix.\n",
    "\n",
    "maricopa_county.sjoin(\n",
    "    phoenix_largest_piece_as_line,\n",
    "    how=\"inner\",\n",
    "    predicate=\"covers\"\n",
    ")[\"NAME_right\"]"
   ]
  },
  {
   "cell_type": "markdown",
   "id": "78850e2d-7b4b-4c4a-9900-d6401519a3c0",
   "metadata": {},
   "source": [
    "### Within\n",
    "\n",
    "Phoenix's polygon is within that of Maricopa County."
   ]
  },
  {
   "cell_type": "code",
   "execution_count": 43,
   "id": "62a53731-3bae-45b7-860f-7f7e9deaad3d",
   "metadata": {},
   "outputs": [
    {
     "data": {
      "text/plain": [
       "53    Maricopa\n",
       "Name: NAME_right, dtype: object"
      ]
     },
     "execution_count": 43,
     "metadata": {},
     "output_type": "execute_result"
    }
   ],
   "source": [
    "# Show that Phoenix's polygon is within that of Maricopa County\n",
    "\n",
    "phoenix.sjoin(\n",
    "    maricopa_county,\n",
    "    how=\"inner\",\n",
    "    predicate=\"within\"\n",
    ")[\"NAME_right\"]"
   ]
  },
  {
   "cell_type": "markdown",
   "id": "3cc80fa9-1ff9-47b4-be56-966bc0f816ba",
   "metadata": {},
   "source": [
    "And Phoenix is within itself, though that doesn't make sense to me based on the definition of the Shapely predicate:\n",
    "\n",
    "> Returns True if the object’s boundary and interior intersect only with the interior of the other (not its boundary or exterior).\n",
    "\n",
    "This may have to do with the way that GeoPandas [uses `contains` to implement `within` as an optimization](https://github.com/geopandas/geopandas/blob/master/geopandas/sindex.py#L481)."
   ]
  },
  {
   "cell_type": "code",
   "execution_count": 44,
   "id": "feae54bc-ddf8-4e46-aa82-8ef469345d97",
   "metadata": {},
   "outputs": [
    {
     "data": {
      "text/plain": [
       "53    Phoenix\n",
       "Name: NAME_right, dtype: object"
      ]
     },
     "execution_count": 44,
     "metadata": {},
     "output_type": "execute_result"
    }
   ],
   "source": [
    "# Show that Phoenix's polygon is (confusingly) in itself\n",
    "\n",
    "phoenix.sjoin(\n",
    "    phoenix,\n",
    "    how=\"inner\",\n",
    "    predicate=\"within\"\n",
    ")[\"NAME_right\"]"
   ]
  },
  {
   "cell_type": "markdown",
   "id": "1c4287d1-59f4-45ce-9de5-98911da0178e",
   "metadata": {},
   "source": [
    "## Example: Queen Creek"
   ]
  },
  {
   "cell_type": "code",
   "execution_count": 45,
   "id": "787fc696-22b6-4f3a-a87c-9865e3c07f09",
   "metadata": {},
   "outputs": [],
   "source": [
    "# Get a DataFrame containing only the polygon for Queen Creek\n",
    "\n",
    "queen_creek = places_az[places_az[\"NAME\"] == \"Queen Creek\"]"
   ]
  },
  {
   "cell_type": "code",
   "execution_count": 46,
   "id": "7e5fa8d9-326a-4703-92c0-1cfeb359044e",
   "metadata": {},
   "outputs": [
    {
     "data": {
      "text/plain": [
       "<AxesSubplot:>"
      ]
     },
     "execution_count": 46,
     "metadata": {},
     "output_type": "execute_result"
    },
    {
     "data": {
      "image/png": "[encoded data removed]",
      "text/plain": [
       "<Figure size 432x288 with 1 Axes>"
      ]
     },
     "metadata": {
      "needs_background": "light"
     },
     "output_type": "display_data"
    }
   ],
   "source": [
    "# Plot Queen Creek and Maricopa county\n",
    "\n",
    "maricopa_map = maricopa_county.plot()\n",
    "\n",
    "queen_creek.plot(ax=maricopa_map, edgecolor=\"red\", color=\"green\")"
   ]
  },
  {
   "cell_type": "markdown",
   "id": "2266be16-159f-4d5c-b4e7-b7681d373655",
   "metadata": {},
   "source": [
    "### Intersects\n",
    "\n",
    "Queen Creek intersects with Maricopa County."
   ]
  },
  {
   "cell_type": "code",
   "execution_count": 47,
   "id": "f964591e-d92c-4465-bbb4-c7eb2788a81f",
   "metadata": {},
   "outputs": [
    {
     "data": {
      "text/plain": [
       "50    Maricopa\n",
       "Name: NAME_right, dtype: object"
      ]
     },
     "execution_count": 47,
     "metadata": {},
     "output_type": "execute_result"
    }
   ],
   "source": [
    "# Show that Queek Creek's polygon intersects with that of Maricopa County.\n",
    "\n",
    "queen_creek.sjoin(\n",
    "    maricopa_county,\n",
    "    how=\"inner\",\n",
    "    predicate=\"intersects\"\n",
    ")[\"NAME_right\"]"
   ]
  },
  {
   "cell_type": "markdown",
   "id": "a93ea05e-9b3a-46af-a948-6240f9fe1c1d",
   "metadata": {},
   "source": [
    "### Overlaps\n",
    "\n",
    "And also overlaps with the county."
   ]
  },
  {
   "cell_type": "code",
   "execution_count": 48,
   "id": "b8b3c720-216d-4b86-b31c-177e3e20a701",
   "metadata": {},
   "outputs": [
    {
     "data": {
      "text/plain": [
       "50    Maricopa\n",
       "Name: NAME_right, dtype: object"
      ]
     },
     "execution_count": 48,
     "metadata": {},
     "output_type": "execute_result"
    }
   ],
   "source": [
    "# Show that Queek Creek's polygon overlaps with that of Maricopa County.\n",
    "\n",
    "queen_creek.sjoin(\n",
    "    maricopa_county,\n",
    "    how=\"inner\",\n",
    "    predicate=\"overlaps\"\n",
    ")[\"NAME_right\"]"
   ]
  },
  {
   "cell_type": "markdown",
   "id": "3a09de31-334d-42ad-87bd-a3aef7077e9f",
   "metadata": {},
   "source": [
    "### Contains\n",
    "\n",
    "Maricopa County doesn't contain Queen Creek."
   ]
  },
  {
   "cell_type": "code",
   "execution_count": 49,
   "id": "da854528-ee25-4f76-8bf0-67307b83a9b5",
   "metadata": {},
   "outputs": [
    {
     "data": {
      "text/plain": [
       "Series([], Name: NAME_right, dtype: object)"
      ]
     },
     "execution_count": 49,
     "metadata": {},
     "output_type": "execute_result"
    }
   ],
   "source": [
    "# Show that Maricopa County's polygon doesn't contain that of Queen Creek.\n",
    "\n",
    "maricopa_county.sjoin(\n",
    "    queen_creek,\n",
    "    how=\"inner\",\n",
    "    predicate=\"contains\"\n",
    ")[\"NAME_right\"]"
   ]
  },
  {
   "cell_type": "markdown",
   "id": "b7785591-2f51-4acf-a6f8-56de76f44746",
   "metadata": {},
   "source": [
    "### Within\n",
    "\n",
    "And Queen Creek isn't within Maricopa County."
   ]
  },
  {
   "cell_type": "code",
   "execution_count": 50,
   "id": "dc4fedc1-2c05-47fb-916b-eaca6fb17eaf",
   "metadata": {},
   "outputs": [
    {
     "data": {
      "text/plain": [
       "Series([], Name: NAME_right, dtype: object)"
      ]
     },
     "execution_count": 50,
     "metadata": {},
     "output_type": "execute_result"
    }
   ],
   "source": [
    "# Show that Queen Creek's polygon isn't within that of Maricopa County\n",
    "\n",
    "queen_creek.sjoin(\n",
    "    maricopa_county,\n",
    "    how=\"inner\",\n",
    "    predicate=\"within\"\n",
    ")[\"NAME_right\"]"
   ]
  },
  {
   "cell_type": "code",
   "execution_count": null,
   "id": "1ad96be6-e675-4988-aaa8-05d23109a0be",
   "metadata": {},
   "outputs": [],
   "source": []
  }
 ],
 "metadata": {
  "kernelspec": {
   "display_name": "python-data-cheatsheet",
   "language": "python",
   "name": "python-data-cheatsheet"
  },
  "language_info": {
   "codemirror_mode": {
    "name": "ipython",
    "version": 3
   },
   "file_extension": ".py",
   "mimetype": "text/x-python",
   "name": "python",
   "nbconvert_exporter": "python",
   "pygments_lexer": "ipython3",
   "version": "3.9.4"
  }
 },
 "nbformat": 4,
 "nbformat_minor": 5
}
