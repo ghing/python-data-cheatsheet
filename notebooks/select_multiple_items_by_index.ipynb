{
 "cells": [
  {
   "cell_type": "markdown",
   "metadata": {},
   "source": [
    "# Select a set of items by a list of index values\n",
    "\n",
    "Source: [Indexing and selecting data](https://pandas.pydata.org/pandas-docs/stable/user_guide/indexing.html) (pandas documentation)"
   ]
  },
  {
   "cell_type": "code",
   "execution_count": 3,
   "metadata": {},
   "outputs": [],
   "source": [
    "# Setup\n",
    "\n",
    "from io import StringIO\n",
    "\n",
    "import pandas as pd"
   ]
  },
  {
   "cell_type": "markdown",
   "metadata": {},
   "source": [
    "## Create some toy data\n",
    "\n",
    "This is copy and pasted from some [Wisconsin election results](https://elections.wi.gov/sites/elections.wi.gov/files/County%20by%20County%20Report%20all%20offices.xlsx) for the 2020 general election. A complex header format in the spreadsheet made loading the file directly beyond the scope of this example.\n",
    "\n",
    "Note that this does not represent all the counties."
   ]
  },
  {
   "cell_type": "code",
   "execution_count": 5,
   "metadata": {},
   "outputs": [
    {
     "data": {
      "text/html": [
       "<div>\n",
       "<style scoped>\n",
       "    .dataframe tbody tr th:only-of-type {\n",
       "        vertical-align: middle;\n",
       "    }\n",
       "\n",
       "    .dataframe tbody tr th {\n",
       "        vertical-align: top;\n",
       "    }\n",
       "\n",
       "    .dataframe thead th {\n",
       "        text-align: right;\n",
       "    }\n",
       "</style>\n",
       "<table border=\"1\" class=\"dataframe\">\n",
       "  <thead>\n",
       "    <tr style=\"text-align: right;\">\n",
       "      <th></th>\n",
       "      <th>Total Votes Cast</th>\n",
       "    </tr>\n",
       "    <tr>\n",
       "      <th>County</th>\n",
       "      <th></th>\n",
       "    </tr>\n",
       "  </thead>\n",
       "  <tbody>\n",
       "    <tr>\n",
       "      <th>ADAMS</th>\n",
       "      <td>11,818</td>\n",
       "    </tr>\n",
       "    <tr>\n",
       "      <th>ASHLAND</th>\n",
       "      <td>8,757</td>\n",
       "    </tr>\n",
       "    <tr>\n",
       "      <th>BARRON</th>\n",
       "      <td>25,346</td>\n",
       "    </tr>\n",
       "    <tr>\n",
       "      <th>BAYFIELD</th>\n",
       "      <td>10,880</td>\n",
       "    </tr>\n",
       "    <tr>\n",
       "      <th>BROWN</th>\n",
       "      <td>144,017</td>\n",
       "    </tr>\n",
       "    <tr>\n",
       "      <th>BUFFALO</th>\n",
       "      <td>7,816</td>\n",
       "    </tr>\n",
       "    <tr>\n",
       "      <th>BURNETT</th>\n",
       "      <td>10,141</td>\n",
       "    </tr>\n",
       "    <tr>\n",
       "      <th>CALUMET</th>\n",
       "      <td>30,774</td>\n",
       "    </tr>\n",
       "    <tr>\n",
       "      <th>CHIPPEWA</th>\n",
       "      <td>35,938</td>\n",
       "    </tr>\n",
       "    <tr>\n",
       "      <th>CLARK</th>\n",
       "      <td>14,898</td>\n",
       "    </tr>\n",
       "    <tr>\n",
       "      <th>COLUMBIA</th>\n",
       "      <td>33,869</td>\n",
       "    </tr>\n",
       "  </tbody>\n",
       "</table>\n",
       "</div>"
      ],
      "text/plain": [
       "         Total Votes Cast\n",
       "County                   \n",
       "ADAMS              11,818\n",
       "ASHLAND             8,757\n",
       "BARRON             25,346\n",
       "BAYFIELD           10,880\n",
       "BROWN             144,017\n",
       "BUFFALO             7,816\n",
       "BURNETT            10,141\n",
       "CALUMET            30,774\n",
       "CHIPPEWA           35,938\n",
       "CLARK              14,898\n",
       "COLUMBIA           33,869"
      ]
     },
     "execution_count": 5,
     "metadata": {},
     "output_type": "execute_result"
    }
   ],
   "source": [
    "results_tsv = \"\"\"\n",
    "County\t\tTotal Votes Cast\n",
    "ADAMS \t\t11,818\n",
    "ASHLAND \t\t8,757\n",
    "BARRON \t\t25,346\n",
    "BAYFIELD \t\t10,880\n",
    "BROWN \t\t144,017\n",
    "BUFFALO \t\t7,816\n",
    "BURNETT \t\t10,141\n",
    "CALUMET \t\t30,774\n",
    "CHIPPEWA \t\t35,938\n",
    "CLARK \t\t14,898\n",
    "COLUMBIA \t\t33,869\n",
    "\"\"\"\n",
    "\n",
    "# This data needs some processing after load:\n",
    "# - Remove an empty column\n",
    "# - Remove a trailing whitespace in the county name\n",
    "# - Set the count name as the index\n",
    "results = (\n",
    "    pd.read_csv(StringIO(results_tsv), sep=\"\\t\")\n",
    "    .drop(columns=[\"Unnamed: 1\"])\n",
    "    .assign(\n",
    "        County=lambda df: df[\"County\"].str.strip()\n",
    "    )\n",
    "    .set_index(\"County\")\n",
    ")\n",
    "\n",
    "results"
   ]
  },
  {
   "cell_type": "markdown",
   "metadata": {},
   "source": [
    "## Select a few items from the dataframe, based on their index values\n",
    "\n",
    "Use `DataFrame.loc` with a list of labels."
   ]
  },
  {
   "cell_type": "code",
   "execution_count": 10,
   "metadata": {},
   "outputs": [
    {
     "data": {
      "text/html": [
       "<div>\n",
       "<style scoped>\n",
       "    .dataframe tbody tr th:only-of-type {\n",
       "        vertical-align: middle;\n",
       "    }\n",
       "\n",
       "    .dataframe tbody tr th {\n",
       "        vertical-align: top;\n",
       "    }\n",
       "\n",
       "    .dataframe thead th {\n",
       "        text-align: right;\n",
       "    }\n",
       "</style>\n",
       "<table border=\"1\" class=\"dataframe\">\n",
       "  <thead>\n",
       "    <tr style=\"text-align: right;\">\n",
       "      <th></th>\n",
       "      <th>Total Votes Cast</th>\n",
       "    </tr>\n",
       "    <tr>\n",
       "      <th>County</th>\n",
       "      <th></th>\n",
       "    </tr>\n",
       "  </thead>\n",
       "  <tbody>\n",
       "    <tr>\n",
       "      <th>BAYFIELD</th>\n",
       "      <td>10,880</td>\n",
       "    </tr>\n",
       "    <tr>\n",
       "      <th>BURNETT</th>\n",
       "      <td>10,141</td>\n",
       "    </tr>\n",
       "    <tr>\n",
       "      <th>CLARK</th>\n",
       "      <td>14,898</td>\n",
       "    </tr>\n",
       "  </tbody>\n",
       "</table>\n",
       "</div>"
      ],
      "text/plain": [
       "         Total Votes Cast\n",
       "County                   \n",
       "BAYFIELD           10,880\n",
       "BURNETT            10,141\n",
       "CLARK              14,898"
      ]
     },
     "execution_count": 10,
     "metadata": {},
     "output_type": "execute_result"
    }
   ],
   "source": [
    "selected_county_names = [\n",
    "    \"BAYFIELD\",\n",
    "    \"BURNETT\",\n",
    "    \"CLARK\",\n",
    "]\n",
    "\n",
    "selected_results = results.loc[selected_county_names]\n",
    "\n",
    "selected_results"
   ]
  },
  {
   "cell_type": "code",
   "execution_count": null,
   "metadata": {},
   "outputs": [],
   "source": []
  }
 ],
 "metadata": {
  "kernelspec": {
   "display_name": "python-data-cheatsheet",
   "language": "python",
   "name": "python-data-cheatsheet"
  },
  "language_info": {
   "codemirror_mode": {
    "name": "ipython",
    "version": 3
   },
   "file_extension": ".py",
   "mimetype": "text/x-python",
   "name": "python",
   "nbconvert_exporter": "python",
   "pygments_lexer": "ipython3",
   "version": "3.7.3"
  }
 },
 "nbformat": 4,
 "nbformat_minor": 4
}
