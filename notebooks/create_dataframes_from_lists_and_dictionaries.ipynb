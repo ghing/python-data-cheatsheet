{
 "cells": [
  {
   "cell_type": "markdown",
   "metadata": {},
   "source": [
    "# Creating DataFrames from lists and dictionaries\n",
    "\n",
    "via [Creating Pandas DataFrames from Lists and Dictionaries](http://pbpython.com/pandas-list-dict.html)"
   ]
  },
  {
   "cell_type": "code",
   "execution_count": 1,
   "metadata": {},
   "outputs": [],
   "source": [
    "import pandas as pd"
   ]
  },
  {
   "cell_type": "markdown",
   "metadata": {},
   "source": [
    "## Rows in tuples\n",
    "\n",
    "Use `pandas.DataFrame.from_records`."
   ]
  },
  {
   "cell_type": "code",
   "execution_count": 2,
   "metadata": {},
   "outputs": [
    {
     "data": {
      "text/html": [
       "<div>\n",
       "<style scoped>\n",
       "    .dataframe tbody tr th:only-of-type {\n",
       "        vertical-align: middle;\n",
       "    }\n",
       "\n",
       "    .dataframe tbody tr th {\n",
       "        vertical-align: top;\n",
       "    }\n",
       "\n",
       "    .dataframe thead th {\n",
       "        text-align: right;\n",
       "    }\n",
       "</style>\n",
       "<table border=\"1\" class=\"dataframe\">\n",
       "  <thead>\n",
       "    <tr style=\"text-align: right;\">\n",
       "      <th></th>\n",
       "      <th>name</th>\n",
       "      <th>address</th>\n",
       "    </tr>\n",
       "  </thead>\n",
       "  <tbody>\n",
       "    <tr>\n",
       "      <th>0</th>\n",
       "      <td>Richard M. Daley Branch</td>\n",
       "      <td>733 N Kedzie Ave, Chicago, IL 60612</td>\n",
       "    </tr>\n",
       "    <tr>\n",
       "      <th>1</th>\n",
       "      <td>West Town Branch</td>\n",
       "      <td>1625 W Chicago Ave, Chicago, IL 60622</td>\n",
       "    </tr>\n",
       "    <tr>\n",
       "      <th>2</th>\n",
       "      <td>Humboldt Park Branch</td>\n",
       "      <td>1605 N Troy St, Chicago, IL 60647</td>\n",
       "    </tr>\n",
       "  </tbody>\n",
       "</table>\n",
       "</div>"
      ],
      "text/plain": [
       "                      name                                address\n",
       "0  Richard M. Daley Branch    733 N Kedzie Ave, Chicago, IL 60612\n",
       "1         West Town Branch  1625 W Chicago Ave, Chicago, IL 60622\n",
       "2     Humboldt Park Branch      1605 N Troy St, Chicago, IL 60647"
      ]
     },
     "execution_count": 2,
     "metadata": {},
     "output_type": "execute_result"
    }
   ],
   "source": [
    "library_data = [\n",
    "    ('Richard M. Daley Branch', '733 N Kedzie Ave, Chicago, IL 60612'),\n",
    "    ('West Town Branch', '1625 W Chicago Ave, Chicago, IL 60622'),\n",
    "    ('Humboldt Park Branch', '1605 N Troy St, Chicago, IL 60647'),\n",
    "    \n",
    "]\n",
    "library_columns = ['name', 'address']\n",
    "\n",
    "libraries = pd.DataFrame.from_records(library_data, columns=library_columns)\n",
    "\n",
    "libraries"
   ]
  },
  {
   "cell_type": "markdown",
   "metadata": {},
   "source": [
    "## Rows in dictionaries\n",
    "\n",
    "Just use the `pandas.DataFrame` constructor."
   ]
  },
  {
   "cell_type": "code",
   "execution_count": 3,
   "metadata": {},
   "outputs": [
    {
     "data": {
      "text/html": [
       "<div>\n",
       "<style scoped>\n",
       "    .dataframe tbody tr th:only-of-type {\n",
       "        vertical-align: middle;\n",
       "    }\n",
       "\n",
       "    .dataframe tbody tr th {\n",
       "        vertical-align: top;\n",
       "    }\n",
       "\n",
       "    .dataframe thead th {\n",
       "        text-align: right;\n",
       "    }\n",
       "</style>\n",
       "<table border=\"1\" class=\"dataframe\">\n",
       "  <thead>\n",
       "    <tr style=\"text-align: right;\">\n",
       "      <th></th>\n",
       "      <th>address</th>\n",
       "      <th>name</th>\n",
       "    </tr>\n",
       "  </thead>\n",
       "  <tbody>\n",
       "    <tr>\n",
       "      <th>0</th>\n",
       "      <td>733 N Kedzie Ave, Chicago, IL 60612</td>\n",
       "      <td>Richard M. Daley Branch</td>\n",
       "    </tr>\n",
       "    <tr>\n",
       "      <th>1</th>\n",
       "      <td>1625 W Chicago Ave, Chicago, IL 60622</td>\n",
       "      <td>West Town Branch</td>\n",
       "    </tr>\n",
       "    <tr>\n",
       "      <th>2</th>\n",
       "      <td>1605 N Troy St, Chicago, IL 60647</td>\n",
       "      <td>Humboldt Park Branch</td>\n",
       "    </tr>\n",
       "  </tbody>\n",
       "</table>\n",
       "</div>"
      ],
      "text/plain": [
       "                                 address                     name\n",
       "0    733 N Kedzie Ave, Chicago, IL 60612  Richard M. Daley Branch\n",
       "1  1625 W Chicago Ave, Chicago, IL 60622         West Town Branch\n",
       "2      1605 N Troy St, Chicago, IL 60647     Humboldt Park Branch"
      ]
     },
     "execution_count": 3,
     "metadata": {},
     "output_type": "execute_result"
    }
   ],
   "source": [
    "library_data = [\n",
    "    {'name': 'Richard M. Daley Branch', 'address': '733 N Kedzie Ave, Chicago, IL 60612'},\n",
    "    {'name': 'West Town Branch', 'address': '1625 W Chicago Ave, Chicago, IL 60622'},\n",
    "    {'name': 'Humboldt Park Branch', 'address': '1605 N Troy St, Chicago, IL 60647'},\n",
    "]\n",
    "\n",
    "libraries = pd.DataFrame(library_data)\n",
    "\n",
    "libraries"
   ]
  },
  {
   "cell_type": "markdown",
   "metadata": {},
   "source": [
    "## Dictionary of columns\n",
    "\n",
    "Use `pandas.DataFrame.from_dict`."
   ]
  },
  {
   "cell_type": "code",
   "execution_count": 4,
   "metadata": {},
   "outputs": [
    {
     "data": {
      "text/html": [
       "<div>\n",
       "<style scoped>\n",
       "    .dataframe tbody tr th:only-of-type {\n",
       "        vertical-align: middle;\n",
       "    }\n",
       "\n",
       "    .dataframe tbody tr th {\n",
       "        vertical-align: top;\n",
       "    }\n",
       "\n",
       "    .dataframe thead th {\n",
       "        text-align: right;\n",
       "    }\n",
       "</style>\n",
       "<table border=\"1\" class=\"dataframe\">\n",
       "  <thead>\n",
       "    <tr style=\"text-align: right;\">\n",
       "      <th></th>\n",
       "      <th>name</th>\n",
       "      <th>address</th>\n",
       "    </tr>\n",
       "  </thead>\n",
       "  <tbody>\n",
       "    <tr>\n",
       "      <th>0</th>\n",
       "      <td>Richard M. Daley Branch</td>\n",
       "      <td>733 N Kedzie Ave, Chicago, IL 60612</td>\n",
       "    </tr>\n",
       "    <tr>\n",
       "      <th>1</th>\n",
       "      <td>West Town Branch</td>\n",
       "      <td>1625 W Chicago Ave, Chicago, IL 60622</td>\n",
       "    </tr>\n",
       "    <tr>\n",
       "      <th>2</th>\n",
       "      <td>Humboldt Park Branch</td>\n",
       "      <td>1605 N Troy St, Chicago, IL 60647</td>\n",
       "    </tr>\n",
       "  </tbody>\n",
       "</table>\n",
       "</div>"
      ],
      "text/plain": [
       "                      name                                address\n",
       "0  Richard M. Daley Branch    733 N Kedzie Ave, Chicago, IL 60612\n",
       "1         West Town Branch  1625 W Chicago Ave, Chicago, IL 60622\n",
       "2     Humboldt Park Branch      1605 N Troy St, Chicago, IL 60647"
      ]
     },
     "execution_count": 4,
     "metadata": {},
     "output_type": "execute_result"
    }
   ],
   "source": [
    "library_data = {\n",
    "    'name': ['Richard M. Daley Branch', 'West Town Branch', 'Humboldt Park Branch'],\n",
    "    'address': ['733 N Kedzie Ave, Chicago, IL 60612', '1625 W Chicago Ave, Chicago, IL 60622', '1605 N Troy St, Chicago, IL 60647'],\n",
    "}\n",
    "\n",
    "libraries = pd.DataFrame.from_dict(library_data)\n",
    "\n",
    "libraries"
   ]
  },
  {
   "cell_type": "markdown",
   "metadata": {},
   "source": [
    "## List of tuples\n",
    "\n",
    "Convert list to dict, then use `pandas.DataFrame.from_dict`."
   ]
  },
  {
   "cell_type": "code",
   "execution_count": 5,
   "metadata": {},
   "outputs": [
    {
     "data": {
      "text/html": [
       "<div>\n",
       "<style scoped>\n",
       "    .dataframe tbody tr th:only-of-type {\n",
       "        vertical-align: middle;\n",
       "    }\n",
       "\n",
       "    .dataframe tbody tr th {\n",
       "        vertical-align: top;\n",
       "    }\n",
       "\n",
       "    .dataframe thead th {\n",
       "        text-align: right;\n",
       "    }\n",
       "</style>\n",
       "<table border=\"1\" class=\"dataframe\">\n",
       "  <thead>\n",
       "    <tr style=\"text-align: right;\">\n",
       "      <th></th>\n",
       "      <th>name</th>\n",
       "      <th>address</th>\n",
       "    </tr>\n",
       "  </thead>\n",
       "  <tbody>\n",
       "    <tr>\n",
       "      <th>0</th>\n",
       "      <td>Richard M. Daley Branch</td>\n",
       "      <td>733 N Kedzie Ave, Chicago, IL 60612</td>\n",
       "    </tr>\n",
       "    <tr>\n",
       "      <th>1</th>\n",
       "      <td>West Town Branch</td>\n",
       "      <td>1625 W Chicago Ave, Chicago, IL 60622</td>\n",
       "    </tr>\n",
       "    <tr>\n",
       "      <th>2</th>\n",
       "      <td>Humboldt Park Branch</td>\n",
       "      <td>1605 N Troy St, Chicago, IL 60647</td>\n",
       "    </tr>\n",
       "  </tbody>\n",
       "</table>\n",
       "</div>"
      ],
      "text/plain": [
       "                      name                                address\n",
       "0  Richard M. Daley Branch    733 N Kedzie Ave, Chicago, IL 60612\n",
       "1         West Town Branch  1625 W Chicago Ave, Chicago, IL 60622\n",
       "2     Humboldt Park Branch      1605 N Troy St, Chicago, IL 60647"
      ]
     },
     "execution_count": 5,
     "metadata": {},
     "output_type": "execute_result"
    }
   ],
   "source": [
    "library_data = [\n",
    "    ('name', ['Richard M. Daley Branch', 'West Town Branch', 'Humboldt Park Branch']),\n",
    "    ('address', ['733 N Kedzie Ave, Chicago, IL 60612', '1625 W Chicago Ave, Chicago, IL 60622', '1605 N Troy St, Chicago, IL 60647']),\n",
    "]\n",
    "\n",
    "# You could use pd.DataFrame.from_dict(OrderedDict(library_data)) to preserve column order.\n",
    "libraries = pd.DataFrame.from_dict(dict(library_data))\n",
    "\n",
    "libraries"
   ]
  },
  {
   "cell_type": "code",
   "execution_count": null,
   "metadata": {},
   "outputs": [],
   "source": []
  }
 ],
 "metadata": {
  "jupytext": {
   "formats": "ipynb,Rmd"
  },
  "kernelspec": {
   "display_name": "Python 3",
   "language": "python",
   "name": "python3"
  },
  "language_info": {
   "codemirror_mode": {
    "name": "ipython",
    "version": 3
   },
   "file_extension": ".py",
   "mimetype": "text/x-python",
   "name": "python",
   "nbconvert_exporter": "python",
   "pygments_lexer": "ipython3",
   "version": "3.6.4"
  }
 },
 "nbformat": 4,
 "nbformat_minor": 2
}
