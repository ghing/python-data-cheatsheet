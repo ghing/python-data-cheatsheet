{
 "cells": [
  {
   "cell_type": "markdown",
   "metadata": {},
   "source": [
    "# Percentages of a group"
   ]
  },
  {
   "cell_type": "code",
   "execution_count": 1,
   "metadata": {},
   "outputs": [],
   "source": [
    "import pandas as pd\n",
    "import seaborn as sns\n",
    "\n",
    "# HACK: The HTTPS request to download the sample data fails without this.\n",
    "import ssl\n",
    "ssl._create_default_https_context = ssl._create_unverified_context"
   ]
  },
  {
   "cell_type": "code",
   "execution_count": 2,
   "metadata": {},
   "outputs": [
    {
     "data": {
      "text/html": [
       "<div>\n",
       "<style scoped>\n",
       "    .dataframe tbody tr th:only-of-type {\n",
       "        vertical-align: middle;\n",
       "    }\n",
       "\n",
       "    .dataframe tbody tr th {\n",
       "        vertical-align: top;\n",
       "    }\n",
       "\n",
       "    .dataframe thead th {\n",
       "        text-align: right;\n",
       "    }\n",
       "</style>\n",
       "<table border=\"1\" class=\"dataframe\">\n",
       "  <thead>\n",
       "    <tr style=\"text-align: right;\">\n",
       "      <th></th>\n",
       "      <th>total_bill</th>\n",
       "      <th>tip</th>\n",
       "      <th>sex</th>\n",
       "      <th>smoker</th>\n",
       "      <th>day</th>\n",
       "      <th>time</th>\n",
       "      <th>size</th>\n",
       "    </tr>\n",
       "  </thead>\n",
       "  <tbody>\n",
       "    <tr>\n",
       "      <th>0</th>\n",
       "      <td>16.99</td>\n",
       "      <td>1.01</td>\n",
       "      <td>Female</td>\n",
       "      <td>No</td>\n",
       "      <td>Sun</td>\n",
       "      <td>Dinner</td>\n",
       "      <td>2</td>\n",
       "    </tr>\n",
       "    <tr>\n",
       "      <th>1</th>\n",
       "      <td>10.34</td>\n",
       "      <td>1.66</td>\n",
       "      <td>Male</td>\n",
       "      <td>No</td>\n",
       "      <td>Sun</td>\n",
       "      <td>Dinner</td>\n",
       "      <td>3</td>\n",
       "    </tr>\n",
       "    <tr>\n",
       "      <th>2</th>\n",
       "      <td>21.01</td>\n",
       "      <td>3.50</td>\n",
       "      <td>Male</td>\n",
       "      <td>No</td>\n",
       "      <td>Sun</td>\n",
       "      <td>Dinner</td>\n",
       "      <td>3</td>\n",
       "    </tr>\n",
       "    <tr>\n",
       "      <th>3</th>\n",
       "      <td>23.68</td>\n",
       "      <td>3.31</td>\n",
       "      <td>Male</td>\n",
       "      <td>No</td>\n",
       "      <td>Sun</td>\n",
       "      <td>Dinner</td>\n",
       "      <td>2</td>\n",
       "    </tr>\n",
       "    <tr>\n",
       "      <th>4</th>\n",
       "      <td>24.59</td>\n",
       "      <td>3.61</td>\n",
       "      <td>Female</td>\n",
       "      <td>No</td>\n",
       "      <td>Sun</td>\n",
       "      <td>Dinner</td>\n",
       "      <td>4</td>\n",
       "    </tr>\n",
       "  </tbody>\n",
       "</table>\n",
       "</div>"
      ],
      "text/plain": [
       "   total_bill   tip     sex smoker  day    time  size\n",
       "0       16.99  1.01  Female     No  Sun  Dinner     2\n",
       "1       10.34  1.66    Male     No  Sun  Dinner     3\n",
       "2       21.01  3.50    Male     No  Sun  Dinner     3\n",
       "3       23.68  3.31    Male     No  Sun  Dinner     2\n",
       "4       24.59  3.61  Female     No  Sun  Dinner     4"
      ]
     },
     "execution_count": 2,
     "metadata": {},
     "output_type": "execute_result"
    }
   ],
   "source": [
    "# Load some sample data\n",
    "\n",
    "tips = sns.load_dataset('tips')\n",
    "tips.head()"
   ]
  },
  {
   "cell_type": "markdown",
   "metadata": {},
   "source": [
    "Panda's [crosstab()](https://pandas.pydata.org/pandas-docs/version/0.23.4/generated/pandas.crosstab.html) can be a useful way to inspect relationships between categorical variables."
   ]
  },
  {
   "cell_type": "code",
   "execution_count": 3,
   "metadata": {},
   "outputs": [
    {
     "data": {
      "text/html": [
       "<div>\n",
       "<style scoped>\n",
       "    .dataframe tbody tr th:only-of-type {\n",
       "        vertical-align: middle;\n",
       "    }\n",
       "\n",
       "    .dataframe tbody tr th {\n",
       "        vertical-align: top;\n",
       "    }\n",
       "\n",
       "    .dataframe thead th {\n",
       "        text-align: right;\n",
       "    }\n",
       "</style>\n",
       "<table border=\"1\" class=\"dataframe\">\n",
       "  <thead>\n",
       "    <tr style=\"text-align: right;\">\n",
       "      <th>time</th>\n",
       "      <th>Lunch</th>\n",
       "      <th>Dinner</th>\n",
       "    </tr>\n",
       "    <tr>\n",
       "      <th>sex</th>\n",
       "      <th></th>\n",
       "      <th></th>\n",
       "    </tr>\n",
       "  </thead>\n",
       "  <tbody>\n",
       "    <tr>\n",
       "      <th>Male</th>\n",
       "      <td>33</td>\n",
       "      <td>124</td>\n",
       "    </tr>\n",
       "    <tr>\n",
       "      <th>Female</th>\n",
       "      <td>35</td>\n",
       "      <td>52</td>\n",
       "    </tr>\n",
       "  </tbody>\n",
       "</table>\n",
       "</div>"
      ],
      "text/plain": [
       "time    Lunch  Dinner\n",
       "sex                  \n",
       "Male       33     124\n",
       "Female     35      52"
      ]
     },
     "execution_count": 3,
     "metadata": {},
     "output_type": "execute_result"
    }
   ],
   "source": [
    "pd.crosstab(tips['sex'], tips['time'])"
   ]
  },
  {
   "cell_type": "markdown",
   "metadata": {},
   "source": [
    "You can use the `normalize` argument to report percentages of the cells."
   ]
  },
  {
   "cell_type": "code",
   "execution_count": 4,
   "metadata": {},
   "outputs": [
    {
     "data": {
      "text/html": [
       "<style  type=\"text/css\" >\n",
       "</style><table id=\"T_13347362_3a1a_11e9_805b_8c8590ad7789\" ><thead>    <tr>        <th class=\"index_name level0\" >time</th>        <th class=\"col_heading level0 col0\" >Lunch</th>        <th class=\"col_heading level0 col1\" >Dinner</th>    </tr>    <tr>        <th class=\"index_name level0\" >sex</th>        <th class=\"blank\" ></th>        <th class=\"blank\" ></th>    </tr></thead><tbody>\n",
       "                <tr>\n",
       "                        <th id=\"T_13347362_3a1a_11e9_805b_8c8590ad7789level0_row0\" class=\"row_heading level0 row0\" >Male</th>\n",
       "                        <td id=\"T_13347362_3a1a_11e9_805b_8c8590ad7789row0_col0\" class=\"data row0 col0\" >13.5%</td>\n",
       "                        <td id=\"T_13347362_3a1a_11e9_805b_8c8590ad7789row0_col1\" class=\"data row0 col1\" >50.8%</td>\n",
       "            </tr>\n",
       "            <tr>\n",
       "                        <th id=\"T_13347362_3a1a_11e9_805b_8c8590ad7789level0_row1\" class=\"row_heading level0 row1\" >Female</th>\n",
       "                        <td id=\"T_13347362_3a1a_11e9_805b_8c8590ad7789row1_col0\" class=\"data row1 col0\" >14.3%</td>\n",
       "                        <td id=\"T_13347362_3a1a_11e9_805b_8c8590ad7789row1_col1\" class=\"data row1 col1\" >21.3%</td>\n",
       "            </tr>\n",
       "    </tbody></table>"
      ],
      "text/plain": [
       "<pandas.io.formats.style.Styler at 0x1179b5438>"
      ]
     },
     "execution_count": 4,
     "metadata": {},
     "output_type": "execute_result"
    }
   ],
   "source": [
    "pd.crosstab(tips['sex'], tips['time'], normalize=True).style.format(\"{:.1%}\")"
   ]
  },
  {
   "cell_type": "markdown",
   "metadata": {},
   "source": [
    "By default, it gives the percentage of the cell across both axis, but you can specify \"index\" or \"columns\" to normalize on a particular axis."
   ]
  },
  {
   "cell_type": "code",
   "execution_count": 5,
   "metadata": {},
   "outputs": [
    {
     "data": {
      "text/html": [
       "<style  type=\"text/css\" >\n",
       "</style><table id=\"T_133dc406_3a1a_11e9_b7c5_8c8590ad7789\" ><thead>    <tr>        <th class=\"index_name level0\" >time</th>        <th class=\"col_heading level0 col0\" >Lunch</th>        <th class=\"col_heading level0 col1\" >Dinner</th>    </tr>    <tr>        <th class=\"index_name level0\" >sex</th>        <th class=\"blank\" ></th>        <th class=\"blank\" ></th>    </tr></thead><tbody>\n",
       "                <tr>\n",
       "                        <th id=\"T_133dc406_3a1a_11e9_b7c5_8c8590ad7789level0_row0\" class=\"row_heading level0 row0\" >Male</th>\n",
       "                        <td id=\"T_133dc406_3a1a_11e9_b7c5_8c8590ad7789row0_col0\" class=\"data row0 col0\" >21.0%</td>\n",
       "                        <td id=\"T_133dc406_3a1a_11e9_b7c5_8c8590ad7789row0_col1\" class=\"data row0 col1\" >79.0%</td>\n",
       "            </tr>\n",
       "            <tr>\n",
       "                        <th id=\"T_133dc406_3a1a_11e9_b7c5_8c8590ad7789level0_row1\" class=\"row_heading level0 row1\" >Female</th>\n",
       "                        <td id=\"T_133dc406_3a1a_11e9_b7c5_8c8590ad7789row1_col0\" class=\"data row1 col0\" >40.2%</td>\n",
       "                        <td id=\"T_133dc406_3a1a_11e9_b7c5_8c8590ad7789row1_col1\" class=\"data row1 col1\" >59.8%</td>\n",
       "            </tr>\n",
       "    </tbody></table>"
      ],
      "text/plain": [
       "<pandas.io.formats.style.Styler at 0x117a25198>"
      ]
     },
     "execution_count": 5,
     "metadata": {},
     "output_type": "execute_result"
    }
   ],
   "source": [
    "pd.crosstab(tips['sex'], tips['time'], normalize='index').style.format(\"{:.1%}\")"
   ]
  },
  {
   "cell_type": "code",
   "execution_count": 6,
   "metadata": {},
   "outputs": [
    {
     "data": {
      "text/html": [
       "<style  type=\"text/css\" >\n",
       "</style><table id=\"T_1343ccde_3a1a_11e9_907d_8c8590ad7789\" ><thead>    <tr>        <th class=\"index_name level0\" >time</th>        <th class=\"col_heading level0 col0\" >Lunch</th>        <th class=\"col_heading level0 col1\" >Dinner</th>    </tr>    <tr>        <th class=\"index_name level0\" >sex</th>        <th class=\"blank\" ></th>        <th class=\"blank\" ></th>    </tr></thead><tbody>\n",
       "                <tr>\n",
       "                        <th id=\"T_1343ccde_3a1a_11e9_907d_8c8590ad7789level0_row0\" class=\"row_heading level0 row0\" >Male</th>\n",
       "                        <td id=\"T_1343ccde_3a1a_11e9_907d_8c8590ad7789row0_col0\" class=\"data row0 col0\" >48.5%</td>\n",
       "                        <td id=\"T_1343ccde_3a1a_11e9_907d_8c8590ad7789row0_col1\" class=\"data row0 col1\" >70.5%</td>\n",
       "            </tr>\n",
       "            <tr>\n",
       "                        <th id=\"T_1343ccde_3a1a_11e9_907d_8c8590ad7789level0_row1\" class=\"row_heading level0 row1\" >Female</th>\n",
       "                        <td id=\"T_1343ccde_3a1a_11e9_907d_8c8590ad7789row1_col0\" class=\"data row1 col0\" >51.5%</td>\n",
       "                        <td id=\"T_1343ccde_3a1a_11e9_907d_8c8590ad7789row1_col1\" class=\"data row1 col1\" >29.5%</td>\n",
       "            </tr>\n",
       "    </tbody></table>"
      ],
      "text/plain": [
       "<pandas.io.formats.style.Styler at 0x117b5ad68>"
      ]
     },
     "execution_count": 6,
     "metadata": {},
     "output_type": "execute_result"
    }
   ],
   "source": [
    "pd.crosstab(tips['sex'], tips['time'], normalize='columns').style.format(\"{:.1%}\")"
   ]
  },
  {
   "cell_type": "code",
   "execution_count": null,
   "metadata": {},
   "outputs": [],
   "source": []
  }
 ],
 "metadata": {
  "jupytext": {
   "formats": "ipynb,Rmd"
  },
  "kernelspec": {
   "display_name": "Python 3",
   "language": "python",
   "name": "python3"
  },
  "language_info": {
   "codemirror_mode": {
    "name": "ipython",
    "version": 3
   },
   "file_extension": ".py",
   "mimetype": "text/x-python",
   "name": "python",
   "nbconvert_exporter": "python",
   "pygments_lexer": "ipython3",
   "version": "3.6.4"
  }
 },
 "nbformat": 4,
 "nbformat_minor": 2
}
