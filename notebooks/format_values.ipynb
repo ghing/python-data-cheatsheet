{
 "cells": [
  {
   "cell_type": "markdown",
   "metadata": {},
   "source": [
    "# Format DataFrame values\n",
    "\n",
    "See the [styling docs](https://pandas.pydata.org/pandas-docs/stable/style.html) especially, [this section](https://pandas.pydata.org/pandas-docs/stable/style.html#Finer-Control:-Display-Values)."
   ]
  },
  {
   "cell_type": "code",
   "execution_count": 1,
   "metadata": {},
   "outputs": [],
   "source": [
    "# Setup\n",
    "\n",
    "import pandas as pd"
   ]
  },
  {
   "cell_type": "markdown",
   "metadata": {},
   "source": [
    "## Create toy data"
   ]
  },
  {
   "cell_type": "code",
   "execution_count": 2,
   "metadata": {},
   "outputs": [],
   "source": [
    "# Create toy data\n",
    "\n",
    "data = [\n",
    "    (1000, .624324324),\n",
    "    (10000, .91241)\n",
    "]\n",
    "\n",
    "df = pd.DataFrame.from_records(data, columns=['big_number', 'pct'])\n",
    "\n",
    "df_exponents = pd.DataFrame.from_dict({\n",
    "    \"col_1\": [10 ** i for i in range (10)],\n",
    "    \"col_2\": [2 ** i for i in range (10)],\n",
    "})"
   ]
  },
  {
   "cell_type": "markdown",
   "metadata": {},
   "source": [
    "## Use `DataFrame.style.format`"
   ]
  },
  {
   "cell_type": "markdown",
   "metadata": {},
   "source": [
    "By default, Pandas doesn't format numeric values when displaying a DataFrame."
   ]
  },
  {
   "cell_type": "code",
   "execution_count": 3,
   "metadata": {},
   "outputs": [
    {
     "data": {
      "text/html": [
       "<div>\n",
       "<style scoped>\n",
       "    .dataframe tbody tr th:only-of-type {\n",
       "        vertical-align: middle;\n",
       "    }\n",
       "\n",
       "    .dataframe tbody tr th {\n",
       "        vertical-align: top;\n",
       "    }\n",
       "\n",
       "    .dataframe thead th {\n",
       "        text-align: right;\n",
       "    }\n",
       "</style>\n",
       "<table border=\"1\" class=\"dataframe\">\n",
       "  <thead>\n",
       "    <tr style=\"text-align: right;\">\n",
       "      <th></th>\n",
       "      <th>big_number</th>\n",
       "      <th>pct</th>\n",
       "    </tr>\n",
       "  </thead>\n",
       "  <tbody>\n",
       "    <tr>\n",
       "      <th>0</th>\n",
       "      <td>1000</td>\n",
       "      <td>0.624324</td>\n",
       "    </tr>\n",
       "    <tr>\n",
       "      <th>1</th>\n",
       "      <td>10000</td>\n",
       "      <td>0.912410</td>\n",
       "    </tr>\n",
       "  </tbody>\n",
       "</table>\n",
       "</div>"
      ],
      "text/plain": [
       "   big_number       pct\n",
       "0        1000  0.624324\n",
       "1       10000  0.912410"
      ]
     },
     "execution_count": 3,
     "metadata": {},
     "output_type": "execute_result"
    }
   ],
   "source": [
    "# Show default styling of numbers\n",
    "\n",
    "df"
   ]
  },
  {
   "cell_type": "markdown",
   "metadata": {},
   "source": [
    "However, you can use [`Styler.format()`](https://pandas.pydata.org/docs/reference/api/pandas.io.formats.style.Styler.format.html) which is accessible as the `.format()` method of the `.style` attribute of a `DataFrame`, i.e. `df.style.format(...)`, to format the values in the `DataFrame`."
   ]
  },
  {
   "cell_type": "markdown",
   "metadata": {},
   "source": [
    "### Using different format strings for each column\n",
    "\n",
    "Most often I specify a dictionary mapping column names to [Python format strings](https://pyformat.info)."
   ]
  },
  {
   "cell_type": "code",
   "execution_count": 4,
   "metadata": {},
   "outputs": [
    {
     "data": {
      "text/html": [
       "<style type=\"text/css\">\n",
       "</style>\n",
       "<table id=\"T_a18ca\">\n",
       "  <thead>\n",
       "    <tr>\n",
       "      <th class=\"blank level0\" >&nbsp;</th>\n",
       "      <th id=\"T_a18ca_level0_col0\" class=\"col_heading level0 col0\" >big_number</th>\n",
       "      <th id=\"T_a18ca_level0_col1\" class=\"col_heading level0 col1\" >pct</th>\n",
       "    </tr>\n",
       "  </thead>\n",
       "  <tbody>\n",
       "    <tr>\n",
       "      <th id=\"T_a18ca_level0_row0\" class=\"row_heading level0 row0\" >0</th>\n",
       "      <td id=\"T_a18ca_row0_col0\" class=\"data row0 col0\" >1,000</td>\n",
       "      <td id=\"T_a18ca_row0_col1\" class=\"data row0 col1\" >62.4%</td>\n",
       "    </tr>\n",
       "    <tr>\n",
       "      <th id=\"T_a18ca_level0_row1\" class=\"row_heading level0 row1\" >1</th>\n",
       "      <td id=\"T_a18ca_row1_col0\" class=\"data row1 col0\" >10,000</td>\n",
       "      <td id=\"T_a18ca_row1_col1\" class=\"data row1 col1\" >91.2%</td>\n",
       "    </tr>\n",
       "  </tbody>\n",
       "</table>\n"
      ],
      "text/plain": [
       "<pandas.io.formats.style.Styler at 0x11d1df3a0>"
      ]
     },
     "execution_count": 4,
     "metadata": {},
     "output_type": "execute_result"
    }
   ],
   "source": [
    "# Use style.format\n",
    "\n",
    "df.style.format({\n",
    "    'big_number': '{:,}',\n",
    "    'pct': '{:.1%}',\n",
    "})"
   ]
  },
  {
   "cell_type": "markdown",
   "metadata": {},
   "source": [
    "### Using a single format string for all values"
   ]
  },
  {
   "cell_type": "markdown",
   "metadata": {},
   "source": [
    "The above example shows specifying formats with the `formatter` argument by passing a dictionary that maps from column names to format strings."
   ]
  },
  {
   "cell_type": "markdown",
   "metadata": {},
   "source": [
    "This argument can also be a single format string, if you want to use the same format for all columns."
   ]
  },
  {
   "cell_type": "code",
   "execution_count": 5,
   "metadata": {},
   "outputs": [
    {
     "data": {
      "text/html": [
       "<div>\n",
       "<style scoped>\n",
       "    .dataframe tbody tr th:only-of-type {\n",
       "        vertical-align: middle;\n",
       "    }\n",
       "\n",
       "    .dataframe tbody tr th {\n",
       "        vertical-align: top;\n",
       "    }\n",
       "\n",
       "    .dataframe thead th {\n",
       "        text-align: right;\n",
       "    }\n",
       "</style>\n",
       "<table border=\"1\" class=\"dataframe\">\n",
       "  <thead>\n",
       "    <tr style=\"text-align: right;\">\n",
       "      <th></th>\n",
       "      <th>col_1</th>\n",
       "      <th>col_2</th>\n",
       "    </tr>\n",
       "  </thead>\n",
       "  <tbody>\n",
       "    <tr>\n",
       "      <th>0</th>\n",
       "      <td>1</td>\n",
       "      <td>1</td>\n",
       "    </tr>\n",
       "    <tr>\n",
       "      <th>1</th>\n",
       "      <td>10</td>\n",
       "      <td>2</td>\n",
       "    </tr>\n",
       "    <tr>\n",
       "      <th>2</th>\n",
       "      <td>100</td>\n",
       "      <td>4</td>\n",
       "    </tr>\n",
       "    <tr>\n",
       "      <th>3</th>\n",
       "      <td>1000</td>\n",
       "      <td>8</td>\n",
       "    </tr>\n",
       "    <tr>\n",
       "      <th>4</th>\n",
       "      <td>10000</td>\n",
       "      <td>16</td>\n",
       "    </tr>\n",
       "    <tr>\n",
       "      <th>5</th>\n",
       "      <td>100000</td>\n",
       "      <td>32</td>\n",
       "    </tr>\n",
       "    <tr>\n",
       "      <th>6</th>\n",
       "      <td>1000000</td>\n",
       "      <td>64</td>\n",
       "    </tr>\n",
       "    <tr>\n",
       "      <th>7</th>\n",
       "      <td>10000000</td>\n",
       "      <td>128</td>\n",
       "    </tr>\n",
       "    <tr>\n",
       "      <th>8</th>\n",
       "      <td>100000000</td>\n",
       "      <td>256</td>\n",
       "    </tr>\n",
       "    <tr>\n",
       "      <th>9</th>\n",
       "      <td>1000000000</td>\n",
       "      <td>512</td>\n",
       "    </tr>\n",
       "  </tbody>\n",
       "</table>\n",
       "</div>"
      ],
      "text/plain": [
       "        col_1  col_2\n",
       "0           1      1\n",
       "1          10      2\n",
       "2         100      4\n",
       "3        1000      8\n",
       "4       10000     16\n",
       "5      100000     32\n",
       "6     1000000     64\n",
       "7    10000000    128\n",
       "8   100000000    256\n",
       "9  1000000000    512"
      ]
     },
     "execution_count": 5,
     "metadata": {},
     "output_type": "execute_result"
    }
   ],
   "source": [
    "# Show unformatted DataFrame\n",
    "\n",
    "df_exponents"
   ]
  },
  {
   "cell_type": "code",
   "execution_count": 6,
   "metadata": {},
   "outputs": [
    {
     "data": {
      "text/html": [
       "<style type=\"text/css\">\n",
       "</style>\n",
       "<table id=\"T_3d55d\">\n",
       "  <thead>\n",
       "    <tr>\n",
       "      <th class=\"blank level0\" >&nbsp;</th>\n",
       "      <th id=\"T_3d55d_level0_col0\" class=\"col_heading level0 col0\" >col_1</th>\n",
       "      <th id=\"T_3d55d_level0_col1\" class=\"col_heading level0 col1\" >col_2</th>\n",
       "    </tr>\n",
       "  </thead>\n",
       "  <tbody>\n",
       "    <tr>\n",
       "      <th id=\"T_3d55d_level0_row0\" class=\"row_heading level0 row0\" >0</th>\n",
       "      <td id=\"T_3d55d_row0_col0\" class=\"data row0 col0\" >1</td>\n",
       "      <td id=\"T_3d55d_row0_col1\" class=\"data row0 col1\" >1</td>\n",
       "    </tr>\n",
       "    <tr>\n",
       "      <th id=\"T_3d55d_level0_row1\" class=\"row_heading level0 row1\" >1</th>\n",
       "      <td id=\"T_3d55d_row1_col0\" class=\"data row1 col0\" >10</td>\n",
       "      <td id=\"T_3d55d_row1_col1\" class=\"data row1 col1\" >2</td>\n",
       "    </tr>\n",
       "    <tr>\n",
       "      <th id=\"T_3d55d_level0_row2\" class=\"row_heading level0 row2\" >2</th>\n",
       "      <td id=\"T_3d55d_row2_col0\" class=\"data row2 col0\" >100</td>\n",
       "      <td id=\"T_3d55d_row2_col1\" class=\"data row2 col1\" >4</td>\n",
       "    </tr>\n",
       "    <tr>\n",
       "      <th id=\"T_3d55d_level0_row3\" class=\"row_heading level0 row3\" >3</th>\n",
       "      <td id=\"T_3d55d_row3_col0\" class=\"data row3 col0\" >1,000</td>\n",
       "      <td id=\"T_3d55d_row3_col1\" class=\"data row3 col1\" >8</td>\n",
       "    </tr>\n",
       "    <tr>\n",
       "      <th id=\"T_3d55d_level0_row4\" class=\"row_heading level0 row4\" >4</th>\n",
       "      <td id=\"T_3d55d_row4_col0\" class=\"data row4 col0\" >10,000</td>\n",
       "      <td id=\"T_3d55d_row4_col1\" class=\"data row4 col1\" >16</td>\n",
       "    </tr>\n",
       "    <tr>\n",
       "      <th id=\"T_3d55d_level0_row5\" class=\"row_heading level0 row5\" >5</th>\n",
       "      <td id=\"T_3d55d_row5_col0\" class=\"data row5 col0\" >100,000</td>\n",
       "      <td id=\"T_3d55d_row5_col1\" class=\"data row5 col1\" >32</td>\n",
       "    </tr>\n",
       "    <tr>\n",
       "      <th id=\"T_3d55d_level0_row6\" class=\"row_heading level0 row6\" >6</th>\n",
       "      <td id=\"T_3d55d_row6_col0\" class=\"data row6 col0\" >1,000,000</td>\n",
       "      <td id=\"T_3d55d_row6_col1\" class=\"data row6 col1\" >64</td>\n",
       "    </tr>\n",
       "    <tr>\n",
       "      <th id=\"T_3d55d_level0_row7\" class=\"row_heading level0 row7\" >7</th>\n",
       "      <td id=\"T_3d55d_row7_col0\" class=\"data row7 col0\" >10,000,000</td>\n",
       "      <td id=\"T_3d55d_row7_col1\" class=\"data row7 col1\" >128</td>\n",
       "    </tr>\n",
       "    <tr>\n",
       "      <th id=\"T_3d55d_level0_row8\" class=\"row_heading level0 row8\" >8</th>\n",
       "      <td id=\"T_3d55d_row8_col0\" class=\"data row8 col0\" >100,000,000</td>\n",
       "      <td id=\"T_3d55d_row8_col1\" class=\"data row8 col1\" >256</td>\n",
       "    </tr>\n",
       "    <tr>\n",
       "      <th id=\"T_3d55d_level0_row9\" class=\"row_heading level0 row9\" >9</th>\n",
       "      <td id=\"T_3d55d_row9_col0\" class=\"data row9 col0\" >1,000,000,000</td>\n",
       "      <td id=\"T_3d55d_row9_col1\" class=\"data row9 col1\" >512</td>\n",
       "    </tr>\n",
       "  </tbody>\n",
       "</table>\n"
      ],
      "text/plain": [
       "<pandas.io.formats.style.Styler at 0x11e4f8c40>"
      ]
     },
     "execution_count": 6,
     "metadata": {},
     "output_type": "execute_result"
    }
   ],
   "source": [
    "# Format all values using the same format string\n",
    "\n",
    "df_exponents.style.format(\"{:,.0f}\")"
   ]
  },
  {
   "cell_type": "markdown",
   "metadata": {},
   "source": [
    "### Using a function\n",
    "\n",
    "You can also pass a function to the `Styler.format()`. For example, what if `col_2` represents the number of minutes and I want to format this in `HH:MM:SS` format."
   ]
  },
  {
   "cell_type": "code",
   "execution_count": 7,
   "metadata": {},
   "outputs": [
    {
     "data": {
      "text/html": [
       "<style type=\"text/css\">\n",
       "</style>\n",
       "<table id=\"T_84357\">\n",
       "  <thead>\n",
       "    <tr>\n",
       "      <th class=\"blank level0\" >&nbsp;</th>\n",
       "      <th id=\"T_84357_level0_col0\" class=\"col_heading level0 col0\" >col_1</th>\n",
       "      <th id=\"T_84357_level0_col1\" class=\"col_heading level0 col1\" >col_2</th>\n",
       "    </tr>\n",
       "  </thead>\n",
       "  <tbody>\n",
       "    <tr>\n",
       "      <th id=\"T_84357_level0_row0\" class=\"row_heading level0 row0\" >0</th>\n",
       "      <td id=\"T_84357_row0_col0\" class=\"data row0 col0\" >1</td>\n",
       "      <td id=\"T_84357_row0_col1\" class=\"data row0 col1\" >0:01:00</td>\n",
       "    </tr>\n",
       "    <tr>\n",
       "      <th id=\"T_84357_level0_row1\" class=\"row_heading level0 row1\" >1</th>\n",
       "      <td id=\"T_84357_row1_col0\" class=\"data row1 col0\" >10</td>\n",
       "      <td id=\"T_84357_row1_col1\" class=\"data row1 col1\" >0:02:00</td>\n",
       "    </tr>\n",
       "    <tr>\n",
       "      <th id=\"T_84357_level0_row2\" class=\"row_heading level0 row2\" >2</th>\n",
       "      <td id=\"T_84357_row2_col0\" class=\"data row2 col0\" >100</td>\n",
       "      <td id=\"T_84357_row2_col1\" class=\"data row2 col1\" >0:04:00</td>\n",
       "    </tr>\n",
       "    <tr>\n",
       "      <th id=\"T_84357_level0_row3\" class=\"row_heading level0 row3\" >3</th>\n",
       "      <td id=\"T_84357_row3_col0\" class=\"data row3 col0\" >1,000</td>\n",
       "      <td id=\"T_84357_row3_col1\" class=\"data row3 col1\" >0:08:00</td>\n",
       "    </tr>\n",
       "    <tr>\n",
       "      <th id=\"T_84357_level0_row4\" class=\"row_heading level0 row4\" >4</th>\n",
       "      <td id=\"T_84357_row4_col0\" class=\"data row4 col0\" >10,000</td>\n",
       "      <td id=\"T_84357_row4_col1\" class=\"data row4 col1\" >0:16:00</td>\n",
       "    </tr>\n",
       "    <tr>\n",
       "      <th id=\"T_84357_level0_row5\" class=\"row_heading level0 row5\" >5</th>\n",
       "      <td id=\"T_84357_row5_col0\" class=\"data row5 col0\" >100,000</td>\n",
       "      <td id=\"T_84357_row5_col1\" class=\"data row5 col1\" >0:32:00</td>\n",
       "    </tr>\n",
       "    <tr>\n",
       "      <th id=\"T_84357_level0_row6\" class=\"row_heading level0 row6\" >6</th>\n",
       "      <td id=\"T_84357_row6_col0\" class=\"data row6 col0\" >1,000,000</td>\n",
       "      <td id=\"T_84357_row6_col1\" class=\"data row6 col1\" >1:04:00</td>\n",
       "    </tr>\n",
       "    <tr>\n",
       "      <th id=\"T_84357_level0_row7\" class=\"row_heading level0 row7\" >7</th>\n",
       "      <td id=\"T_84357_row7_col0\" class=\"data row7 col0\" >10,000,000</td>\n",
       "      <td id=\"T_84357_row7_col1\" class=\"data row7 col1\" >2:08:00</td>\n",
       "    </tr>\n",
       "    <tr>\n",
       "      <th id=\"T_84357_level0_row8\" class=\"row_heading level0 row8\" >8</th>\n",
       "      <td id=\"T_84357_row8_col0\" class=\"data row8 col0\" >100,000,000</td>\n",
       "      <td id=\"T_84357_row8_col1\" class=\"data row8 col1\" >4:16:00</td>\n",
       "    </tr>\n",
       "    <tr>\n",
       "      <th id=\"T_84357_level0_row9\" class=\"row_heading level0 row9\" >9</th>\n",
       "      <td id=\"T_84357_row9_col0\" class=\"data row9 col0\" >1,000,000,000</td>\n",
       "      <td id=\"T_84357_row9_col1\" class=\"data row9 col1\" >8:32:00</td>\n",
       "    </tr>\n",
       "  </tbody>\n",
       "</table>\n"
      ],
      "text/plain": [
       "<pandas.io.formats.style.Styler at 0x11d1df940>"
      ]
     },
     "execution_count": 7,
     "metadata": {},
     "output_type": "execute_result"
    }
   ],
   "source": [
    "# Show example of formatting using a function\n",
    "\n",
    "def timedelta_total_hours(td):\n",
    "    \"\"\"Returns total hours represented by td, converting days to hours\"\"\"\n",
    "    return (td.components.days * 24) + td.components.hours\n",
    "\n",
    "def format_timedelta_as_hours(td):\n",
    "    \"\"\"Format a timedelta in HH:MM:SS format\"\"\"\n",
    "    total_hours = timedelta_total_hours(td)\n",
    "    return f\"{total_hours:,d}:{td.components.minutes:02d}:{td.components.seconds:02d}\"\n",
    "\n",
    "def format_minutes(minutes):\n",
    "    \"\"\"Format number of minutes in HH:MM:SS format\"\"\"\n",
    "    return format_timedelta_as_hours(pd.Timedelta(minutes=minutes))\n",
    "\n",
    "df_exponents.style.format({\n",
    "    \"col_1\": \"{:,.0f}\",\n",
    "    \"col_2\": format_minutes\n",
    "})"
   ]
  },
  {
   "cell_type": "markdown",
   "metadata": {},
   "source": [
    "## Use the `precision`, and `thousands` arguments\n",
    "\n",
    "Instead of specifying a format string or function (or dictionary of those) for `formatter`, you can also specify the `precision` and `thousands` arguments to limit the number of decimal points and separate each group of thousands with a comma. There are a few other arguments to `Styler.format()`, so [read the docs](https://pandas.pydata.org/docs/reference/api/pandas.io.formats.style.Styler.format.html)!"
   ]
  },
  {
   "cell_type": "markdown",
   "metadata": {},
   "source": [
    "Here's a reminder of what the unformatted data looks like."
   ]
  },
  {
   "cell_type": "code",
   "execution_count": 8,
   "metadata": {},
   "outputs": [
    {
     "data": {
      "text/html": [
       "<div>\n",
       "<style scoped>\n",
       "    .dataframe tbody tr th:only-of-type {\n",
       "        vertical-align: middle;\n",
       "    }\n",
       "\n",
       "    .dataframe tbody tr th {\n",
       "        vertical-align: top;\n",
       "    }\n",
       "\n",
       "    .dataframe thead th {\n",
       "        text-align: right;\n",
       "    }\n",
       "</style>\n",
       "<table border=\"1\" class=\"dataframe\">\n",
       "  <thead>\n",
       "    <tr style=\"text-align: right;\">\n",
       "      <th></th>\n",
       "      <th>big_number</th>\n",
       "      <th>pct</th>\n",
       "    </tr>\n",
       "  </thead>\n",
       "  <tbody>\n",
       "    <tr>\n",
       "      <th>0</th>\n",
       "      <td>1000</td>\n",
       "      <td>0.624324</td>\n",
       "    </tr>\n",
       "    <tr>\n",
       "      <th>1</th>\n",
       "      <td>10000</td>\n",
       "      <td>0.912410</td>\n",
       "    </tr>\n",
       "  </tbody>\n",
       "</table>\n",
       "</div>"
      ],
      "text/plain": [
       "   big_number       pct\n",
       "0        1000  0.624324\n",
       "1       10000  0.912410"
      ]
     },
     "execution_count": 8,
     "metadata": {},
     "output_type": "execute_result"
    }
   ],
   "source": [
    "# Show the unformatted DataFrame again\n",
    "\n",
    "df"
   ]
  },
  {
   "cell_type": "code",
   "execution_count": 9,
   "metadata": {},
   "outputs": [
    {
     "data": {
      "text/html": [
       "<style type=\"text/css\">\n",
       "</style>\n",
       "<table id=\"T_d293c\">\n",
       "  <thead>\n",
       "    <tr>\n",
       "      <th class=\"blank level0\" >&nbsp;</th>\n",
       "      <th id=\"T_d293c_level0_col0\" class=\"col_heading level0 col0\" >big_number</th>\n",
       "      <th id=\"T_d293c_level0_col1\" class=\"col_heading level0 col1\" >pct</th>\n",
       "    </tr>\n",
       "  </thead>\n",
       "  <tbody>\n",
       "    <tr>\n",
       "      <th id=\"T_d293c_level0_row0\" class=\"row_heading level0 row0\" >0</th>\n",
       "      <td id=\"T_d293c_row0_col0\" class=\"data row0 col0\" >1,000</td>\n",
       "      <td id=\"T_d293c_row0_col1\" class=\"data row0 col1\" >0.62</td>\n",
       "    </tr>\n",
       "    <tr>\n",
       "      <th id=\"T_d293c_level0_row1\" class=\"row_heading level0 row1\" >1</th>\n",
       "      <td id=\"T_d293c_row1_col0\" class=\"data row1 col0\" >10,000</td>\n",
       "      <td id=\"T_d293c_row1_col1\" class=\"data row1 col1\" >0.91</td>\n",
       "    </tr>\n",
       "  </tbody>\n",
       "</table>\n"
      ],
      "text/plain": [
       "<pandas.io.formats.style.Styler at 0x11e565520>"
      ]
     },
     "execution_count": 9,
     "metadata": {},
     "output_type": "execute_result"
    }
   ],
   "source": [
    "# Use the `precision` and `thousands` arguments to `Styler.format()` instead\n",
    "# of specifying a `formatter`.\n",
    "\n",
    "df.style.format(precision=2, thousands=\",\")"
   ]
  },
  {
   "cell_type": "markdown",
   "metadata": {},
   "source": [
    "## Different formatters for different rows\n",
    "\n",
    "In the vast majority of cases, I want to vary the format by column, but one case where I would want to vary the format by *rows* is the output of [`Series.describe()`](https://pandas.pydata.org/docs/reference/api/pandas.Series.describe.html).\n",
    "\n",
    "Consider again the case where we want to treat `col_2` of the `df_exponents` `DataFrame` as minutes."
   ]
  },
  {
   "cell_type": "code",
   "execution_count": 10,
   "metadata": {},
   "outputs": [
    {
     "data": {
      "text/html": [
       "<div>\n",
       "<style scoped>\n",
       "    .dataframe tbody tr th:only-of-type {\n",
       "        vertical-align: middle;\n",
       "    }\n",
       "\n",
       "    .dataframe tbody tr th {\n",
       "        vertical-align: top;\n",
       "    }\n",
       "\n",
       "    .dataframe thead th {\n",
       "        text-align: right;\n",
       "    }\n",
       "</style>\n",
       "<table border=\"1\" class=\"dataframe\">\n",
       "  <thead>\n",
       "    <tr style=\"text-align: right;\">\n",
       "      <th></th>\n",
       "      <th>col_2</th>\n",
       "    </tr>\n",
       "  </thead>\n",
       "  <tbody>\n",
       "    <tr>\n",
       "      <th>count</th>\n",
       "      <td>10.00000</td>\n",
       "    </tr>\n",
       "    <tr>\n",
       "      <th>mean</th>\n",
       "      <td>102.30000</td>\n",
       "    </tr>\n",
       "    <tr>\n",
       "      <th>std</th>\n",
       "      <td>164.94851</td>\n",
       "    </tr>\n",
       "    <tr>\n",
       "      <th>min</th>\n",
       "      <td>1.00000</td>\n",
       "    </tr>\n",
       "    <tr>\n",
       "      <th>25%</th>\n",
       "      <td>5.00000</td>\n",
       "    </tr>\n",
       "    <tr>\n",
       "      <th>50%</th>\n",
       "      <td>24.00000</td>\n",
       "    </tr>\n",
       "    <tr>\n",
       "      <th>75%</th>\n",
       "      <td>112.00000</td>\n",
       "    </tr>\n",
       "    <tr>\n",
       "      <th>max</th>\n",
       "      <td>512.00000</td>\n",
       "    </tr>\n",
       "  </tbody>\n",
       "</table>\n",
       "</div>"
      ],
      "text/plain": [
       "           col_2\n",
       "count   10.00000\n",
       "mean   102.30000\n",
       "std    164.94851\n",
       "min      1.00000\n",
       "25%      5.00000\n",
       "50%     24.00000\n",
       "75%    112.00000\n",
       "max    512.00000"
      ]
     },
     "execution_count": 10,
     "metadata": {},
     "output_type": "execute_result"
    }
   ],
   "source": [
    "# Descriptive statistics for `col_2`\n",
    "\n",
    "df_exponents[[\"col_2\"]].describe()"
   ]
  },
  {
   "cell_type": "markdown",
   "metadata": {},
   "source": [
    "In this case, I might want to format the quartiles, minimum and mean as hours, minutes and seconds, but `count` will always be the number of records, an integer. `Styler.format()` has a `subset` argument, but the way you select rows is completely unintuitive unless you do a lot of advanced indexing.\n",
    "\n",
    "I found the clearest way to do this is to use [`pd.IndexSlice`](https://pandas.pydata.org/docs/reference/api/pandas.IndexSlice.html) to specify a slice that selects particular rows and columns."
   ]
  },
  {
   "cell_type": "code",
   "execution_count": 11,
   "metadata": {},
   "outputs": [
    {
     "data": {
      "text/html": [
       "<style type=\"text/css\">\n",
       "</style>\n",
       "<table id=\"T_86157\">\n",
       "  <thead>\n",
       "    <tr>\n",
       "      <th class=\"blank level0\" >&nbsp;</th>\n",
       "      <th id=\"T_86157_level0_col0\" class=\"col_heading level0 col0\" >col_2</th>\n",
       "    </tr>\n",
       "  </thead>\n",
       "  <tbody>\n",
       "    <tr>\n",
       "      <th id=\"T_86157_level0_row0\" class=\"row_heading level0 row0\" >count</th>\n",
       "      <td id=\"T_86157_row0_col0\" class=\"data row0 col0\" >10</td>\n",
       "    </tr>\n",
       "    <tr>\n",
       "      <th id=\"T_86157_level0_row1\" class=\"row_heading level0 row1\" >mean</th>\n",
       "      <td id=\"T_86157_row1_col0\" class=\"data row1 col0\" >1:42:18</td>\n",
       "    </tr>\n",
       "    <tr>\n",
       "      <th id=\"T_86157_level0_row2\" class=\"row_heading level0 row2\" >std</th>\n",
       "      <td id=\"T_86157_row2_col0\" class=\"data row2 col0\" >2:44:56</td>\n",
       "    </tr>\n",
       "    <tr>\n",
       "      <th id=\"T_86157_level0_row3\" class=\"row_heading level0 row3\" >min</th>\n",
       "      <td id=\"T_86157_row3_col0\" class=\"data row3 col0\" >0:01:00</td>\n",
       "    </tr>\n",
       "    <tr>\n",
       "      <th id=\"T_86157_level0_row4\" class=\"row_heading level0 row4\" >25%</th>\n",
       "      <td id=\"T_86157_row4_col0\" class=\"data row4 col0\" >0:05:00</td>\n",
       "    </tr>\n",
       "    <tr>\n",
       "      <th id=\"T_86157_level0_row5\" class=\"row_heading level0 row5\" >50%</th>\n",
       "      <td id=\"T_86157_row5_col0\" class=\"data row5 col0\" >0:24:00</td>\n",
       "    </tr>\n",
       "    <tr>\n",
       "      <th id=\"T_86157_level0_row6\" class=\"row_heading level0 row6\" >75%</th>\n",
       "      <td id=\"T_86157_row6_col0\" class=\"data row6 col0\" >1:52:00</td>\n",
       "    </tr>\n",
       "    <tr>\n",
       "      <th id=\"T_86157_level0_row7\" class=\"row_heading level0 row7\" >max</th>\n",
       "      <td id=\"T_86157_row7_col0\" class=\"data row7 col0\" >8:32:00</td>\n",
       "    </tr>\n",
       "  </tbody>\n",
       "</table>\n"
      ],
      "text/plain": [
       "<pandas.io.formats.style.Styler at 0x1042d2310>"
      ]
     },
     "execution_count": 11,
     "metadata": {},
     "output_type": "execute_result"
    }
   ],
   "source": [
    "idx = pd.IndexSlice\n",
    "\n",
    "# Wrap this expression in parens so I can break it up onto multiple lines\n",
    "# for legibility.\n",
    "(\n",
    "    df_exponents[[\"col_2\"]].describe()\n",
    "        .style\n",
    "            # Default format for most rows, as hours, minutes and seconds\n",
    "            .format(format_minutes)\n",
    "            # Special format for `count`\n",
    "            .format(\n",
    "                # Specify the format string\n",
    "                \"{:,.0f}\",\n",
    "                # Specify the rows and columns that will use this formatter\n",
    "                subset=idx[\"count\", :]\n",
    "            )\n",
    ")"
   ]
  },
  {
   "cell_type": "code",
   "execution_count": null,
   "metadata": {},
   "outputs": [],
   "source": []
  }
 ],
 "metadata": {
  "jupytext": {
   "formats": "ipynb,Rmd"
  },
  "kernelspec": {
   "display_name": "python-data-cheatsheet",
   "language": "python",
   "name": "python-data-cheatsheet"
  },
  "language_info": {
   "codemirror_mode": {
    "name": "ipython",
    "version": 3
   },
   "file_extension": ".py",
   "mimetype": "text/x-python",
   "name": "python",
   "nbconvert_exporter": "python",
   "pygments_lexer": "ipython3",
   "version": "3.9.4"
  }
 },
 "nbformat": 4,
 "nbformat_minor": 4
}
